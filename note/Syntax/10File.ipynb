{
 "cells": [
  {
   "cell_type": "markdown",
   "id": "b886ad8e-e911-40f6-a4db-1cdabfdd4d28",
   "metadata": {
    "tags": []
   },
   "source": [
    "# 文件操作\n",
    "\n",
    "## 一、文件操作作用\n",
    "\n",
    "计算机中出现的都可以视作文件。\n",
    "\n",
    "基本操作：\n",
    "\n",
    "打开、关闭、读写、复制...\n",
    "\n",
    "作用：把一些内容（数据）存放起来，可以让下一次程序执行时直接使用，而不必重新制作一份。\n",
    "\n",
    "eg.学员管理系统\n",
    "\n",
    "## 二、文件基本操作\n",
    "\n",
    "### 1.一般步骤\n",
    "\n",
    "打开文件 －> 读写等操作 －> 关闭文件"
   ]
  },
  {
   "cell_type": "code",
   "execution_count": 1,
   "id": "d92318fd-05d7-422a-a7c6-bd034dd8fff2",
   "metadata": {},
   "outputs": [],
   "source": [
    "# open函数，两个参数，第一个参数为路径，第二个参数为读取模式\n",
    "file = open('1.txt', 'w')  # open函数返回文件对象\n",
    "\n",
    "file.write('aaa')  # 读写都是对象方法\n",
    "\n",
    "file.close()  # 关闭也是对象方法"
   ]
  },
  {
   "cell_type": "markdown",
   "id": "d3931221-787d-4db8-b1a3-5e4deaf73a78",
   "metadata": {},
   "source": [
    "### 2.访问模式\n",
    "\n",
    "与C的内容基本相同：r只读、w只写、a追加"
   ]
  },
  {
   "cell_type": "code",
   "execution_count": 4,
   "id": "0dae0c16-0fce-4c84-936f-17a21c0f3463",
   "metadata": {},
   "outputs": [
    {
     "name": "stdout",
     "output_type": "stream",
     "text": [
      "aaa\n"
     ]
    }
   ],
   "source": [
    "file = open('1.txt', 'r')\n",
    "\n",
    "str0 = file.read()\n",
    "\n",
    "print(str0)\n",
    "\n",
    "file.close()"
   ]
  },
  {
   "cell_type": "markdown",
   "id": "cce3e17a-53f7-41dd-9f8d-c3ec2d6e327d",
   "metadata": {},
   "source": [
    "需要注意的是，当文件不存在时，只读模式报错；写入时报错。"
   ]
  },
  {
   "cell_type": "code",
   "execution_count": 7,
   "id": "eb570aff-e6cf-4d2e-9cd9-50a945870672",
   "metadata": {},
   "outputs": [
    {
     "ename": "FileNotFoundError",
     "evalue": "[Errno 2] No such file or directory: '2.txt'",
     "output_type": "error",
     "traceback": [
      "\u001b[0;31m---------------------------------------------------------------------------\u001b[0m",
      "\u001b[0;31mFileNotFoundError\u001b[0m                         Traceback (most recent call last)",
      "Input \u001b[0;32mIn [7]\u001b[0m, in \u001b[0;36m<cell line: 1>\u001b[0;34m()\u001b[0m\n\u001b[0;32m----> 1\u001b[0m file \u001b[38;5;241m=\u001b[39m \u001b[38;5;28;43mopen\u001b[39;49m\u001b[43m(\u001b[49m\u001b[38;5;124;43m'\u001b[39;49m\u001b[38;5;124;43m2.txt\u001b[39;49m\u001b[38;5;124;43m'\u001b[39;49m\u001b[43m,\u001b[49m\u001b[43m \u001b[49m\u001b[38;5;124;43m'\u001b[39;49m\u001b[38;5;124;43mr\u001b[39;49m\u001b[38;5;124;43m'\u001b[39;49m\u001b[43m)\u001b[49m\n",
      "\u001b[0;31mFileNotFoundError\u001b[0m: [Errno 2] No such file or directory: '2.txt'"
     ]
    }
   ],
   "source": [
    "file = open('2.txt', 'r')"
   ]
  },
  {
   "cell_type": "code",
   "execution_count": 9,
   "id": "e213ec6b-128f-4d60-adfd-aad56090c69e",
   "metadata": {},
   "outputs": [],
   "source": [
    "file = open('2.txt', 'w')  # 文件不存在新建\n",
    "\n",
    "file.write('bbb')\n",
    "\n",
    "file.close()"
   ]
  },
  {
   "cell_type": "markdown",
   "id": "de06d78d-c098-4f49-9097-643e9f556204",
   "metadata": {},
   "source": [
    "只写模式在文件不存在时创建新的文件，注意书写内容是完全覆盖。\n",
    "\n",
    "追加模式，文件不存在创建新的文件，在文件后追加内容。"
   ]
  },
  {
   "cell_type": "code",
   "execution_count": 11,
   "id": "65054f32-c47e-4d13-9608-a161228fc2e9",
   "metadata": {},
   "outputs": [],
   "source": [
    "file = open('2.txt', 'a')\n",
    "\n",
    "file.write('ccc')\n",
    "\n",
    "file.close()"
   ]
  },
  {
   "cell_type": "markdown",
   "id": "2449867b-3f53-4e26-9e78-527e63deba23",
   "metadata": {},
   "source": [
    "访问模式缺省，则以只读形式打开文件。"
   ]
  },
  {
   "cell_type": "markdown",
   "id": "9a092463-6ebf-45b0-8266-5740c49ab757",
   "metadata": {},
   "source": [
    "类似于C语言，带b表示操作文件为二进制，+表示可读可写。\n",
    "\n",
    "注意：各种模式都基于主模式，rb r+ rb+均会报错，a+ ab ab+文件指针都在结尾。\n",
    "\n",
    "要有**文件指**针的概念。"
   ]
  },
  {
   "cell_type": "code",
   "execution_count": 47,
   "id": "50d7e981-5c2e-4096-b890-082833a9f74b",
   "metadata": {},
   "outputs": [
    {
     "name": "stdout",
     "output_type": "stream",
     "text": [
      "\n"
     ]
    }
   ],
   "source": [
    "file = open('2.txt', 'w+')\n",
    "\n",
    "file.write('\\nhaha')\n",
    "print(file.read())  # 文件指针走到末尾\n",
    "\n",
    "file.close()"
   ]
  },
  {
   "cell_type": "markdown",
   "id": "2377c1f8-d409-4fef-9343-e3f61469ad1e",
   "metadata": {},
   "source": [
    "可以很好的明确w+、r+和a+的区别，前二者打开时文件指针均在开始，但w+直接将文件清空。a+与r+都不会清空原内容，但a+文件指针在文件结尾。\n",
    "\n",
    "其余一点，基于基础的操作，任何r的形式都不创建不存在的文件，而任何的w和a均可以创建。"
   ]
  },
  {
   "cell_type": "markdown",
   "id": "d757324e-e07b-4a9e-aabb-2a753bedf8ad",
   "metadata": {},
   "source": [
    "### 3.读取操作"
   ]
  },
  {
   "cell_type": "code",
   "execution_count": 18,
   "id": "e15b65ae-34f3-4a0b-8f12-a6e46389af88",
   "metadata": {},
   "outputs": [
    {
     "name": "stdout",
     "output_type": "stream",
     "text": [
      "<class 'str'> bbbcccccc\n",
      "\n"
     ]
    }
   ],
   "source": [
    "file = open('2.txt', 'r')\n",
    "\n",
    "str0 = file.read(10)  # 参数是指定读取位数，单位是字节\n",
    "# 参数缺省读取所有内容\n",
    "\n",
    "print(type(str0), str0)\n",
    "# 读取的内容是字符串\n",
    "\n",
    "file.close()"
   ]
  },
  {
   "cell_type": "code",
   "execution_count": 31,
   "id": "77d9dc1e-9828-4c77-a937-2cd7ae8ebb25",
   "metadata": {},
   "outputs": [
    {
     "name": "stdout",
     "output_type": "stream",
     "text": [
      "['bbbcccccc\\n', 'aadjbjkdbkjvfbj\\n', 'dvbjkbvbrubjbvjd\\n', 'ddd\\n', 'svbjkbvjr\\n', 'sss']\n"
     ]
    }
   ],
   "source": [
    "file = open('2.txt', 'r')\n",
    "\n",
    "str_list = file.readlines()\n",
    "# 返回字符串列表，包含换行符\n",
    "\n",
    "print(str_list)\n",
    "\n",
    "file.close()"
   ]
  },
  {
   "cell_type": "code",
   "execution_count": 49,
   "id": "9ea6c17e-3eaa-4519-8c85-69ca96e542fa",
   "metadata": {},
   "outputs": [
    {
     "name": "stdout",
     "output_type": "stream",
     "text": [
      "\n",
      "\n",
      "haha\n",
      "[]\n"
     ]
    }
   ],
   "source": [
    "file = open('2.txt', 'r')\n",
    "\n",
    "str0 = file.readline()  # 换行符也被写入\n",
    "\n",
    "print(str0)\n",
    "\n",
    "str0 = file.readline()  # 继续读后续行，类似于文件指针\n",
    "\n",
    "print(str0)\n",
    "\n",
    "str0 = file.readlines()\n",
    "# 继续读后续所有行，类似于文件指针\n",
    "\n",
    "print(str0)\n",
    "\n",
    "file.close()"
   ]
  },
  {
   "cell_type": "markdown",
   "id": "9263a6a9-0939-4b3e-a7f6-23c92ef1cda0",
   "metadata": {},
   "source": [
    "### 4.seek函数\n",
    "\n",
    "语法：\n",
    "\n",
    "```py\n",
    "文件对象.seek(偏移量, 起始位置)\n",
    "```\n",
    "\n",
    "0：文件开头，1表示当前位置，2文件结尾\n",
    "\n",
    "偏移量以字节为单位，本质就是一个字符。\n",
    "\n",
    "在Python3中，若不是二进制模式打开文件，只能相对于起始位置偏移。二进制模式暂时不涉及。"
   ]
  },
  {
   "cell_type": "code",
   "execution_count": 68,
   "id": "fe60a368-3abc-47a6-b48c-78f81622db8f",
   "metadata": {},
   "outputs": [
    {
     "name": "stdout",
     "output_type": "stream",
     "text": [
      "b'01'\n"
     ]
    }
   ],
   "source": [
    "file = open('2.txt', 'rb+')\n",
    "\n",
    "file.seek(-2, 2)\n",
    "\n",
    "print(file.read())  # 无输出\n",
    "\n",
    "file.close()"
   ]
  },
  {
   "cell_type": "code",
   "execution_count": 69,
   "id": "6a83e8f2-ccc1-4150-b97d-491000fbb856",
   "metadata": {},
   "outputs": [
    {
     "name": "stdout",
     "output_type": "stream",
     "text": [
      "0010111111101101\n"
     ]
    }
   ],
   "source": [
    "file = open('2.txt', 'a+')\n",
    "\n",
    "file.seek(0, 0)\n",
    "\n",
    "print(file.read())\n",
    "\n",
    "file.close()"
   ]
  },
  {
   "cell_type": "markdown",
   "id": "02a9d451-2377-4fdb-bfb1-40ae0c6052f4",
   "metadata": {},
   "source": [
    "## 三、文件备份\n",
    "\n",
    "数据很珍贵，因此在数据操作前进行备份。\n",
    "\n",
    "## 四、文件操作函数\n",
    "\n",
    "函数操作函数"
   ]
  },
  {
   "cell_type": "code",
   "execution_count": 78,
   "id": "d28deef5-3d44-4925-9148-9964cf08b804",
   "metadata": {},
   "outputs": [],
   "source": [
    "import os\n",
    "\n",
    "f = open('3.txt', 'w')\n",
    "f.close()\n",
    "\n",
    "os.rename('3.txt', '20.txt')\n",
    "os.remove('20.txt')"
   ]
  },
  {
   "cell_type": "code",
   "execution_count": 85,
   "id": "407a8fbd-c8b7-4f6c-91eb-33707706818e",
   "metadata": {},
   "outputs": [],
   "source": [
    "os.mkdir('haha')  # 创建文件夹\n",
    "# 已经存在的文件夹不能再创建"
   ]
  },
  {
   "cell_type": "code",
   "execution_count": 86,
   "id": "2ad4bab3-2bd0-488f-9930-5c8b4f425573",
   "metadata": {},
   "outputs": [],
   "source": [
    "os.rename('haha', 'aa')"
   ]
  },
  {
   "cell_type": "code",
   "execution_count": 87,
   "id": "30efee00-751e-4988-b2ad-f4081897abb0",
   "metadata": {},
   "outputs": [],
   "source": [
    "os.rmdir('aa')"
   ]
  },
  {
   "cell_type": "code",
   "execution_count": 90,
   "id": "9a215e1f-e54e-487a-a214-a7234d0e734c",
   "metadata": {},
   "outputs": [
    {
     "name": "stdout",
     "output_type": "stream",
     "text": [
      "/home/lighthouse/Program/ProgramLanguage/Python/Syntax\n"
     ]
    }
   ],
   "source": [
    "print(os.getcwd())"
   ]
  },
  {
   "cell_type": "code",
   "execution_count": 93,
   "id": "02209bfc-0599-473e-aaf9-ba2f02fb99f4",
   "metadata": {},
   "outputs": [
    {
     "name": "stdout",
     "output_type": "stream",
     "text": [
      "/home/lighthouse\n"
     ]
    }
   ],
   "source": [
    "os.chdir('/home/lighthouse')\n",
    "print(os.getcwd())"
   ]
  },
  {
   "cell_type": "code",
   "execution_count": 97,
   "id": "3b6a4b48-686f-4a8d-b67f-f1fb174785b5",
   "metadata": {},
   "outputs": [
    {
     "name": "stdout",
     "output_type": "stream",
     "text": [
      "['.cache', '.viminfo', 'anaconda3', '.vscode-server', '.ipython', '.virtual_documents', '.condarc', '.profile', '.config', '.bash_logout', '.yarn', '.local', '.Xauthority', '.jupyter', '.python_history', '.bashrc', '.show', '.bash_history', '.wget-hsts', 'Program', '.npm', '.conda', '.ssh', '.platformio', '.main.c.swp']\n"
     ]
    }
   ],
   "source": [
    "print(os.listdir())  # 获取当前目录下的所有文件目录"
   ]
  },
  {
   "cell_type": "code",
   "execution_count": 2,
   "id": "7e4c4629-1559-41ce-958f-12c2f9df5b88",
   "metadata": {},
   "outputs": [
    {
     "name": "stdout",
     "output_type": "stream",
     "text": [
      "['lighthouse']\n"
     ]
    }
   ],
   "source": [
    "import os\n",
    "\n",
    "print(os.listdir('/home/'))  # 返回对象是list"
   ]
  },
  {
   "cell_type": "markdown",
   "id": "5478e51a-eb52-4122-af2e-494b42f85bd8",
   "metadata": {},
   "source": [
    "案例：\n",
    "\n",
    "批量处理文件名。\n",
    "\n",
    "```py\n",
    "import os\n",
    "\n",
    "os.chdir('./test/')\n",
    "\n",
    "flag = True\n",
    "\n",
    "if flag == True:\n",
    "    file_list = os.listdir()\n",
    "    \n",
    "    for i in file_list:\n",
    "        if i[0] != '.':\n",
    "            new_name = 'Py_' + i\n",
    "            os.rename(i, new_name)\n",
    "        \n",
    "else:\n",
    "    file_list = os.listdir()\n",
    "    \n",
    "    for i in file_list:\n",
    "        if i[0] != '.':\n",
    "            new_name = i[len('Py_'):]\n",
    "            os.rename(i, new_name)\n",
    "```"
   ]
  }
 ],
 "metadata": {
  "kernelspec": {
   "display_name": "Python 3 (ipykernel)",
   "language": "python",
   "name": "python3"
  },
  "language_info": {
   "codemirror_mode": {
    "name": "ipython",
    "version": 3
   },
   "file_extension": ".py",
   "mimetype": "text/x-python",
   "name": "python",
   "nbconvert_exporter": "python",
   "pygments_lexer": "ipython3",
   "version": "3.10.2"
  }
 },
 "nbformat": 4,
 "nbformat_minor": 5
}
