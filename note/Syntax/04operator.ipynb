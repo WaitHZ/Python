{
 "cells": [
  {
   "cell_type": "markdown",
   "id": "7cc84407-035d-485c-9be4-cbb387535611",
   "metadata": {},
   "source": [
    "# 第4节 Python中的运算符"
   ]
  },
  {
   "cell_type": "markdown",
   "id": "7a1b5db4-93b6-46cc-8b61-ee46e417e477",
   "metadata": {},
   "source": [
    "## 1.运算符的分类\n",
    "\n",
    "算数运算符、赋值运算符、复合赋值运算符、比较运算符、逻辑运算符\n",
    "\n",
    "## 2.算数运算符\n",
    "\n",
    "包含：（**）、（*、/、//、%）、（+、-），分属三个运算优先级 \n",
    "\n",
    "和C语言不同的是，//和%对运算数据没有整形的要求\n",
    "\n",
    "和C语言相同的是，单次运算存在着自动类型转化，除法运算的结果一定是浮点数"
   ]
  },
  {
   "cell_type": "code",
   "execution_count": 2,
   "id": "b7a6b1ab-f860-46e5-b5df-45f280284607",
   "metadata": {},
   "outputs": [
    {
     "data": {
      "text/plain": [
       "4105"
      ]
     },
     "execution_count": 2,
     "metadata": {},
     "output_type": "execute_result"
    }
   ],
   "source": [
    "2 ** (3 * 4) + 9"
   ]
  },
  {
   "cell_type": "markdown",
   "id": "3864e024-25aa-43ce-99df-1eb8338e9f0f",
   "metadata": {},
   "source": [
    "以上的运算结果为$2^{12} + 9$"
   ]
  },
  {
   "cell_type": "markdown",
   "id": "4040c3b9-1bec-4bef-b77c-d1092a06be97",
   "metadata": {},
   "source": [
    "## 3.赋值运算符"
   ]
  },
  {
   "cell_type": "code",
   "execution_count": 4,
   "id": "3ca2091a-327b-4bc9-9723-d5c957510a4d",
   "metadata": {},
   "outputs": [
    {
     "data": {
      "text/plain": [
       "1"
      ]
     },
     "execution_count": 4,
     "metadata": {},
     "output_type": "execute_result"
    }
   ],
   "source": [
    "# 单个变量赋值\n",
    "a = 1\n",
    "a"
   ]
  },
  {
   "cell_type": "code",
   "execution_count": 5,
   "id": "4ec9a331-a712-4599-afad-48205e59ce85",
   "metadata": {},
   "outputs": [
    {
     "name": "stdout",
     "output_type": "stream",
     "text": [
      "2 3\n"
     ]
    }
   ],
   "source": [
    "# 多个变量赋值\n",
    "a, b = 2, 3\n",
    "print(a, b)"
   ]
  },
  {
   "cell_type": "code",
   "execution_count": 7,
   "id": "d4aa5ca7-78e0-4bc5-b90f-cd7211eef6cd",
   "metadata": {},
   "outputs": [
    {
     "name": "stdout",
     "output_type": "stream",
     "text": [
      "4 4\n",
      "139721659826512 139721659826512\n"
     ]
    }
   ],
   "source": [
    "# 多个变量赋相同值\n",
    "a = b = 4  # 做了相同的引用，好在不可变数据类型，使用不影响\n",
    "print(a, b)\n",
    "print(id(a), id(b))"
   ]
  },
  {
   "cell_type": "markdown",
   "id": "98a0b6b0-c4b8-4ecb-95f1-5151f3415fe6",
   "metadata": {},
   "source": [
    "**赋值时*的使用，利用列表存储多个数据**"
   ]
  },
  {
   "cell_type": "code",
   "execution_count": 8,
   "id": "1838355f-dec1-4f4d-a7d5-78606938399d",
   "metadata": {},
   "outputs": [
    {
     "name": "stdout",
     "output_type": "stream",
     "text": [
      "1 [2, 3, 6]\n"
     ]
    }
   ],
   "source": [
    "a, *b = 1, 2, 3, 6\n",
    "print(a, b)"
   ]
  },
  {
   "cell_type": "markdown",
   "id": "5c6407d1-e3b2-4557-bc5c-7a7ac285a13f",
   "metadata": {},
   "source": [
    "## 4.复合赋值运算符\n",
    "\n",
    "即运算符和等号复合，如+=、**=等\n",
    "\n",
    "执行顺序：先计算算术运算符，再实现向左侧变量的赋值\n",
    "\n",
    "a += 2 等价于 a = a + 2"
   ]
  },
  {
   "cell_type": "code",
   "execution_count": 9,
   "id": "6d83ff62-fd7d-4b54-b19e-0bdca801fc5d",
   "metadata": {},
   "outputs": [
    {
     "data": {
      "text/plain": [
       "11"
      ]
     },
     "execution_count": 9,
     "metadata": {},
     "output_type": "execute_result"
    }
   ],
   "source": [
    "a = 10\n",
    "a += 1\n",
    "a"
   ]
  },
  {
   "cell_type": "code",
   "execution_count": 10,
   "id": "6b4c707c-fcd4-439c-9c85-f71675429a79",
   "metadata": {},
   "outputs": [
    {
     "data": {
      "text/plain": [
       "9"
      ]
     },
     "execution_count": 10,
     "metadata": {},
     "output_type": "execute_result"
    }
   ],
   "source": [
    "b = 10\n",
    "b -= 1\n",
    "b"
   ]
  },
  {
   "cell_type": "code",
   "execution_count": 13,
   "id": "86a0a4ff-cb35-4f5f-8e42-3b41abb60cbe",
   "metadata": {},
   "outputs": [
    {
     "data": {
      "text/plain": [
       "12"
      ]
     },
     "execution_count": 13,
     "metadata": {},
     "output_type": "execute_result"
    }
   ],
   "source": [
    "# 赋值运算符优先级低于算数运算符\n",
    "c = 10\n",
    "c += 1 * 2  # 先计算乘法，再执行复合赋值\n",
    "c"
   ]
  },
  {
   "cell_type": "markdown",
   "id": "2eca8f6d-e256-4171-8abb-65f4acfbd9a2",
   "metadata": {},
   "source": [
    "## 5.比较运算符\n",
    "\n",
    "有以下六种：\n",
    "\n",
    "< > == >= <= !=\n",
    "\n",
    "比较运算的结果是bool型（True或False）"
   ]
  },
  {
   "cell_type": "code",
   "execution_count": 1,
   "id": "e2da23bb-f72a-4068-b500-e13c48e64cae",
   "metadata": {},
   "outputs": [
    {
     "data": {
      "text/plain": [
       "False"
      ]
     },
     "execution_count": 1,
     "metadata": {},
     "output_type": "execute_result"
    }
   ],
   "source": [
    "2 == 3"
   ]
  },
  {
   "cell_type": "code",
   "execution_count": 3,
   "id": "1f34b2c6-3464-46a0-a631-b4d15bc40d27",
   "metadata": {},
   "outputs": [
    {
     "data": {
      "text/plain": [
       "True"
      ]
     },
     "execution_count": 3,
     "metadata": {},
     "output_type": "execute_result"
    }
   ],
   "source": [
    "# 重点：数值类型可以直接通过比较运算进行判断\n",
    "a = 4\n",
    "int == type(a)"
   ]
  },
  {
   "cell_type": "code",
   "execution_count": 4,
   "id": "ef5f89f9-1e43-4cc1-9b8a-42bd791aaf99",
   "metadata": {},
   "outputs": [
    {
     "data": {
      "text/plain": [
       "True"
      ]
     },
     "execution_count": 4,
     "metadata": {},
     "output_type": "execute_result"
    }
   ],
   "source": [
    "# Python中不等号可以连用\n",
    "5 < 6 < 9"
   ]
  },
  {
   "cell_type": "markdown",
   "id": "07fb9280-148b-4c1e-b7d1-dd30327589b1",
   "metadata": {},
   "source": [
    "## 6.逻辑运算符\n",
    "\n",
    "### a.bool型的逻辑运算\n",
    "\n",
    "如下三种：\n",
    "\n",
    "not、and、or"
   ]
  },
  {
   "cell_type": "code",
   "execution_count": 5,
   "id": "43ccb577-dc2f-43ec-8d13-936286a8ddce",
   "metadata": {},
   "outputs": [
    {
     "data": {
      "text/plain": [
       "True"
      ]
     },
     "execution_count": 5,
     "metadata": {},
     "output_type": "execute_result"
    }
   ],
   "source": [
    "a, b, c = 1, 2, 3\n",
    "(a < b) and (b < c)"
   ]
  },
  {
   "cell_type": "code",
   "execution_count": 6,
   "id": "f94f1ed4-1438-40e4-9e8f-b67cd0a3b7dc",
   "metadata": {},
   "outputs": [
    {
     "data": {
      "text/plain": [
       "False"
      ]
     },
     "execution_count": 6,
     "metadata": {},
     "output_type": "execute_result"
    }
   ],
   "source": [
    "not (a < b)"
   ]
  },
  {
   "cell_type": "markdown",
   "id": "d06e59d1-2b67-45a9-9a96-679b2c7cd133",
   "metadata": {},
   "source": [
    "### b.书写习惯\n",
    "\n",
    "虽然优先级保证a < b and b < c等价于(a < b) and (b < c)，但为了代码的可读性，加上括号使得代码更加清晰"
   ]
  },
  {
   "cell_type": "markdown",
   "id": "c908b5ea-a04b-46b0-8b56-9065a495c656",
   "metadata": {},
   "source": [
    "### c.数字逻辑运算\n",
    "\n",
    "Python中除了False以外，还有两个结果表示假：0与None（空值）\n",
    "\n",
    "在数字的逻辑运算中，也更容易体现出and和or的逻辑短路"
   ]
  },
  {
   "cell_type": "code",
   "execution_count": 9,
   "id": "371103f6-8416-48c3-a5d8-72939672666a",
   "metadata": {},
   "outputs": [
    {
     "data": {
      "text/plain": [
       "0"
      ]
     },
     "execution_count": 9,
     "metadata": {},
     "output_type": "execute_result"
    }
   ],
   "source": [
    "1 and 0"
   ]
  },
  {
   "cell_type": "code",
   "execution_count": 10,
   "id": "9571103e-7f0b-400a-8c23-22f3adbad7a4",
   "metadata": {},
   "outputs": [
    {
     "data": {
      "text/plain": [
       "1"
      ]
     },
     "execution_count": 10,
     "metadata": {},
     "output_type": "execute_result"
    }
   ],
   "source": [
    "1 or 0"
   ]
  },
  {
   "cell_type": "code",
   "execution_count": 11,
   "id": "d09ed85d-a9cb-4ace-8857-6414b65e5899",
   "metadata": {},
   "outputs": [
    {
     "data": {
      "text/plain": [
       "3"
      ]
     },
     "execution_count": 11,
     "metadata": {},
     "output_type": "execute_result"
    }
   ],
   "source": [
    "2 and 3  # 若都不为0，返回最后一个非0数字"
   ]
  },
  {
   "cell_type": "code",
   "execution_count": 12,
   "id": "85fd899f-e21c-4c58-bf2b-3ef377292824",
   "metadata": {},
   "outputs": [
    {
     "data": {
      "text/plain": [
       "2"
      ]
     },
     "execution_count": 12,
     "metadata": {},
     "output_type": "execute_result"
    }
   ],
   "source": [
    "2 or 3  # 返回第一个不为0的数字"
   ]
  }
 ],
 "metadata": {
  "kernelspec": {
   "display_name": "Python 3 (ipykernel)",
   "language": "python",
   "name": "python3"
  },
  "language_info": {
   "codemirror_mode": {
    "name": "ipython",
    "version": 3
   },
   "file_extension": ".py",
   "mimetype": "text/x-python",
   "name": "python",
   "nbconvert_exporter": "python",
   "pygments_lexer": "ipython3",
   "version": "3.10.2"
  }
 },
 "nbformat": 4,
 "nbformat_minor": 5
}
