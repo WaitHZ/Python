{
 "cells": [
  {
   "cell_type": "markdown",
   "id": "e465a4ba-c34b-4996-84a6-18eec3659269",
   "metadata": {},
   "source": [
    "# 第3节 输入输出与数据类型转化\n",
    "\n",
    "## 1.输出\n",
    "\n",
    "### a.%方法\n",
    "\n",
    "#### 格式化符号\n",
    "\n",
    "%s、%d、%f等，均与C语言的格式输出控制符使用相同"
   ]
  },
  {
   "cell_type": "code",
   "execution_count": 1,
   "id": "09f24af2-c4f9-404e-9de3-0e83379c3c2e",
   "metadata": {},
   "outputs": [
    {
     "name": "stdout",
     "output_type": "stream",
     "text": [
      "今年我的年龄是18\n",
      "我的名字是Tom\n",
      "我的体重是75.50kg\n",
      "我的学号是001\n",
      "明年我的年龄是19\n",
      "我的名字是Tom，今年18岁了\n",
      "我的名字是Tom，今年18岁了，体重75.50公斤，学号是001\n"
     ]
    }
   ],
   "source": [
    "age = 18\n",
    "name = 'Tom'\n",
    "weight = 75.5\n",
    "stu_id = 1\n",
    "\n",
    "print('今年我的年龄是%d'%age)  # %增加相关关系\n",
    "print('我的名字是%s'%name)\n",
    "print('我的体重是%.2fkg'%weight)\n",
    "print('我的学号是%03d'%stu_id)\n",
    "print('明年我的年龄是%d'%(age+1))\n",
    "\n",
    "print('我的名字是%s，今年%d岁了'%(name, age))  # 多个数据关联\n",
    "print('我的名字是%s，今年%d岁了，体重%.2f公斤，学号是%03d'%(name, age, weight, stu_id))"
   ]
  },
  {
   "cell_type": "markdown",
   "id": "d11acbc0-4bd2-4fa9-9ca9-7603702320b2",
   "metadata": {},
   "source": [
    "#### %s的拓展\n",
    "\n",
    "%s功能更加强大，可以替代%d和%f"
   ]
  },
  {
   "cell_type": "code",
   "execution_count": 2,
   "id": "95b94a97-42c8-4764-9ccb-b40ba0829f36",
   "metadata": {},
   "outputs": [
    {
     "name": "stdout",
     "output_type": "stream",
     "text": [
      "我的名字是Tom，今年18岁了，体重75.5公斤，学号是1\n"
     ]
    }
   ],
   "source": [
    "print('我的名字是%s，今年%s岁了，体重%s公斤，学号是%s'%(name, age, weight, stu_id))"
   ]
  },
  {
   "cell_type": "markdown",
   "id": "da6327af-61e5-41a1-b048-997ed07e33a8",
   "metadata": {},
   "source": [
    "### b.f格式化字符串\n",
    "\n",
    "相较于%s更加简洁高效"
   ]
  },
  {
   "cell_type": "code",
   "execution_count": 3,
   "id": "14cf6da9-ca25-4cda-afbc-b23dcfb06e47",
   "metadata": {},
   "outputs": [
    {
     "name": "stdout",
     "output_type": "stream",
     "text": [
      "我的名字是Tom，年龄是18，明年19岁\n"
     ]
    }
   ],
   "source": [
    "# Python3.6以上的内容\n",
    "print(f'我的名字是{name}，年龄是{age}，明年{age+1}岁')"
   ]
  },
  {
   "cell_type": "markdown",
   "id": "ad0bf6ce-cbeb-4ac3-af77-e3c355fe066d",
   "metadata": {},
   "source": [
    "f格式化字符串也可以进行输出控制"
   ]
  },
  {
   "cell_type": "code",
   "execution_count": 21,
   "id": "beddbfd6-4b1b-47b8-b9b0-80835d836e8f",
   "metadata": {},
   "outputs": [
    {
     "name": "stdout",
     "output_type": "stream",
     "text": [
      "5600, 2.36\n"
     ]
    }
   ],
   "source": [
    "print(f'{56:0<4d}, {2.364578:.2f}')"
   ]
  },
  {
   "cell_type": "markdown",
   "id": "30d5f2ce-a591-4830-88fa-65451246ca59",
   "metadata": {},
   "source": [
    ":后和format一模一样"
   ]
  },
  {
   "cell_type": "markdown",
   "id": "55792c69-40ff-4dff-a143-a13b00117ba1",
   "metadata": {},
   "source": [
    "### c.format方法\n",
    "\n",
    "Python课本中提供的方法，明确以下语法格式：\n",
    "\n",
    "```py\n",
    "{下标：<填充字符><对齐方式><宽度.精度><格式>}\n",
    "```\n",
    "\n",
    "其中，填充字符不需要引号，对齐方式有：< > ^三种"
   ]
  },
  {
   "cell_type": "code",
   "execution_count": 2,
   "id": "2ce094c9-209a-48fb-8355-7d3a7742c4cb",
   "metadata": {},
   "outputs": [
    {
     "name": "stdout",
     "output_type": "stream",
     "text": [
      "我的名字是wuhaoze, 年龄是20\n"
     ]
    }
   ],
   "source": [
    "print('我的名字是{0:s}, 年龄是{1:02d}'.format('wuhaoze', 20))"
   ]
  },
  {
   "cell_type": "code",
   "execution_count": 3,
   "id": "4047756f-f641-4668-8bf4-48a4eb41ac62",
   "metadata": {},
   "outputs": [
    {
     "name": "stdout",
     "output_type": "stream",
     "text": [
      "我的名字是wuhaoze, 年龄是20\n"
     ]
    }
   ],
   "source": [
    "print('我的名字是{1:s}, 年龄是{0:02d}'.format(20, 'wuhaoze'))"
   ]
  },
  {
   "cell_type": "markdown",
   "id": "91308e55-1b3f-4a02-871a-da83b7983182",
   "metadata": {},
   "source": [
    "### d.转义字符\n",
    "\n",
    "\\n换行功能，\\t横向制表符的距离\n",
    "\n",
    "\\t常用于输出对齐"
   ]
  },
  {
   "cell_type": "code",
   "execution_count": 4,
   "id": "c6a535c6-1dbd-44b0-89f6-86048d64cd7f",
   "metadata": {},
   "outputs": [
    {
     "name": "stdout",
     "output_type": "stream",
     "text": [
      "Hello\n",
      "World!\n"
     ]
    }
   ],
   "source": [
    "print('Hello\\nWorld!')"
   ]
  },
  {
   "cell_type": "code",
   "execution_count": 5,
   "id": "7f52407a-f4f1-4703-a5f7-4c141aadd91f",
   "metadata": {},
   "outputs": [
    {
     "name": "stdout",
     "output_type": "stream",
     "text": [
      "Hello\tWorld!\n"
     ]
    }
   ],
   "source": [
    "print('Hello\\tWorld!')"
   ]
  },
  {
   "cell_type": "markdown",
   "id": "fee06fb3-8346-4d1d-a99f-bca09c4a49f9",
   "metadata": {},
   "source": [
    "### e.print结束符\n",
    "\n",
    "print函数自带一个缺省参数end，默认值为\\n"
   ]
  },
  {
   "cell_type": "code",
   "execution_count": 6,
   "id": "551e1780-adcf-4756-bffd-9ad2f4bc6d8a",
   "metadata": {},
   "outputs": [
    {
     "name": "stdout",
     "output_type": "stream",
     "text": [
      "hello world\n"
     ]
    }
   ],
   "source": [
    "print('hello', end=' ')  # 通过修改参数实现其他结束符\n",
    "print('world')"
   ]
  },
  {
   "cell_type": "markdown",
   "id": "0590ff15-a5a5-47e2-b93c-cbc86a962e7d",
   "metadata": {},
   "source": [
    "## 2.输入\n",
    "\n",
    "语法：\n",
    "\n",
    "```py\n",
    "input('提示信息')\n",
    "```\n",
    "\n",
    "特点：\n",
    "\n",
    "1.等待输入\n",
    "\n",
    "2.任何输入均会被当做字符串处理"
   ]
  },
  {
   "cell_type": "code",
   "execution_count": 7,
   "id": "ff857476-6698-407e-a662-5796635c43bc",
   "metadata": {},
   "outputs": [
    {
     "name": "stdout",
     "output_type": "stream",
     "text": [
      "请输入数字 2\n",
      "<class 'str'>\n"
     ]
    }
   ],
   "source": [
    "num = input('请输入数字')  # jupyter支持python的输入功能\n",
    "\n",
    "print(type(num))"
   ]
  },
  {
   "cell_type": "markdown",
   "id": "5136dfbf-2c2d-4755-8cdd-ac19f3394249",
   "metadata": {},
   "source": [
    "## 3.数据类型转化\n",
    "\n",
    "作用：作用之一就是处理input的输入，需要将字符串转化为需要的数据类型\n",
    "\n",
    "### a.int函数"
   ]
  },
  {
   "cell_type": "code",
   "execution_count": 8,
   "id": "3bed265f-2d10-4271-a8a8-79f88dbc56a2",
   "metadata": {},
   "outputs": [
    {
     "name": "stdout",
     "output_type": "stream",
     "text": [
      " 6\n",
      " 7\n",
      "13\n"
     ]
    }
   ],
   "source": [
    "# 基础使用\n",
    "a = input()\n",
    "a = int(a)\n",
    "b = int(input())\n",
    "print(a+b)"
   ]
  },
  {
   "cell_type": "code",
   "execution_count": 9,
   "id": "f0553a7f-f62d-422b-a404-0baddc61e486",
   "metadata": {},
   "outputs": [
    {
     "name": "stdout",
     "output_type": "stream",
     "text": [
      "43\n"
     ]
    }
   ],
   "source": [
    "# 以某个进制转化字符串为整数\n",
    "num = int('101011', 2)\n",
    "print(num)  # 1+2+8+32"
   ]
  },
  {
   "cell_type": "markdown",
   "id": "67b5e69f-aef3-4773-8ba4-50adc315bf58",
   "metadata": {},
   "source": [
    "### b.float函数"
   ]
  },
  {
   "cell_type": "code",
   "execution_count": 10,
   "id": "daea83a0-2330-4b78-9244-d9fadceb4ef0",
   "metadata": {},
   "outputs": [
    {
     "name": "stdout",
     "output_type": "stream",
     "text": [
      "<class 'float'> 9.78\n"
     ]
    }
   ],
   "source": [
    "num = '9.78'\n",
    "num = float(num)\n",
    "print(type(num), num)"
   ]
  },
  {
   "cell_type": "markdown",
   "id": "5a60bf57-9831-40cc-8e87-7858032b6907",
   "metadata": {},
   "source": [
    "### c.str函数"
   ]
  },
  {
   "cell_type": "code",
   "execution_count": 11,
   "id": "b812a829-6f3d-4bfb-8f45-29c464ba01cc",
   "metadata": {},
   "outputs": [
    {
     "name": "stdout",
     "output_type": "stream",
     "text": [
      "<class 'str'> 9.657\n"
     ]
    }
   ],
   "source": [
    "num = 9.657\n",
    "num = str(num)\n",
    "print(type(num), num)"
   ]
  },
  {
   "cell_type": "markdown",
   "id": "bfc257eb-9b47-436e-a466-00e8459a0d0a",
   "metadata": {},
   "source": [
    "### d.tuple函数"
   ]
  },
  {
   "cell_type": "code",
   "execution_count": 12,
   "id": "5d2c0b2a-06bf-4787-8e5c-ae37b0155af8",
   "metadata": {},
   "outputs": [
    {
     "name": "stdout",
     "output_type": "stream",
     "text": [
      "(1, 3, 5)\n"
     ]
    }
   ],
   "source": [
    "arr = [1, 3, 5]\n",
    "arr = tuple(arr)\n",
    "print(arr)"
   ]
  },
  {
   "cell_type": "markdown",
   "id": "1d122cbd-e6ee-43d2-bd9b-4b3caf2e64e6",
   "metadata": {},
   "source": [
    "### e.list函数"
   ]
  },
  {
   "cell_type": "code",
   "execution_count": 13,
   "id": "8dfef4e0-a1e3-4a59-a724-a6112197d7b2",
   "metadata": {},
   "outputs": [
    {
     "name": "stdout",
     "output_type": "stream",
     "text": [
      "(1, 3, 5)\n",
      "[1, 3, 5]\n"
     ]
    }
   ],
   "source": [
    "print(arr)\n",
    "print(list(arr))"
   ]
  },
  {
   "cell_type": "markdown",
   "id": "66c8f41c-fdea-4852-b4b6-07f76602be7d",
   "metadata": {},
   "source": [
    "### f.eval函数*\n",
    "\n",
    "作用：计算在字符串中的Python表达式，并返回一个对象"
   ]
  },
  {
   "cell_type": "code",
   "execution_count": 14,
   "id": "c08eb982-034b-41bd-8b77-78aae74315f3",
   "metadata": {},
   "outputs": [
    {
     "name": "stdout",
     "output_type": "stream",
     "text": [
      " {'name': 'Tom'}\n",
      "{'name': 'Tom'} <class 'dict'>\n"
     ]
    }
   ],
   "source": [
    "dict1 = eval(input())\n",
    "print(dict1, type(dict1))"
   ]
  },
  {
   "cell_type": "markdown",
   "id": "b1f8d49b-6e38-420d-a270-f651ffd24707",
   "metadata": {},
   "source": [
    "### g.unicode编码与字符间的转化\n",
    "\n",
    "chr函数用于将unicode编码转化为字符，ord用于将字符转化为unicode编码"
   ]
  },
  {
   "cell_type": "code",
   "execution_count": 15,
   "id": "8e856ec8-645b-4047-b376-1475946adfe3",
   "metadata": {},
   "outputs": [
    {
     "data": {
      "text/plain": [
       "'A'"
      ]
     },
     "execution_count": 15,
     "metadata": {},
     "output_type": "execute_result"
    }
   ],
   "source": [
    "chr(65)"
   ]
  },
  {
   "cell_type": "code",
   "execution_count": 16,
   "id": "eb10089e-66be-4aef-b4f6-8c121b6b34e1",
   "metadata": {},
   "outputs": [
    {
     "data": {
      "text/plain": [
       "20116"
      ]
     },
     "execution_count": 16,
     "metadata": {},
     "output_type": "execute_result"
    }
   ],
   "source": [
    "ord('五')  # Unicode只在前128个与ASCII码相同，但更加全面"
   ]
  }
 ],
 "metadata": {
  "kernelspec": {
   "display_name": "Python 3 (ipykernel)",
   "language": "python",
   "name": "python3"
  },
  "language_info": {
   "codemirror_mode": {
    "name": "ipython",
    "version": 3
   },
   "file_extension": ".py",
   "mimetype": "text/x-python",
   "name": "python",
   "nbconvert_exporter": "python",
   "pygments_lexer": "ipython3",
   "version": "3.10.2"
  },
  "vscode": {
   "interpreter": {
    "hash": "e7370f93d1d0cde622a1f8e1c04877d8463912d04d973331ad4851f04de6915a"
   }
  }
 },
 "nbformat": 4,
 "nbformat_minor": 5
}
