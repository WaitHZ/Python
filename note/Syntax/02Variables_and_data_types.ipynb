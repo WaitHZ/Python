{
 "cells": [
  {
   "cell_type": "markdown",
   "id": "d3dbc077-3952-4f69-94f6-f0b8e6b3b345",
   "metadata": {},
   "source": [
    "# 第2节 变量和数据类型"
   ]
  },
  {
   "cell_type": "markdown",
   "id": "573169e0-ba00-419f-8764-192b2b62961c",
   "metadata": {},
   "source": [
    "## 1.注释\n",
    "\n",
    "作用：用人类语言作为说明文字增强代码可读性\n",
    "\n",
    "类型一：单行注释"
   ]
  },
  {
   "cell_type": "code",
   "execution_count": 5,
   "id": "3ab26d8c-2cb3-4472-805b-fafd3247eb2e",
   "metadata": {},
   "outputs": [
    {
     "name": "stdout",
     "output_type": "stream",
     "text": [
      "Hello World!\n"
     ]
    }
   ],
   "source": [
    "# 第一个Python程序\n",
    "print('Hello World!')  # 简单的注释可以跟在行末\n",
    "# 快捷键 Ctrl + /"
   ]
  },
  {
   "cell_type": "markdown",
   "id": "b232bb19-14fd-4a26-8c7c-f254740319a2",
   "metadata": {},
   "source": [
    "类型二：借助三引号字符串实现注释作用"
   ]
  },
  {
   "cell_type": "code",
   "execution_count": 6,
   "id": "3d26f67b-92a8-4758-9da5-8bda99d106a6",
   "metadata": {},
   "outputs": [
    {
     "name": "stdout",
     "output_type": "stream",
     "text": [
      "Hello World\n"
     ]
    }
   ],
   "source": [
    "'''\n",
    "使用多行注释进行程序解释：\n",
    "输出Hello World\n",
    "'''\n",
    "# 单双引号均可\n",
    "print('Hello World')"
   ]
  },
  {
   "cell_type": "markdown",
   "id": "5449d5b9-f43f-466d-b58b-e5512adae4af",
   "metadata": {},
   "source": [
    "## 2.变量\n",
    "\n",
    "### a.变量的作用\n",
    "\n",
    "数据临时存储在内存中，为了快速访问，变量就是指向内存地址的名字\n",
    "\n",
    "### b.变量的定义\n",
    "\n",
    "#### 变量定义的语法\n",
    "\n",
    "```py\n",
    "变量名 = 值\n",
    "```\n",
    "\n",
    "#### 标识符及命名规则\n",
    "\n",
    "标识符命名规则是Python中定义**各种名字**的统一规范，要求如下：\n",
    "\n",
    "1.字母、数字、下划线组成，不能以数字开头\n",
    "\n",
    "2.不能使用内置关键字\n",
    "\n",
    "3.严格区分大小写\n",
    "\n",
    "在习惯上，对于多单词组成的变量名，有如下三种规范：\n",
    "\n",
    "1.下划线方法，如num_to_search\n",
    "\n",
    "2.大驼峰，NumToSearch\n",
    "\n",
    "3.小驼峰，numToSearch"
   ]
  },
  {
   "cell_type": "markdown",
   "id": "d1cfc7be-b92c-4772-aaa2-0abe89af7cbc",
   "metadata": {},
   "source": [
    "### c.变量的使用"
   ]
  },
  {
   "cell_type": "code",
   "execution_count": 8,
   "id": "e7a6532e-2087-4ef0-88ed-e621ec05a01a",
   "metadata": {},
   "outputs": [
    {
     "name": "stdout",
     "output_type": "stream",
     "text": [
      "Tom\n"
     ]
    }
   ],
   "source": [
    "# 定义变量\n",
    "my_name = 'Tom'\n",
    "# 使用变量\n",
    "print(my_name)"
   ]
  },
  {
   "cell_type": "code",
   "execution_count": 11,
   "id": "8cbdc666-37ee-4628-afe8-f23a007671cf",
   "metadata": {},
   "outputs": [
    {
     "name": "stdout",
     "output_type": "stream",
     "text": [
      "Heima Chengxuyuan\n",
      "Heima Chengxuyuan\n"
     ]
    }
   ],
   "source": [
    "schoolName = 'Heima Chengxuyuan'\n",
    "print(schoolName)\n",
    "\n",
    "scoolName = 'Zhejiang University'\n",
    "print(schoolName)"
   ]
  },
  {
   "cell_type": "markdown",
   "id": "d959fd12-f618-4c31-8f61-f47b872fa7ad",
   "metadata": {},
   "source": [
    "## 3.bug\n",
    "\n",
    "程序中的错误，不可避免，需要学习Debug"
   ]
  },
  {
   "cell_type": "code",
   "execution_count": 13,
   "id": "5aac1af0-ec2a-4167-b173-db0cba756a7a",
   "metadata": {},
   "outputs": [
    {
     "ename": "NameError",
     "evalue": "name 'schoolname' is not defined",
     "output_type": "error",
     "traceback": [
      "\u001b[0;31m---------------------------------------------------------------------------\u001b[0m",
      "\u001b[0;31mNameError\u001b[0m                                 Traceback (most recent call last)",
      "Input \u001b[0;32mIn [13]\u001b[0m, in \u001b[0;36m<cell line: 3>\u001b[0;34m()\u001b[0m\n\u001b[1;32m      1\u001b[0m \u001b[38;5;66;03m# 制造一个小bug —— NameError\u001b[39;00m\n\u001b[1;32m      2\u001b[0m scoolName \u001b[38;5;241m=\u001b[39m \u001b[38;5;124m'\u001b[39m\u001b[38;5;124mZhejiang University\u001b[39m\u001b[38;5;124m'\u001b[39m\n\u001b[0;32m----> 3\u001b[0m \u001b[38;5;28mprint\u001b[39m(\u001b[43mschoolname\u001b[49m)\n",
      "\u001b[0;31mNameError\u001b[0m: name 'schoolname' is not defined"
     ]
    }
   ],
   "source": [
    "# 制造一个小bug —— NameError\n",
    "scoolName = 'Zhejiang University'\n",
    "print(schoolname)"
   ]
  },
  {
   "cell_type": "code",
   "execution_count": 17,
   "id": "461fbc7b-50ff-4ba4-8827-323cf48edbdc",
   "metadata": {},
   "outputs": [
    {
     "ename": "IndentationError",
     "evalue": "unexpected indent (2311322630.py, line 3)",
     "output_type": "error",
     "traceback": [
      "\u001b[0;36m  Input \u001b[0;32mIn [17]\u001b[0;36m\u001b[0m\n\u001b[0;31m    print(schoolName)\u001b[0m\n\u001b[0m    ^\u001b[0m\n\u001b[0;31mIndentationError\u001b[0m\u001b[0;31m:\u001b[0m unexpected indent\n"
     ]
    }
   ],
   "source": [
    "# 制造一个小bug —— IndentationError(意外缩进)\n",
    "scoolName = 'Zhejiang University'\n",
    " print(schoolName)"
   ]
  },
  {
   "cell_type": "code",
   "execution_count": 18,
   "id": "08a44fdb-d5f0-4ee2-a6cf-16ba48197885",
   "metadata": {},
   "outputs": [
    {
     "ename": "NameError",
     "evalue": "name 'SchoolName' is not defined",
     "output_type": "error",
     "traceback": [
      "\u001b[0;31m---------------------------------------------------------------------------\u001b[0m",
      "\u001b[0;31mNameError\u001b[0m                                 Traceback (most recent call last)",
      "Input \u001b[0;32mIn [18]\u001b[0m, in \u001b[0;36m<cell line: 2>\u001b[0;34m()\u001b[0m\n\u001b[1;32m      1\u001b[0m \u001b[38;5;66;03m# 制造bug —— 变量需要先定义再使用\u001b[39;00m\n\u001b[0;32m----> 2\u001b[0m \u001b[38;5;28mprint\u001b[39m(\u001b[43mSchoolName\u001b[49m)\n\u001b[1;32m      3\u001b[0m SchoolName \u001b[38;5;241m=\u001b[39m \u001b[38;5;124m'\u001b[39m\u001b[38;5;124mSDFZ\u001b[39m\u001b[38;5;124m'\u001b[39m\n",
      "\u001b[0;31mNameError\u001b[0m: name 'SchoolName' is not defined"
     ]
    }
   ],
   "source": [
    "# 制造bug —— 变量需要先定义再使用\n",
    "print(SchoolName)\n",
    "SchoolName = 'SDFZ'"
   ]
  },
  {
   "cell_type": "markdown",
   "id": "7f38ade0-c272-4f26-a626-cec904dbaecf",
   "metadata": {},
   "source": [
    "## 4.debug\n",
    "\n",
    "在Pycharm、VScode中调试Python代码的方式是一样的。\n",
    "\n",
    "只需打一个断点，随后逐步执行即可。\n",
    "\n",
    "两种逐步执行：\n",
    "\n",
    "1.next，不进入函数的逐步执行 F10\n",
    "\n",
    "2.step，进入函数的逐步执行 F11"
   ]
  },
  {
   "cell_type": "markdown",
   "id": "936454a6-6134-4630-a057-54f780539541",
   "metadata": {},
   "source": [
    "## 5.Python的数据类型\n",
    "\n",
    "Python中针对不同业务需求，存在着不同的数据类型\n",
    "\n",
    "### a.数值"
   ]
  },
  {
   "cell_type": "code",
   "execution_count": 2,
   "id": "0bddbf68-7b7d-48a7-bbcc-d28e61c249bc",
   "metadata": {},
   "outputs": [
    {
     "name": "stdout",
     "output_type": "stream",
     "text": [
      "<class 'int'>\n",
      "<class 'float'>\n"
     ]
    }
   ],
   "source": [
    "# int——整形\n",
    "a = 1\n",
    "print(type(a))  # type函数用于获取数据类型\n",
    "\n",
    "# float——浮点型\n",
    "b = 1.1\n",
    "print(type(b))"
   ]
  },
  {
   "cell_type": "markdown",
   "id": "59861e23-fb9f-4b5f-a6ab-558e9a11cc41",
   "metadata": {},
   "source": [
    "### b.bool型\n",
    "\n",
    "有且只有True和False两个值"
   ]
  },
  {
   "cell_type": "code",
   "execution_count": 3,
   "id": "25629f4d-cdec-4c53-bdb0-cf899270436b",
   "metadata": {},
   "outputs": [
    {
     "name": "stdout",
     "output_type": "stream",
     "text": [
      "<class 'bool'> <class 'bool'>\n"
     ]
    }
   ],
   "source": [
    "c = True\n",
    "d = False\n",
    "print(type(c), type(d))"
   ]
  },
  {
   "cell_type": "markdown",
   "id": "cc70341d-7034-4c59-a3ab-0195275c9ef4",
   "metadata": {},
   "source": [
    "### c.字符串"
   ]
  },
  {
   "cell_type": "code",
   "execution_count": 4,
   "id": "079a0900-6639-45fe-957d-c90dc80b39f4",
   "metadata": {},
   "outputs": [
    {
     "name": "stdout",
     "output_type": "stream",
     "text": [
      "<class 'str'>\n"
     ]
    }
   ],
   "source": [
    "e = 'Hello Python!'\n",
    "print(type(e))"
   ]
  },
  {
   "cell_type": "markdown",
   "id": "89ce0520-19e1-4df0-858d-f98f8de0b3f2",
   "metadata": {},
   "source": [
    "### d.列表"
   ]
  },
  {
   "cell_type": "code",
   "execution_count": 5,
   "id": "233d7090-d896-48f2-b1ef-d5e630ca4db2",
   "metadata": {},
   "outputs": [
    {
     "name": "stdout",
     "output_type": "stream",
     "text": [
      "<class 'list'>\n"
     ]
    }
   ],
   "source": [
    "f = [1, 2, 3]\n",
    "print(type(f))"
   ]
  },
  {
   "cell_type": "markdown",
   "id": "884409b7-b79d-443c-aa92-d311840af2d8",
   "metadata": {},
   "source": [
    "### e.元组"
   ]
  },
  {
   "cell_type": "code",
   "execution_count": 6,
   "id": "8bb8c381-c19b-467a-a39d-307e8f81588b",
   "metadata": {},
   "outputs": [
    {
     "name": "stdout",
     "output_type": "stream",
     "text": [
      "<class 'tuple'>\n"
     ]
    }
   ],
   "source": [
    "g = (1, 2, 3)\n",
    "print(type(g))"
   ]
  },
  {
   "cell_type": "markdown",
   "id": "9d0fe764-3509-4cf3-a99d-53047fe5838d",
   "metadata": {},
   "source": [
    "### f.集合"
   ]
  },
  {
   "cell_type": "code",
   "execution_count": 7,
   "id": "7743b510-17ea-4369-a3e9-e152e854fc88",
   "metadata": {},
   "outputs": [
    {
     "name": "stdout",
     "output_type": "stream",
     "text": [
      "<class 'set'>\n"
     ]
    }
   ],
   "source": [
    "h = {1, 2, 3}\n",
    "print(type(h))"
   ]
  },
  {
   "cell_type": "markdown",
   "id": "95cda1a3-57ff-4ef7-b030-7178528484ff",
   "metadata": {},
   "source": [
    "### g.字典"
   ]
  },
  {
   "cell_type": "code",
   "execution_count": 8,
   "id": "0ea12f6f-82e1-4a00-8c78-3707dc607ee8",
   "metadata": {},
   "outputs": [
    {
     "name": "stdout",
     "output_type": "stream",
     "text": [
      "<class 'dict'>\n"
     ]
    }
   ],
   "source": [
    "i = {'name': 'Tom', 'age': 18}\n",
    "print(type(i))"
   ]
  }
 ],
 "metadata": {
  "kernelspec": {
   "display_name": "Python 3 (ipykernel)",
   "language": "python",
   "name": "python3"
  },
  "language_info": {
   "codemirror_mode": {
    "name": "ipython",
    "version": 3
   },
   "file_extension": ".py",
   "mimetype": "text/x-python",
   "name": "python",
   "nbconvert_exporter": "python",
   "pygments_lexer": "ipython3",
   "version": "3.10.2"
  }
 },
 "nbformat": 4,
 "nbformat_minor": 5
}
