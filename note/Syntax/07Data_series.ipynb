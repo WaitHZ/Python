{
 "cells": [
  {
   "cell_type": "markdown",
   "id": "9ad5b75f-3c9c-415c-adda-22e370e633a8",
   "metadata": {},
   "source": [
    "# 第7节 序列\n",
    "\n",
    "## 一、字符串\n",
    "\n",
    "最常用的数据类型，input函数接收的输入均存入字符串\n",
    "\n",
    "### 1.认识字符串\n",
    "\n",
    "#### 三引号字符串\n",
    "\n",
    "多行注释的本质，也可以更好的结合引号使用\n",
    "\n",
    "单双引号均可，其中的换行会以'\\n'存入字符串中"
   ]
  },
  {
   "cell_type": "code",
   "execution_count": 4,
   "id": "c4b699d5-f10c-462e-8d83-24f04a009e73",
   "metadata": {},
   "outputs": [
    {
     "name": "stdout",
     "output_type": "stream",
     "text": [
      "I\n",
      "love\n",
      "you\n",
      "!\n",
      "\n"
     ]
    }
   ],
   "source": [
    "str0 = '''I\n",
    "love\n",
    "you\n",
    "!\n",
    "'''\n",
    "print(str0)"
   ]
  },
  {
   "cell_type": "markdown",
   "id": "ae9a1c5e-01b9-4335-8a71-cfc5e272f142",
   "metadata": {},
   "source": [
    "### 2.字符串的下标与切片\n",
    "\n",
    "#### a.下标\n",
    "\n",
    "下标又称索引，从0开始"
   ]
  },
  {
   "cell_type": "code",
   "execution_count": 6,
   "id": "4f452005-446d-4929-9b62-1438eaeae163",
   "metadata": {},
   "outputs": [
    {
     "name": "stdout",
     "output_type": "stream",
     "text": [
      "6\n"
     ]
    }
   ],
   "source": [
    "str0 = '0123456'\n",
    "\n",
    "print(str0[6])"
   ]
  },
  {
   "cell_type": "markdown",
   "id": "ce2051b8-8d21-4528-b17a-b2388546d0cf",
   "metadata": {},
   "source": [
    "负数下标在Python中是支持的，表示倒数第几个元素"
   ]
  },
  {
   "cell_type": "code",
   "execution_count": 8,
   "id": "d55addce-2314-47b5-9676-1079ab663064",
   "metadata": {},
   "outputs": [
    {
     "name": "stdout",
     "output_type": "stream",
     "text": [
      "4\n"
     ]
    }
   ],
   "source": [
    "print(str0[-3])  # 输出倒数第三个元素4"
   ]
  },
  {
   "cell_type": "markdown",
   "id": "0da41562-667f-4132-a6e7-46c2680e761c",
   "metadata": {},
   "source": [
    "#### b.切片\n",
    "\n",
    "切片是对操作的序列对象截取其中一部分的操作，元组、列表、字符串均支持\n",
    "\n",
    "**必须保证下标变化方向和选取方向一致，否则不会取出任何元素**\n",
    "\n",
    "语法：\n",
    "\n",
    "```py\n",
    "序列[start, end, step]\n",
    "```\n",
    "\n",
    "区间左闭右开，步长默认为1"
   ]
  },
  {
   "cell_type": "code",
   "execution_count": 22,
   "id": "352330ef-a0a1-4095-835d-34894008fb6e",
   "metadata": {},
   "outputs": [
    {
     "data": {
      "text/plain": [
       "'ab'"
      ]
     },
     "execution_count": 22,
     "metadata": {},
     "output_type": "execute_result"
    }
   ],
   "source": [
    "name = 'abcdefg'\n",
    "\n",
    "name[0:2]  # 左闭右开"
   ]
  },
  {
   "cell_type": "code",
   "execution_count": 12,
   "id": "607f70ca-a47d-4c96-8243-66622356990a",
   "metadata": {},
   "outputs": [
    {
     "data": {
      "text/plain": [
       "'aceg'"
      ]
     },
     "execution_count": 12,
     "metadata": {},
     "output_type": "execute_result"
    }
   ],
   "source": [
    "name[0:7:2]  # 指定步长为2"
   ]
  },
  {
   "cell_type": "code",
   "execution_count": 14,
   "id": "bfe3bc54-ca36-403e-8a22-9d02ee78b603",
   "metadata": {},
   "outputs": [
    {
     "data": {
      "text/plain": [
       "'abcdefg'"
      ]
     },
     "execution_count": 14,
     "metadata": {},
     "output_type": "execute_result"
    }
   ],
   "source": [
    "name[0:]  # 到结尾"
   ]
  },
  {
   "cell_type": "code",
   "execution_count": 16,
   "id": "c4ac9b1c-6920-41e6-bc49-6f9ec76c57ab",
   "metadata": {},
   "outputs": [
    {
     "data": {
      "text/plain": [
       "'aceg'"
      ]
     },
     "execution_count": 16,
     "metadata": {},
     "output_type": "execute_result"
    }
   ],
   "source": [
    "name[:7:2]  # 从头开始"
   ]
  },
  {
   "cell_type": "code",
   "execution_count": 19,
   "id": "fe02dbdf-b505-448d-88ed-6cd863c96fdf",
   "metadata": {},
   "outputs": [
    {
     "data": {
      "text/plain": [
       "'abcdefg'"
      ]
     },
     "execution_count": 19,
     "metadata": {},
     "output_type": "execute_result"
    }
   ],
   "source": [
    "name[:]  # 从头到尾"
   ]
  },
  {
   "cell_type": "code",
   "execution_count": 17,
   "id": "ceab79d4-71a9-4f28-bba5-401a8a93cd15",
   "metadata": {},
   "outputs": [
    {
     "data": {
      "text/plain": [
       "'gfed'"
      ]
     },
     "execution_count": 17,
     "metadata": {},
     "output_type": "execute_result"
    }
   ],
   "source": [
    "name[7:2:-1]"
   ]
  },
  {
   "cell_type": "code",
   "execution_count": 21,
   "id": "6ba5a4ee-e29a-4b17-983c-5ef73a7cf8d4",
   "metadata": {},
   "outputs": [
    {
     "data": {
      "text/plain": [
       "'def'"
      ]
     },
     "execution_count": 21,
     "metadata": {},
     "output_type": "execute_result"
    }
   ],
   "source": [
    "name[-4:-1]"
   ]
  },
  {
   "cell_type": "markdown",
   "id": "daa026d0-e4e3-4f27-b5fe-acc564ab402f",
   "metadata": {},
   "source": [
    "### 3.字符串的常用方法\n",
    "\n",
    "#### a.查找\n",
    "\n",
    "##### find与rfind\n",
    "\n",
    "语法：\n",
    "\n",
    "```py\n",
    "str.find(substr, start, end)\n",
    "str.rfind(substr, start, end)\n",
    "```\n",
    "\n",
    "二者的区别在于从哪边开始找，若只有一个符合条件的子串，二者没有区别\n",
    "\n",
    "后两个参数可以缺省，找不到返回-1"
   ]
  },
  {
   "cell_type": "code",
   "execution_count": 3,
   "id": "9c023f14-1a82-4d71-95d8-9084ec2d2a61",
   "metadata": {},
   "outputs": [
    {
     "data": {
      "text/plain": [
       "-1"
      ]
     },
     "execution_count": 3,
     "metadata": {},
     "output_type": "execute_result"
    }
   ],
   "source": [
    "str0 = 'Hello Python'\n",
    "\n",
    "str0.find('ello')\n",
    "str0.rfind('abc', -5, -1)  # 下标使用负数可以，但注意正序"
   ]
  },
  {
   "cell_type": "markdown",
   "id": "88fefdaa-c112-4060-acb0-2277246f4b9a",
   "metadata": {},
   "source": [
    "##### index与rindex\n",
    "\n",
    "参数使用与find完全相同，唯一的区别在于：若子串不存在，报错而不是返回-1"
   ]
  },
  {
   "cell_type": "code",
   "execution_count": 2,
   "id": "8755f06f-7989-4b5c-8d06-5a869e9e69bc",
   "metadata": {},
   "outputs": [
    {
     "ename": "ValueError",
     "evalue": "substring not found",
     "output_type": "error",
     "traceback": [
      "\u001b[0;31m---------------------------------------------------------------------------\u001b[0m",
      "\u001b[0;31mValueError\u001b[0m                                Traceback (most recent call last)",
      "Input \u001b[0;32mIn [2]\u001b[0m, in \u001b[0;36m<cell line: 1>\u001b[0;34m()\u001b[0m\n\u001b[0;32m----> 1\u001b[0m \u001b[43mstr0\u001b[49m\u001b[38;5;241;43m.\u001b[39;49m\u001b[43mindex\u001b[49m\u001b[43m(\u001b[49m\u001b[38;5;124;43m'\u001b[39;49m\u001b[38;5;124;43mallw\u001b[39;49m\u001b[38;5;124;43m'\u001b[39;49m\u001b[43m)\u001b[49m\n",
      "\u001b[0;31mValueError\u001b[0m: substring not found"
     ]
    }
   ],
   "source": [
    "str0.index('allw')"
   ]
  },
  {
   "cell_type": "markdown",
   "id": "6c09841a-0589-480b-9850-4b609ccb9d65",
   "metadata": {},
   "source": [
    "##### count\n",
    "\n",
    "参数传递与前两个方法相同，返回指定区间中子串出现的次数"
   ]
  },
  {
   "cell_type": "code",
   "execution_count": 6,
   "id": "aecf25c3-381a-41ab-90db-699f5b1870ab",
   "metadata": {},
   "outputs": [
    {
     "data": {
      "text/plain": [
       "1"
      ]
     },
     "execution_count": 6,
     "metadata": {},
     "output_type": "execute_result"
    }
   ],
   "source": [
    "str0.count('Py', -10, -1)"
   ]
  },
  {
   "cell_type": "markdown",
   "id": "20d00933-68a9-4476-9596-1991d39e7f63",
   "metadata": {},
   "source": [
    "#### b.修改\n",
    "\n",
    "字符串是不可变数据类型\n",
    "\n",
    "字符串的修改函数均不是对原字符串进行修改，只是返回修改后的值，可以用变量去承接\n",
    "\n",
    "##### replace\n",
    "\n",
    "语法：\n",
    "\n",
    "```py\n",
    "str.replace(old, new, 次数)\n",
    "```\n",
    "\n",
    "若出现的次数小于指定次数，则全部替换；若大于指定次数，则从左向右替换指定次数\n",
    "\n",
    "次数缺省则全部替换"
   ]
  },
  {
   "cell_type": "code",
   "execution_count": 9,
   "id": "fdf7a113-ca3d-4306-aea0-861ff634dbb7",
   "metadata": {},
   "outputs": [
    {
     "data": {
      "text/plain": [
       "'i he you, heart he heart'"
      ]
     },
     "execution_count": 9,
     "metadata": {},
     "output_type": "execute_result"
    }
   ],
   "source": [
    "my_str = 'i and you, heart and heart'\n",
    "\n",
    "my_str.replace('and', 'he')"
   ]
  },
  {
   "cell_type": "code",
   "execution_count": 11,
   "id": "4613b6bd-ae5f-498a-b107-0d210a3cacc5",
   "metadata": {},
   "outputs": [
    {
     "data": {
      "text/plain": [
       "'i he you, heart and heart'"
      ]
     },
     "execution_count": 11,
     "metadata": {},
     "output_type": "execute_result"
    }
   ],
   "source": [
    "my_str.replace('and', 'he', 1)"
   ]
  },
  {
   "cell_type": "code",
   "execution_count": 12,
   "id": "a2b79947-2590-4533-b768-ed5de532ae79",
   "metadata": {},
   "outputs": [
    {
     "data": {
      "text/plain": [
       "'i he you, heart he heart'"
      ]
     },
     "execution_count": 12,
     "metadata": {},
     "output_type": "execute_result"
    }
   ],
   "source": [
    "my_str.replace('and', 'he', 3)"
   ]
  },
  {
   "cell_type": "markdown",
   "id": "fb1c1061-f0d1-4e24-8937-a2b5a180f984",
   "metadata": {},
   "source": [
    "##### split\n",
    "\n",
    "按照指定子串、字符对于字符串进行分割，得到一个列表，不指定子串则默认以空格分割\n",
    "\n",
    "语法：\n",
    "\n",
    "```py\n",
    "str.split(substr, 次数)\n",
    "```"
   ]
  },
  {
   "cell_type": "code",
   "execution_count": 3,
   "id": "ef0a8c58-2af9-4fe2-a319-effb68013952",
   "metadata": {},
   "outputs": [
    {
     "data": {
      "text/plain": [
       "['a', 'b', 'c d e f']"
      ]
     },
     "execution_count": 3,
     "metadata": {},
     "output_type": "execute_result"
    }
   ],
   "source": [
    "str0 = 'a b c d e f'\n",
    "\n",
    "str0.split(' ', 2)  # 只对前两个空格做了切割"
   ]
  },
  {
   "cell_type": "markdown",
   "id": "b255a8f5-9a16-4724-aabf-8590c02f37e6",
   "metadata": {},
   "source": [
    "##### join\n",
    "\n",
    "语法：\n",
    "\n",
    "```py\n",
    "插入字符串.join(字符串组成的序列）\n",
    "```"
   ]
  },
  {
   "cell_type": "code",
   "execution_count": 5,
   "id": "1e814777-a349-4670-9f9b-c6b41486e0b4",
   "metadata": {},
   "outputs": [
    {
     "data": {
      "text/plain": [
       "'a,b,c,d'"
      ]
     },
     "execution_count": 5,
     "metadata": {},
     "output_type": "execute_result"
    }
   ],
   "source": [
    "str_list = ['a', 'b', 'c', 'd']\n",
    "','.join(str_list)  # 与split有逆的感觉"
   ]
  },
  {
   "cell_type": "markdown",
   "id": "84692016-38b1-41a1-b51c-da04906cff76",
   "metadata": {},
   "source": [
    "##### 大小写转化\n",
    "\n",
    "```py\n",
    "str.capitalize()  # 首字母大写\n",
    "str.title  # 每个单词首字母大写\n",
    "str.lower()  # 每个字母小写\n",
    "str.upper()  # 每个字母大写\n",
    "```\n",
    "\n",
    "##### 空格删除\n",
    "\n",
    "```py\n",
    "str.lstrip()  # 删除字符串左端空格\n",
    "str.rstrip()  # 删除字符串右端空格\n",
    "str.strip()  # 删除字符串两端空格\n",
    "```\n",
    "\n",
    "##### 字符串对齐\n",
    "\n",
    "```py\n",
    "str.ljust(长度, 填充字符)  # 不足长度的进行填充\n",
    "str.rjust(长度, 填充字符)\n",
    "str.center(长度, 填充字符)  # 不能保证绝对的中间\n",
    "```\n",
    "\n",
    "若不指定填充字符，默认以空格填充\n",
    "\n",
    "#### c.判断\n",
    "\n",
    "##### 开头结尾判断\n",
    "\n",
    "```py\n",
    "str.statswith(substr, start, end)\n",
    "str.endswith(substrm start, end)\n",
    "```\n",
    "\n",
    "不指定起止范围，则默认判断整个字符串的开头结尾\n",
    "\n",
    "##### 字符串组成判断\n",
    "\n",
    "```py\n",
    "str.isalpha()  # 判断是否全为字母\n",
    "str.isdigit()  # 判断是否全为数字\n",
    "str.isalnum()  # 判断是否全为字母和数字\n",
    "str.isspace()  # 判断是否全为空格\n",
    "```"
   ]
  },
  {
   "cell_type": "markdown",
   "id": "24b91e77-d521-4e97-89b6-fc4bde2f89eb",
   "metadata": {},
   "source": [
    "## 二、列表\n",
    "\n",
    "可变数据类型，一次性储存多个变量，可以存储不同的数据类型，但实际工作不建议。\n",
    "\n",
    "列表中实际存储的就是id值。\n",
    "\n",
    "### 1.列表的常用操作\n",
    "\n",
    "#### a.查找\n",
    "\n",
    "##### 索引和切片\n",
    "\n",
    "与字符串操作相同\n",
    "\n",
    "##### index函数\n",
    "\n",
    "语法：\n",
    "\n",
    "```py\n",
    "list.index(val, start, end)\n",
    "```\n",
    "\n",
    "和字符串使用一样，找不到报错\n",
    "\n",
    "##### count函数\n",
    "\n",
    "语法：\n",
    "\n",
    "```py\n",
    "list.count(val, start, end)\n",
    "```\n",
    "\n",
    "和字符串使用一样\n",
    "\n",
    "##### len函数\n",
    "\n",
    "公共方法，列表、元组返回元素个数，字符串返回字符个数，字典返回键值对个数"
   ]
  },
  {
   "cell_type": "code",
   "execution_count": 2,
   "id": "923eff63-2133-4160-bb21-fbcd4cdc3fc7",
   "metadata": {},
   "outputs": [
    {
     "data": {
      "text/plain": [
       "2"
      ]
     },
     "execution_count": 2,
     "metadata": {},
     "output_type": "execute_result"
    }
   ],
   "source": [
    "dict0 = {'name': 'Tom', 'age': 18}\n",
    "len(dict0)  # 2返回键值对的数目"
   ]
  },
  {
   "cell_type": "code",
   "execution_count": 4,
   "id": "ec093956-0680-4271-a1c3-5ad7fa53d316",
   "metadata": {},
   "outputs": [
    {
     "data": {
      "text/plain": [
       "3"
      ]
     },
     "execution_count": 4,
     "metadata": {},
     "output_type": "execute_result"
    }
   ],
   "source": [
    "tuple0 = (1, 3, 6)\n",
    "len(tuple0)  # 元组返回元素个数"
   ]
  },
  {
   "cell_type": "markdown",
   "id": "93b76e77-b6eb-4326-88e1-9604b1c0dca0",
   "metadata": {},
   "source": [
    "#### b.判断\n",
    "\n",
    "序列的公共方法in和not in，语法如下：\n",
    "\n",
    "```py\n",
    "val in 序列  # 在True，不在False\n",
    "val not in 序列  # 与上面相反\n",
    "```"
   ]
  },
  {
   "cell_type": "markdown",
   "id": "f50f607b-c679-4d84-af49-6714b3e9c7ab",
   "metadata": {},
   "source": [
    "#### c.追加数据\n",
    "\n",
    "##### append\n",
    "\n",
    "列表是可变数据类型，追加直接在原地址操作\n",
    "\n",
    "将数据追加到列表结尾，若追加的对象为序列，整体加入"
   ]
  },
  {
   "cell_type": "code",
   "execution_count": 2,
   "id": "6c70c0fe-4506-4b20-8206-0a231d495fd1",
   "metadata": {},
   "outputs": [
    {
     "data": {
      "text/plain": [
       "[1, 2, 4, 'abc']"
      ]
     },
     "execution_count": 2,
     "metadata": {},
     "output_type": "execute_result"
    }
   ],
   "source": [
    "list0 = [1, 2, 4]\n",
    "list0.append('abc')\n",
    "list0"
   ]
  },
  {
   "cell_type": "markdown",
   "id": "8ee84aa2-d172-4f8a-96b2-a08b85204947",
   "metadata": {},
   "source": [
    "##### extend\n",
    "\n",
    "与append类似，将数据追加到结尾，但不同的是若追加的是序列，则将序列中的元素依次加入"
   ]
  },
  {
   "cell_type": "code",
   "execution_count": 3,
   "id": "2a2ef3bd-33ca-4c92-b5e2-c13354bc76c3",
   "metadata": {},
   "outputs": [
    {
     "data": {
      "text/plain": [
       "[1, 2, 4, 'a', 'b', 'c']"
      ]
     },
     "execution_count": 3,
     "metadata": {},
     "output_type": "execute_result"
    }
   ],
   "source": [
    "list0 = [1, 2, 4]\n",
    "list0.extend('abc')\n",
    "list0"
   ]
  },
  {
   "cell_type": "markdown",
   "id": "7ac4c459-f9ca-41b2-9cbd-53c79a27ec62",
   "metadata": {},
   "source": [
    "##### insert\n",
    "\n",
    "新元素插入到指定位置，其余位置依次向后移动\n",
    "\n",
    "语法：\n",
    "\n",
    "```py\n",
    "list.insert(pos, val)\n",
    "```"
   ]
  },
  {
   "cell_type": "code",
   "execution_count": 6,
   "id": "d12cdc8e-310b-4ab2-bd78-6e72c6ed5b1f",
   "metadata": {},
   "outputs": [
    {
     "data": {
      "text/plain": [
       "[1, 'abc', 2, 3, 4]"
      ]
     },
     "execution_count": 6,
     "metadata": {},
     "output_type": "execute_result"
    }
   ],
   "source": [
    "list0 = [1, 2, 3, 4]\n",
    "list0.insert(1, 'abc')\n",
    "list0"
   ]
  },
  {
   "cell_type": "markdown",
   "id": "a9146ce3-b09f-4fea-8651-8e78d83866b4",
   "metadata": {},
   "source": [
    "#### d.删除数据\n",
    "\n",
    "##### del\n",
    "\n",
    "语法：\n",
    "\n",
    "```py\n",
    "del 目标\n",
    "```"
   ]
  },
  {
   "cell_type": "code",
   "execution_count": 8,
   "id": "0a226cd0-47fe-42d5-b479-5eeb52976c4e",
   "metadata": {},
   "outputs": [
    {
     "data": {
      "text/plain": [
       "[1, 2]"
      ]
     },
     "execution_count": 8,
     "metadata": {},
     "output_type": "execute_result"
    }
   ],
   "source": [
    "list0 = [1, 2, 3]\n",
    "del list0[2]  # 需要知道待删除元素的下标\n",
    "list0"
   ]
  },
  {
   "cell_type": "code",
   "execution_count": 11,
   "id": "c3da1e3b-94da-4263-ae1d-7bb8480bdcdb",
   "metadata": {},
   "outputs": [
    {
     "ename": "NameError",
     "evalue": "name 'list0' is not defined",
     "output_type": "error",
     "traceback": [
      "\u001b[0;31m---------------------------------------------------------------------------\u001b[0m",
      "\u001b[0;31mNameError\u001b[0m                                 Traceback (most recent call last)",
      "Input \u001b[0;32mIn [11]\u001b[0m, in \u001b[0;36m<cell line: 4>\u001b[0;34m()\u001b[0m\n\u001b[1;32m      2\u001b[0m list0 \u001b[38;5;241m=\u001b[39m [\u001b[38;5;241m1\u001b[39m, \u001b[38;5;241m2\u001b[39m, \u001b[38;5;241m4\u001b[39m, \u001b[38;5;241m7\u001b[39m]\n\u001b[1;32m      3\u001b[0m \u001b[38;5;28;01mdel\u001b[39;00m list0\n\u001b[0;32m----> 4\u001b[0m \u001b[43mlist0\u001b[49m\n",
      "\u001b[0;31mNameError\u001b[0m: name 'list0' is not defined"
     ]
    }
   ],
   "source": [
    "# 除此之外还可以删除整个列表\n",
    "list0 = [1, 2, 4, 7]\n",
    "del list0\n",
    "list0  # NameError"
   ]
  },
  {
   "cell_type": "markdown",
   "id": "41797d41-9475-43aa-9fb7-22d3cd798e91",
   "metadata": {},
   "source": [
    "##### pop\n",
    "\n",
    "语法：\n",
    "\n",
    "```py\n",
    "val = list.pop(index)\n",
    "```\n",
    "\n",
    "若不指定下标默认删除最后一个\n",
    "\n",
    "会将删除的结果作为值返回"
   ]
  },
  {
   "cell_type": "code",
   "execution_count": 12,
   "id": "46126093-6b2a-473e-88c0-5d529e624377",
   "metadata": {},
   "outputs": [
    {
     "name": "stdout",
     "output_type": "stream",
     "text": [
      "9 [1, 4, 6]\n"
     ]
    }
   ],
   "source": [
    "list0 = [1, 4, 6, 9]\n",
    "val = list0.pop()\n",
    "print(val, list0)"
   ]
  },
  {
   "cell_type": "markdown",
   "id": "1775c8b0-2f0a-48e0-be3e-5dba6df26157",
   "metadata": {},
   "source": [
    "##### remove\n",
    "\n",
    "删除指定的值的元素，默认删除从左到右的第一个"
   ]
  },
  {
   "cell_type": "code",
   "execution_count": 13,
   "id": "a7a2914c-0b25-47f4-a8ff-d3809cd93b25",
   "metadata": {},
   "outputs": [
    {
     "data": {
      "text/plain": [
       "[1, 3, 6, 4]"
      ]
     },
     "execution_count": 13,
     "metadata": {},
     "output_type": "execute_result"
    }
   ],
   "source": [
    "list0 = [1, 3, 4, 6, 4]\n",
    "list0.remove(4)\n",
    "list0"
   ]
  },
  {
   "cell_type": "markdown",
   "id": "a496a663-e59a-4e01-a036-6965ebfd7caa",
   "metadata": {},
   "source": [
    "##### clear\n",
    "\n",
    "用于清空列表\n",
    "\n",
    "语法：\n",
    "\n",
    "```py\n",
    "list.clear()\n",
    "```"
   ]
  },
  {
   "cell_type": "markdown",
   "id": "866d6bb5-9a42-4fb5-ae89-583d482c2170",
   "metadata": {},
   "source": [
    "#### e.修改数据\n",
    "\n",
    "##### 通过下标进行修改\n",
    "\n",
    "##### reverse\n",
    "\n",
    "将列表逆序\n",
    "\n",
    "语法：\n",
    "\n",
    "```py\n",
    "list.reverse()\n",
    "```\n",
    "\n",
    "##### sort\n",
    "\n",
    "列表元素排序，但需要注意的是字符串和数字是不能比较大小的\n",
    "\n",
    "语法：\n",
    "\n",
    "```py\n",
    "list.sort(reversr=True, key=None)\n",
    "```\n",
    "\n",
    "reverse参数缺省，默认正序排列；key在列表中的元素是字典是存在价值，按照某个key进行排序"
   ]
  },
  {
   "cell_type": "code",
   "execution_count": 15,
   "id": "807c2c7c-ef37-4b5c-a1f5-71a853f79d29",
   "metadata": {},
   "outputs": [
    {
     "data": {
      "text/plain": [
       "[87, 2, 79, 50, 82, 5, 16, 19, 87, 55]"
      ]
     },
     "execution_count": 15,
     "metadata": {},
     "output_type": "execute_result"
    }
   ],
   "source": [
    "from random import randint\n",
    "\n",
    "list0 = [randint(1, 100) for i in range(10)]\n",
    "list0"
   ]
  },
  {
   "cell_type": "code",
   "execution_count": 17,
   "id": "ec2a2de4-d57b-4d18-bf4d-83700db19adf",
   "metadata": {},
   "outputs": [
    {
     "data": {
      "text/plain": [
       "[87, 87, 82, 79, 55, 50, 19, 16, 5, 2]"
      ]
     },
     "execution_count": 17,
     "metadata": {},
     "output_type": "execute_result"
    }
   ],
   "source": [
    "list0.sort(reverse=True)\n",
    "list0"
   ]
  },
  {
   "cell_type": "markdown",
   "id": "b14676bc-12c4-4668-a4f3-f7c40b23a710",
   "metadata": {},
   "source": [
    "#### f.列表的复制\n",
    "\n",
    "##### copy\n",
    "\n",
    "copy复制或是借助切片复制，都是第一层深拷贝，第二层浅拷贝"
   ]
  },
  {
   "cell_type": "code",
   "execution_count": 18,
   "id": "37564dcb-84cb-467a-9239-51281a74205c",
   "metadata": {},
   "outputs": [
    {
     "data": {
      "text/plain": [
       "[1, 3, 2, 5]"
      ]
     },
     "execution_count": 18,
     "metadata": {},
     "output_type": "execute_result"
    }
   ],
   "source": [
    "list0 = [1, 3, 2, 5]\n",
    "list1 = list0.copy()\n",
    "list1[0] = 199\n",
    "list0"
   ]
  },
  {
   "cell_type": "code",
   "execution_count": 19,
   "id": "eb1d8758-bc8e-4991-ac6c-973d83e1ace6",
   "metadata": {},
   "outputs": [
    {
     "data": {
      "text/plain": [
       "[1, 2, [100, 4]]"
      ]
     },
     "execution_count": 19,
     "metadata": {},
     "output_type": "execute_result"
    }
   ],
   "source": [
    "list0 = [1, 2, [1, 4]]\n",
    "list1 = list0.copy()\n",
    "list1[2][0] = 100\n",
    "list0"
   ]
  },
  {
   "cell_type": "markdown",
   "id": "a25797f0-6bdc-4a4f-8739-f448dd9f5b27",
   "metadata": {},
   "source": [
    "##### 切片"
   ]
  },
  {
   "cell_type": "code",
   "execution_count": 21,
   "id": "fe28756d-81e9-4264-8a12-a5cbf95e3dc1",
   "metadata": {},
   "outputs": [
    {
     "data": {
      "text/plain": [
       "[1, 3, 2, 5]"
      ]
     },
     "execution_count": 21,
     "metadata": {},
     "output_type": "execute_result"
    }
   ],
   "source": [
    "list0 = [1, 3, 2, 5]\n",
    "list1 = list0[:]\n",
    "list1[0] = 199\n",
    "list0"
   ]
  },
  {
   "cell_type": "code",
   "execution_count": 22,
   "id": "c5966ce7-0562-4e0d-aa56-5a6e187473ec",
   "metadata": {},
   "outputs": [
    {
     "data": {
      "text/plain": [
       "[1, 2, [100, 4]]"
      ]
     },
     "execution_count": 22,
     "metadata": {},
     "output_type": "execute_result"
    }
   ],
   "source": [
    "list0 = [1, 2, [1, 4]]\n",
    "list1 = list0[:]\n",
    "list1[2][0] = 100\n",
    "list0"
   ]
  },
  {
   "cell_type": "markdown",
   "id": "32a4432e-1dfa-4b0e-aa39-604c4158e056",
   "metadata": {},
   "source": [
    "### 2.列表的循环遍历\n",
    "\n",
    "#### a.通过while循环"
   ]
  },
  {
   "cell_type": "code",
   "execution_count": 23,
   "id": "e3dc53f0-16b3-431a-b470-0a2e35f4e0da",
   "metadata": {},
   "outputs": [
    {
     "name": "stdout",
     "output_type": "stream",
     "text": [
      "a\n",
      "d\n",
      "y\n"
     ]
    }
   ],
   "source": [
    "list0 = ['a', 'd', 'y']\n",
    "\n",
    "i = 0\n",
    "while i < len(list0):\n",
    "    print(list0[i])\n",
    "    i += 1"
   ]
  },
  {
   "cell_type": "markdown",
   "id": "6e1c3d9e-af87-403a-ad1d-65c4f07899ca",
   "metadata": {},
   "source": [
    "#### b.通过for循环\n",
    "\n",
    "重点在于学习enumerate和视作只读的理解"
   ]
  },
  {
   "cell_type": "code",
   "execution_count": 25,
   "id": "60d8c507-b034-4f2f-a421-7f8075a7ad7e",
   "metadata": {},
   "outputs": [
    {
     "name": "stdout",
     "output_type": "stream",
     "text": [
      "list0[0] = 1\n",
      "list0[1] = 4\n",
      "list0[2] = 67\n",
      "list0[3] = 3\n",
      "list0[4] = 8\n"
     ]
    }
   ],
   "source": [
    "list0 = [1, 4, 67, 3, 8]\n",
    "\n",
    "for index, val in enumerate(list0):\n",
    "    print(f'list0[{index}] = {val}')"
   ]
  },
  {
   "cell_type": "markdown",
   "id": "e95d757f-daea-4f7a-af7c-a2f46af9f80e",
   "metadata": {},
   "source": [
    "### 3.列表的嵌套"
   ]
  },
  {
   "cell_type": "code",
   "execution_count": 28,
   "id": "29079947-fd80-496f-b7c1-acb84e19025b",
   "metadata": {},
   "outputs": [],
   "source": [
    "list_name = [['a', 'b', 'c'], ['d', 'e', 'f'], ['g', 'h']]"
   ]
  },
  {
   "cell_type": "code",
   "execution_count": 30,
   "id": "dd377a33-0131-4bc3-934e-137a599b7e05",
   "metadata": {},
   "outputs": [
    {
     "data": {
      "text/plain": [
       "'c'"
      ]
     },
     "execution_count": 30,
     "metadata": {},
     "output_type": "execute_result"
    }
   ],
   "source": [
    "list_name[0][2]  # 序列嵌套的索引方式"
   ]
  },
  {
   "cell_type": "markdown",
   "id": "3e7bfc46-f087-4e6f-8bf9-1c37363e3ad4",
   "metadata": {},
   "source": [
    "### 示例 办公室分配"
   ]
  },
  {
   "cell_type": "code",
   "execution_count": 34,
   "id": "3e83cf3f-c749-47e4-be18-8d3a9bd3a740",
   "metadata": {},
   "outputs": [
    {
     "data": {
      "text/plain": [
       "['A', 'B', 'C', 'D', 'E', 'F', 'G', 'H']"
      ]
     },
     "execution_count": 34,
     "metadata": {},
     "output_type": "execute_result"
    }
   ],
   "source": [
    "teacher_list = [chr(i) for i in range(65, 65+8)]\n",
    "teacher_list"
   ]
  },
  {
   "cell_type": "code",
   "execution_count": 37,
   "id": "bca2d82b-22cf-40d6-8637-5b853d83beab",
   "metadata": {},
   "outputs": [
    {
     "data": {
      "text/plain": [
       "[['E', 'G'], ['A', 'D', 'F', 'H'], ['B', 'C']]"
      ]
     },
     "execution_count": 37,
     "metadata": {},
     "output_type": "execute_result"
    }
   ],
   "source": [
    "room_list = [[], [], []]\n",
    "\n",
    "for i in teacher_list:\n",
    "    room_list[randint(0, 2)].append(i)\n",
    "    \n",
    "room_list"
   ]
  },
  {
   "cell_type": "markdown",
   "id": "3da85738-348e-4302-8f7a-9d51841a6d60",
   "metadata": {},
   "source": [
    "## 三、元组\n",
    "\n",
    "与列表不同的是，元组是不可变数据类型"
   ]
  },
  {
   "cell_type": "markdown",
   "id": "218f9690-8766-4361-9fb0-27f8ddc340b5",
   "metadata": {},
   "source": [
    "### 1.元组的定义\n",
    "\n",
    "注意单个元素的元组为了避免歧义需要逗号的书写方式"
   ]
  },
  {
   "cell_type": "code",
   "execution_count": 38,
   "id": "f8a35a35-0550-4be6-918a-bd504dcd7259",
   "metadata": {},
   "outputs": [
    {
     "data": {
      "text/plain": [
       "(1,)"
      ]
     },
     "execution_count": 38,
     "metadata": {},
     "output_type": "execute_result"
    }
   ],
   "source": [
    "tuple1 = (1,)\n",
    "tuple1"
   ]
  },
  {
   "cell_type": "markdown",
   "id": "f82f895f-3082-4661-a2f0-90a8eff118e8",
   "metadata": {},
   "source": [
    "### 2.查找数据\n",
    "\n",
    "#### 下标\n",
    "\n",
    "#### index和count\n",
    "\n",
    "和str、list中的函数参数传递和使用完全相同。\n",
    "\n",
    "#### len"
   ]
  },
  {
   "cell_type": "markdown",
   "id": "28d0bab4-9d15-4f1e-a51e-3ea2459e77e2",
   "metadata": {},
   "source": [
    "### 3.元组数据的修改\n",
    "\n",
    "元组数据是不能修改的，但若其中存在嵌套的可修改的数据类型：列表、字典等可以按照对应方式修改"
   ]
  },
  {
   "cell_type": "code",
   "execution_count": 39,
   "id": "506d37a6-973f-4e6f-a133-5ff1c50ccd61",
   "metadata": {},
   "outputs": [
    {
     "data": {
      "text/plain": [
       "([100, 2], 50)"
      ]
     },
     "execution_count": 39,
     "metadata": {},
     "output_type": "execute_result"
    }
   ],
   "source": [
    "tuple0 = ([1, 2], 50)\n",
    "tuple0[0][0] = 100\n",
    "tuple0"
   ]
  }
 ],
 "metadata": {
  "kernelspec": {
   "display_name": "Python 3 (ipykernel)",
   "language": "python",
   "name": "python3"
  },
  "language_info": {
   "codemirror_mode": {
    "name": "ipython",
    "version": 3
   },
   "file_extension": ".py",
   "mimetype": "text/x-python",
   "name": "python",
   "nbconvert_exporter": "python",
   "pygments_lexer": "ipython3",
   "version": "3.10.2"
  },
  "toc-autonumbering": false,
  "toc-showcode": false,
  "toc-showmarkdowntxt": false,
  "toc-showtags": false
 },
 "nbformat": 4,
 "nbformat_minor": 5
}
