{
 "cells": [
  {
   "cell_type": "markdown",
   "id": "58f117b0-dac5-4f9d-afe8-76c688b73e67",
   "metadata": {},
   "source": [
    "# 第6节 循环\n",
    "\n",
    "## 1. while循环\n",
    "\n",
    "### a.while语句\n",
    "\n",
    "语法：\n",
    "\n",
    "```py\n",
    "while condition:\n",
    "    code\n",
    "```\n",
    "\n",
    "注意缩进包含关系"
   ]
  },
  {
   "cell_type": "code",
   "execution_count": 1,
   "id": "b886e698-a05e-49a0-a77c-2edc371cb972",
   "metadata": {},
   "outputs": [
    {
     "name": "stdout",
     "output_type": "stream",
     "text": [
      "ha\n",
      "ha\n",
      "ha\n",
      "ha\n",
      "ha\n"
     ]
    }
   ],
   "source": [
    "i = 0  # 循环计数器，习惯上从0开始\n",
    "while i < 5:\n",
    "    print('ha')\n",
    "    i += 1  # 一定要注意循环变量的改变"
   ]
  },
  {
   "cell_type": "code",
   "execution_count": 2,
   "id": "59149518-3450-4754-a33b-27c3149e34d9",
   "metadata": {},
   "outputs": [
    {
     "name": "stdout",
     "output_type": "stream",
     "text": [
      "result = 5050\n"
     ]
    }
   ],
   "source": [
    "# 求1——100的累加和\n",
    "i = 1\n",
    "res = 0\n",
    "while i <= 100:\n",
    "    res += i\n",
    "    i += 1\n",
    "print(f'result = {res}')"
   ]
  },
  {
   "cell_type": "code",
   "execution_count": 3,
   "id": "72d93243-3127-4852-9ed5-0d4787028790",
   "metadata": {},
   "outputs": [
    {
     "name": "stdout",
     "output_type": "stream",
     "text": [
      "result = 2550\n"
     ]
    }
   ],
   "source": [
    "# 求1——100的偶数累加和\n",
    "\n",
    "# 方法1\n",
    "i = 2\n",
    "res = 0\n",
    "while i <= 100:\n",
    "    res += i\n",
    "    i += 2\n",
    "print(f'result = {res}')"
   ]
  },
  {
   "cell_type": "code",
   "execution_count": 4,
   "id": "e91de756-4a91-4c6b-a42f-710289bca75f",
   "metadata": {},
   "outputs": [
    {
     "name": "stdout",
     "output_type": "stream",
     "text": [
      "result = 2550\n"
     ]
    }
   ],
   "source": [
    "# 方法2\n",
    "i = 1\n",
    "res = 0\n",
    "while i <= 100:\n",
    "    if i % 2 == 0:\n",
    "        res += i\n",
    "    i += 1\n",
    "print(f'result = {res}')"
   ]
  },
  {
   "cell_type": "markdown",
   "id": "42a14ced-8163-4890-a264-1ab8caec89f1",
   "metadata": {},
   "source": [
    "### b.break和continue\n",
    "\n",
    "循环中满足条件退出循环的两种方式\n",
    "\n",
    "break：终止循环\n",
    "\n",
    "continue：终止本次循环，回到条件判断"
   ]
  },
  {
   "cell_type": "code",
   "execution_count": 8,
   "id": "8696a856-31aa-446e-8b72-b96edcb17cb5",
   "metadata": {},
   "outputs": [
    {
     "name": "stdout",
     "output_type": "stream",
     "text": [
      "吃第1个苹果\n",
      "吃第2个苹果\n",
      "吃第3个苹果\n",
      "我饱了，不吃了\n"
     ]
    }
   ],
   "source": [
    "# break\n",
    "i = 1\n",
    "while i <= 5:\n",
    "    if i > 3:\n",
    "        print('我饱了，不吃了')\n",
    "        break\n",
    "    print(f'吃第{i}个苹果')\n",
    "    i += 1"
   ]
  },
  {
   "cell_type": "code",
   "execution_count": 10,
   "id": "22113be0-1fcd-434b-a090-5910904f1637",
   "metadata": {},
   "outputs": [
    {
     "name": "stdout",
     "output_type": "stream",
     "text": [
      "吃第1个苹果\n",
      "吃第2个苹果\n",
      "第3个苹果有虫子\n",
      "吃第4个苹果\n",
      "吃第5个苹果\n"
     ]
    }
   ],
   "source": [
    "# continue\n",
    "i = 1\n",
    "while i <= 5:\n",
    "    if i == 3:\n",
    "        print(f'第{i}个苹果有虫子')\n",
    "        i += 1  # continue一定要注意循环变量改变，避免死循环\n",
    "        continue\n",
    "    print(f'吃第{i}个苹果')\n",
    "    i += 1"
   ]
  },
  {
   "cell_type": "markdown",
   "id": "90e8ef9c-146a-4da8-8713-9f1d0fa8d9f7",
   "metadata": {},
   "source": [
    "### c.while嵌套\n",
    "\n",
    "嵌套的格式和if嵌套时没有差异"
   ]
  },
  {
   "cell_type": "code",
   "execution_count": 3,
   "id": "e6674e5b-1518-441d-919d-8a9f107cac57",
   "metadata": {},
   "outputs": [
    {
     "name": "stdout",
     "output_type": "stream",
     "text": [
      "媳妇儿，我错了\n",
      "媳妇儿，我错了\n",
      "媳妇儿，我错了\n",
      "刷晚饭的碗\n",
      "----------------------\n",
      "媳妇儿，我错了\n",
      "媳妇儿，我错了\n",
      "媳妇儿，我错了\n",
      "刷晚饭的碗\n",
      "----------------------\n",
      "媳妇儿，我错了\n",
      "媳妇儿，我错了\n",
      "媳妇儿，我错了\n",
      "刷晚饭的碗\n",
      "----------------------\n",
      "原谅你了\n"
     ]
    }
   ],
   "source": [
    "i = 0\n",
    "while i < 3:\n",
    "    j = 0\n",
    "    while j < 3:\n",
    "        print('媳妇儿，我错了')\n",
    "        j += 1\n",
    "    print('刷晚饭的碗')\n",
    "    print('----------------------')\n",
    "    i += 1\n",
    "print('原谅你了')"
   ]
  },
  {
   "cell_type": "markdown",
   "id": "f969e12f-191a-4c80-8875-16805fd574c4",
   "metadata": {},
   "source": [
    "### 示例 打印九九乘法表"
   ]
  },
  {
   "cell_type": "code",
   "execution_count": 5,
   "id": "4544f5ac-323e-4cf8-8866-a65cbe4e04eb",
   "metadata": {},
   "outputs": [
    {
     "name": "stdout",
     "output_type": "stream",
     "text": [
      "1 × 1 = 1\t\n",
      "1 × 2 = 2\t2 × 2 = 4\t\n",
      "1 × 3 = 3\t2 × 3 = 6\t3 × 3 = 9\t\n",
      "1 × 4 = 4\t2 × 4 = 8\t3 × 4 = 12\t4 × 4 = 16\t\n",
      "1 × 5 = 5\t2 × 5 = 10\t3 × 5 = 15\t4 × 5 = 20\t5 × 5 = 25\t\n",
      "1 × 6 = 6\t2 × 6 = 12\t3 × 6 = 18\t4 × 6 = 24\t5 × 6 = 30\t6 × 6 = 36\t\n",
      "1 × 7 = 7\t2 × 7 = 14\t3 × 7 = 21\t4 × 7 = 28\t5 × 7 = 35\t6 × 7 = 42\t7 × 7 = 49\t\n",
      "1 × 8 = 8\t2 × 8 = 16\t3 × 8 = 24\t4 × 8 = 32\t5 × 8 = 40\t6 × 8 = 48\t7 × 8 = 56\t8 × 8 = 64\t\n",
      "1 × 9 = 9\t2 × 9 = 18\t3 × 9 = 27\t4 × 9 = 36\t5 × 9 = 45\t6 × 9 = 54\t7 × 9 = 63\t8 × 9 = 72\t9 × 9 = 81\t\n"
     ]
    }
   ],
   "source": [
    "i = 1\n",
    "while i <= 9:\n",
    "    j = 1\n",
    "    while j <= i:\n",
    "        print(f'{j} × {i} = {j*i}', end='\\t')\n",
    "        j += 1\n",
    "    print()\n",
    "    i += 1"
   ]
  },
  {
   "cell_type": "markdown",
   "id": "223e54c8-aeb1-4cba-b0a9-bf3fccabb7bf",
   "metadata": {},
   "source": [
    "### d.while-else语句\n",
    "\n",
    "语法：\n",
    "\n",
    "```py\n",
    "while 条件:\n",
    "    代码块1\n",
    "else:\n",
    "    代码块2\n",
    "```\n",
    "\n",
    "若循环正常结束，会执行else后的代码块，否则不执行。循环的非正常退出即指通过break跳出循环"
   ]
  },
  {
   "cell_type": "code",
   "execution_count": 11,
   "id": "8e1474a0-2869-4f6a-8b3c-b5d023a7fc29",
   "metadata": {},
   "outputs": [
    {
     "name": "stdout",
     "output_type": "stream",
     "text": [
      "媳妇，我错了\n",
      "媳妇，我错了\n",
      "媳妇，我错了\n",
      "媳妇，我错了\n",
      "媳妇，我错了\n",
      "原谅你了\n"
     ]
    }
   ],
   "source": [
    "i = 1\n",
    "while i <= 5:\n",
    "    print('媳妇，我错了')\n",
    "    i += 1\n",
    "else:\n",
    "    print('原谅你了')"
   ]
  },
  {
   "cell_type": "code",
   "execution_count": 10,
   "id": "66445945-df72-48a1-abb0-f1a2497a1ef1",
   "metadata": {},
   "outputs": [
    {
     "name": "stdout",
     "output_type": "stream",
     "text": [
      "媳妇，我错了\n",
      "媳妇，我错了\n"
     ]
    }
   ],
   "source": [
    "# 使用break，循环非正常结束\n",
    "i = 1\n",
    "while i <= 5:\n",
    "    if i == 3:\n",
    "        break\n",
    "    print('媳妇，我错了')\n",
    "    i += 1\n",
    "else:\n",
    "    print('原谅你了')"
   ]
  },
  {
   "cell_type": "code",
   "execution_count": 13,
   "id": "b9f4bc71-d17e-4c92-9f59-f57af824f57c",
   "metadata": {},
   "outputs": [
    {
     "name": "stdout",
     "output_type": "stream",
     "text": [
      "媳妇，我错了\n",
      "媳妇，我错了\n",
      "媳妇，我错了\n",
      "媳妇，我错了\n",
      "原谅你了\n"
     ]
    }
   ],
   "source": [
    "# 使用continue，不会影响循环的正常结束\n",
    "i = 1\n",
    "while i <= 5:\n",
    "    if i == 3:\n",
    "        i += 1\n",
    "        continue\n",
    "    print('媳妇，我错了')\n",
    "    i += 1\n",
    "else:\n",
    "    print('原谅你了')"
   ]
  },
  {
   "cell_type": "markdown",
   "id": "12f544f8-03f8-422f-81f5-29c34235cca6",
   "metadata": {},
   "source": [
    "## 2.for循环\n",
    "\n",
    "### a.for语法\n",
    "\n",
    "```py\n",
    "for 临时变量 in 序列:\n",
    "    重复执行代码\n",
    "```\n",
    "\n",
    "临时变量在使用时作为只读理解，对于其修改不会影响原来的内存空间"
   ]
  },
  {
   "cell_type": "code",
   "execution_count": 2,
   "id": "31cfb62f-44a4-46d6-a075-f6a3ae0be37b",
   "metadata": {},
   "outputs": [
    {
     "name": "stdout",
     "output_type": "stream",
     "text": [
      "i\n",
      "t\n",
      "h\n",
      "e\n",
      "i\n",
      "m\n",
      "a\n"
     ]
    }
   ],
   "source": [
    "str1 = 'itheima'\n",
    "for i in str1:\n",
    "    print(i)"
   ]
  },
  {
   "cell_type": "markdown",
   "id": "6d6167e5-0f98-46fb-b49a-a38e02a8fe83",
   "metadata": {},
   "source": [
    "### b.for中使用break和continue"
   ]
  },
  {
   "cell_type": "code",
   "execution_count": 3,
   "id": "501f302a-d1c7-4c8e-8a27-5e9f28d85c8a",
   "metadata": {},
   "outputs": [
    {
     "name": "stdout",
     "output_type": "stream",
     "text": [
      "i\n",
      "t\n"
     ]
    }
   ],
   "source": [
    "# break的使用\n",
    "for i in str1:\n",
    "    if i == 'h':\n",
    "        break\n",
    "    print(i)"
   ]
  },
  {
   "cell_type": "code",
   "execution_count": 4,
   "id": "124f0682-1a3f-47f6-8578-e6b2f50a1287",
   "metadata": {},
   "outputs": [
    {
     "name": "stdout",
     "output_type": "stream",
     "text": [
      "i\n",
      "t\n",
      "e\n",
      "i\n",
      "m\n",
      "a\n"
     ]
    }
   ],
   "source": [
    "# continue的使用\n",
    "for i in str1:\n",
    "    if i == 'h':\n",
    "        continue\n",
    "    print(i)"
   ]
  },
  {
   "cell_type": "markdown",
   "id": "be8f8b94-c6db-429b-9bee-1d6067e8416c",
   "metadata": {},
   "source": [
    "### c.for-else语句\n",
    "\n",
    "非正常退出和while一样，只有通过break"
   ]
  },
  {
   "cell_type": "code",
   "execution_count": 16,
   "id": "a6e8babc-2ae6-417f-a6cf-db7725227a38",
   "metadata": {},
   "outputs": [
    {
     "name": "stdout",
     "output_type": "stream",
     "text": [
      "i\n",
      "t\n",
      "h\n",
      "e\n",
      "i\n",
      "m\n",
      "a\n",
      "End\n"
     ]
    }
   ],
   "source": [
    "for i in str1:\n",
    "    print(i)\n",
    "else:\n",
    "    print('End')"
   ]
  },
  {
   "cell_type": "code",
   "execution_count": 14,
   "id": "6777c277-eee4-4cde-8869-7d8d9cbfdfd8",
   "metadata": {},
   "outputs": [
    {
     "name": "stdout",
     "output_type": "stream",
     "text": [
      "i\n",
      "t\n",
      "e\n",
      "i\n",
      "m\n",
      "a\n",
      "End\n"
     ]
    }
   ],
   "source": [
    "for i in str1:\n",
    "    if i == 'h':\n",
    "        continue\n",
    "    print(i)\n",
    "else:\n",
    "    print('End')"
   ]
  },
  {
   "cell_type": "code",
   "execution_count": 15,
   "id": "695c23ce-3c43-47ad-96c9-fa3a0d3adde3",
   "metadata": {},
   "outputs": [
    {
     "name": "stdout",
     "output_type": "stream",
     "text": [
      "i\n",
      "t\n"
     ]
    }
   ],
   "source": [
    "for i in str1:\n",
    "    if i == 'h':\n",
    "        break\n",
    "    print(i)\n",
    "else:\n",
    "    print('End')"
   ]
  }
 ],
 "metadata": {
  "kernelspec": {
   "display_name": "Python 3 (ipykernel)",
   "language": "python",
   "name": "python3"
  },
  "language_info": {
   "codemirror_mode": {
    "name": "ipython",
    "version": 3
   },
   "file_extension": ".py",
   "mimetype": "text/x-python",
   "name": "python",
   "nbconvert_exporter": "python",
   "pygments_lexer": "ipython3",
   "version": "3.10.2"
  }
 },
 "nbformat": 4,
 "nbformat_minor": 5
}
