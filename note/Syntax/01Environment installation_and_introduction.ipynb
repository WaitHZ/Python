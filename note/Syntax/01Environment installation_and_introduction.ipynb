{
 "cells": [
  {
   "cell_type": "markdown",
   "id": "d735e7c4-f6b6-43c0-a7c8-4a39fa5df022",
   "metadata": {},
   "source": [
    "# 第1节 开发环境安装及介绍\n",
    "\n",
    "课程操作环境基于Python3.7+Pycharm，该部分主要以环境配置为主。\n",
    "\n",
    "需要掌握的有：\n",
    "\n",
    "1.Python解释器有不同语言编写的版本\n",
    "\n",
    "2.如下第一个Hello_World程序"
   ]
  },
  {
   "cell_type": "code",
   "execution_count": 1,
   "id": "f5716f4c-41f6-4102-a3d0-79192c6d96d6",
   "metadata": {},
   "outputs": [
    {
     "name": "stdout",
     "output_type": "stream",
     "text": [
      "Hello world!\n"
     ]
    }
   ],
   "source": [
    "print('Hello world!')"
   ]
  }
 ],
 "metadata": {
  "kernelspec": {
   "display_name": "Python 3 (ipykernel)",
   "language": "python",
   "name": "python3"
  },
  "language_info": {
   "codemirror_mode": {
    "name": "ipython",
    "version": 3
   },
   "file_extension": ".py",
   "mimetype": "text/x-python",
   "name": "python",
   "nbconvert_exporter": "python",
   "pygments_lexer": "ipython3",
   "version": "3.10.2"
  }
 },
 "nbformat": 4,
 "nbformat_minor": 5
}
