{
 "cells": [
  {
   "cell_type": "markdown",
   "id": "25083b8a-e6de-4ee2-8aca-b194d02411de",
   "metadata": {},
   "source": [
    "# 第8节 字典和集合"
   ]
  },
  {
   "cell_type": "markdown",
   "id": "5cd1c438-6d26-4e2e-b025-eecc4a25f3a5",
   "metadata": {},
   "source": [
    "## 一、字典\n",
    "\n",
    "**字典是可变数据类型，数据是有序的！！！**\n",
    "\n",
    "键值对：key-val"
   ]
  },
  {
   "cell_type": "code",
   "execution_count": 2,
   "id": "81e2b8bb-4556-483d-bed1-1d7ec92b10ac",
   "metadata": {},
   "outputs": [
    {
     "data": {
      "text/plain": [
       "'Tom'"
      ]
     },
     "execution_count": 2,
     "metadata": {},
     "output_type": "execute_result"
    }
   ],
   "source": [
    "id_dict = {'name': 'Tom', 'age': 18, 'gender': 'male'}\n",
    "\n",
    "id_dict['name']"
   ]
  },
  {
   "cell_type": "markdown",
   "id": "d257e518-a753-45bb-82e8-55b71819af9c",
   "metadata": {},
   "source": [
    "### 1.创建字典\n",
    "\n",
    "特点：\n",
    "\n",
    "符号为大括号；\n",
    "\n",
    "数据以键值对的形式出现；\n",
    "\n",
    "各个键值对之间用逗号隔开"
   ]
  },
  {
   "cell_type": "code",
   "execution_count": 7,
   "id": "dbb72a86-50ff-4af0-81e3-c2906e6ac7c2",
   "metadata": {},
   "outputs": [
    {
     "data": {
      "text/plain": [
       "dict"
      ]
     },
     "execution_count": 7,
     "metadata": {},
     "output_type": "execute_result"
    }
   ],
   "source": [
    "# 创建空字典\n",
    "dict0 = {}  # 不能再用于创建空集合\n",
    "type(dict0)"
   ]
  },
  {
   "cell_type": "code",
   "execution_count": 8,
   "id": "73445fda-3413-43b2-91de-e9a924e5b571",
   "metadata": {},
   "outputs": [
    {
     "name": "stdout",
     "output_type": "stream",
     "text": [
      "{}\n"
     ]
    }
   ],
   "source": [
    "dict0 = dict()\n",
    "print(dict0)"
   ]
  },
  {
   "cell_type": "code",
   "execution_count": 16,
   "id": "15bf41c8-efcd-4762-9c8b-8fd631e104fa",
   "metadata": {},
   "outputs": [
    {
     "data": {
      "text/plain": [
       "{'name': 'Tom', 'age': 18, 'gender': 'male'}"
      ]
     },
     "execution_count": 16,
     "metadata": {},
     "output_type": "execute_result"
    }
   ],
   "source": [
    "dict1 = {'name': 'Tom', 'age': 18, 'gender': 'male'}\n",
    "dict1"
   ]
  },
  {
   "cell_type": "markdown",
   "id": "7939135a-c1bb-4d99-80ad-9a2c474f1714",
   "metadata": {},
   "source": [
    "### 2.字典常用操作\n",
    "\n",
    "#### a.字典增加数据\n",
    "\n",
    "直接通过不存在的键进行‘赋值’增加，是追加在末尾\n",
    "\n",
    "（原有数据修改方式相同，采用已经存在的键）"
   ]
  },
  {
   "cell_type": "code",
   "execution_count": 17,
   "id": "fc47e3ff-669e-48ff-a7eb-4c90af4ce351",
   "metadata": {},
   "outputs": [
    {
     "data": {
      "text/plain": [
       "{'name': 'Tom', 'age': 18, 'gender': 'male', 'id': 1}"
      ]
     },
     "execution_count": 17,
     "metadata": {},
     "output_type": "execute_result"
    }
   ],
   "source": [
    "dict1['id'] = 1\n",
    "dict1"
   ]
  },
  {
   "cell_type": "markdown",
   "id": "584711e2-8b10-4040-b96c-995c753e5887",
   "metadata": {},
   "source": [
    "#### b.字典删除数据\n",
    "\n",
    "##### del\n",
    "\n",
    "删除键值对或删除字典\n",
    "\n",
    "键值对不存在会报错"
   ]
  },
  {
   "cell_type": "code",
   "execution_count": 18,
   "id": "87b54201-2ad6-4232-9fa9-253e14b1e782",
   "metadata": {},
   "outputs": [
    {
     "data": {
      "text/plain": [
       "{'name': 'Tom', 'age': 18, 'id': 1}"
      ]
     },
     "execution_count": 18,
     "metadata": {},
     "output_type": "execute_result"
    }
   ],
   "source": [
    "del dict1['gender']\n",
    "dict1"
   ]
  },
  {
   "cell_type": "markdown",
   "id": "52be88cd-a038-4627-8035-f679bc6fa6a7",
   "metadata": {},
   "source": [
    "##### clear"
   ]
  },
  {
   "cell_type": "code",
   "execution_count": 19,
   "id": "802d6e17-f9f9-4f84-b612-84efbf3e3ebe",
   "metadata": {},
   "outputs": [
    {
     "data": {
      "text/plain": [
       "{}"
      ]
     },
     "execution_count": 19,
     "metadata": {},
     "output_type": "execute_result"
    }
   ],
   "source": [
    "dict1.clear()\n",
    "dict1"
   ]
  },
  {
   "cell_type": "markdown",
   "id": "dba32511-d26a-4a27-89bb-d5ee52eab1d3",
   "metadata": {},
   "source": [
    "#### c.字典数据修改\n",
    "\n",
    "与列表新增数据写法相同"
   ]
  },
  {
   "cell_type": "code",
   "execution_count": 20,
   "id": "1c5ecaf8-b767-42bc-b7db-7dfa6a73f60e",
   "metadata": {},
   "outputs": [
    {
     "data": {
      "text/plain": [
       "{'name': 'Lily', 'age': 18, 'gender': 'male'}"
      ]
     },
     "execution_count": 20,
     "metadata": {},
     "output_type": "execute_result"
    }
   ],
   "source": [
    "dict1 = {'name': 'Tom', 'age': 18, 'gender': 'male'}\n",
    "dict1['name'] = 'Lily'\n",
    "dict1"
   ]
  },
  {
   "cell_type": "markdown",
   "id": "b58d02f0-ad83-4422-bd68-974d2ab17793",
   "metadata": {},
   "source": [
    "#### d.字典数据查找\n",
    "\n",
    "##### 通过key值进行查找\n",
    "\n",
    "key不存在就会报错\n",
    "\n",
    "##### get函数\n",
    "\n",
    "语法：\n",
    "\n",
    "```py\n",
    "dict.get(key, 默认值）\n",
    "```\n",
    "\n",
    "若找不到返回默认值，若第二个参数缺省，找不到返回None"
   ]
  },
  {
   "cell_type": "code",
   "execution_count": 2,
   "id": "a7124ff4-c9a6-465f-a340-929ceddcefd4",
   "metadata": {},
   "outputs": [
    {
     "data": {
      "text/plain": [
       "'No this key in the dict'"
      ]
     },
     "execution_count": 2,
     "metadata": {},
     "output_type": "execute_result"
    }
   ],
   "source": [
    "dict1 = {chr(i): i for i in range(65, 65+8)}\n",
    "dict1.get('Z', 'No this key in the dict')"
   ]
  },
  {
   "cell_type": "code",
   "execution_count": 5,
   "id": "da640a42-36b9-4a84-9f9f-552473c4e74f",
   "metadata": {},
   "outputs": [
    {
     "name": "stdout",
     "output_type": "stream",
     "text": [
      "None\n"
     ]
    }
   ],
   "source": [
    "print(dict1.get('a'))"
   ]
  },
  {
   "cell_type": "code",
   "execution_count": 6,
   "id": "7ad93f55-1b1e-4542-8fd0-6b31afeb0e12",
   "metadata": {},
   "outputs": [
    {
     "data": {
      "text/plain": [
       "65"
      ]
     },
     "execution_count": 6,
     "metadata": {},
     "output_type": "execute_result"
    }
   ],
   "source": [
    "dict1.get('A')"
   ]
  },
  {
   "cell_type": "markdown",
   "id": "d3215db5-f620-4a17-a409-66ffe9ba7dfb",
   "metadata": {},
   "source": [
    "##### keys、values、items\n",
    "\n",
    "三者均返回的是可迭代对象，若需要使用，可以进行数据类型转化"
   ]
  },
  {
   "cell_type": "markdown",
   "id": "b3ad5e84-a089-48f9-bca0-bad4686fcd40",
   "metadata": {},
   "source": [
    "#### e.字典的循环遍历\n",
    "\n",
    "##### key值遍历"
   ]
  },
  {
   "cell_type": "code",
   "execution_count": 23,
   "id": "d3d50ce9-c21a-49c7-aadd-0d8889b172e6",
   "metadata": {},
   "outputs": [
    {
     "data": {
      "text/plain": [
       "{'A': 65, 'B': 66, 'C': 67, 'D': 68, 'E': 69, 'F': 70, 'G': 71, 'H': 72}"
      ]
     },
     "execution_count": 23,
     "metadata": {},
     "output_type": "execute_result"
    }
   ],
   "source": [
    "dict1 = {chr(i): i for i in range(65, 65+8)}\n",
    "dict1"
   ]
  },
  {
   "cell_type": "code",
   "execution_count": 27,
   "id": "ce989bfc-28c8-4818-b159-f98d00f72983",
   "metadata": {},
   "outputs": [
    {
     "name": "stdout",
     "output_type": "stream",
     "text": [
      "A\n",
      "B\n",
      "C\n",
      "D\n",
      "E\n",
      "F\n",
      "G\n",
      "H\n"
     ]
    }
   ],
   "source": [
    "for i in dict1.keys():  # 可迭代对象\n",
    "    print(i)"
   ]
  },
  {
   "cell_type": "markdown",
   "id": "432273de-e429-43c9-b440-567b11051f9b",
   "metadata": {},
   "source": [
    "##### val值遍历"
   ]
  },
  {
   "cell_type": "code",
   "execution_count": 25,
   "id": "b6e72ad4-bca3-44f3-9d15-f24e99659a10",
   "metadata": {},
   "outputs": [
    {
     "name": "stdout",
     "output_type": "stream",
     "text": [
      "65\n",
      "66\n",
      "67\n",
      "68\n",
      "69\n",
      "70\n",
      "71\n",
      "72\n"
     ]
    }
   ],
   "source": [
    "for i in dict1.values():\n",
    "    print(i)"
   ]
  },
  {
   "cell_type": "markdown",
   "id": "8315adbd-c007-4830-9824-bd34fbb7d11e",
   "metadata": {},
   "source": [
    "##### 键值对循环遍历\n",
    "\n",
    "临时变量存储的是元祖"
   ]
  },
  {
   "cell_type": "code",
   "execution_count": 26,
   "id": "cb834493-a587-458c-be87-68bb8fea4258",
   "metadata": {},
   "outputs": [
    {
     "name": "stdout",
     "output_type": "stream",
     "text": [
      "('A', 65)\n",
      "('B', 66)\n",
      "('C', 67)\n",
      "('D', 68)\n",
      "('E', 69)\n",
      "('F', 70)\n",
      "('G', 71)\n",
      "('H', 72)\n"
     ]
    }
   ],
   "source": [
    "for i in dict1.items():\n",
    "    print(i)"
   ]
  },
  {
   "cell_type": "markdown",
   "id": "78c876f2-576a-4757-a102-2b9c7d3478fb",
   "metadata": {},
   "source": [
    "进行拆包操作"
   ]
  },
  {
   "cell_type": "code",
   "execution_count": 29,
   "id": "1c32bae8-83f5-4570-a5f2-8a527e1eeeb4",
   "metadata": {},
   "outputs": [
    {
     "name": "stdout",
     "output_type": "stream",
     "text": [
      "A 65\n",
      "B 66\n",
      "C 67\n",
      "D 68\n",
      "E 69\n",
      "F 70\n",
      "G 71\n",
      "H 72\n"
     ]
    }
   ],
   "source": [
    "for key, val in dict1.items():\n",
    "    print(key, val)  # 与enumerate异曲同工"
   ]
  },
  {
   "cell_type": "markdown",
   "id": "046cf733-f117-4bf8-afe7-9c08be51ae00",
   "metadata": {},
   "source": [
    "## 二、集合\n",
    "\n",
    "和数学中的概念相同，具有：互异性、无序性、确定性\n",
    "\n",
    "因其无序性，故不支持下标操作\n",
    "\n",
    "集合数据是可变数据类型\n",
    "\n",
    "### 1.创建集合"
   ]
  },
  {
   "cell_type": "code",
   "execution_count": 10,
   "id": "de33c6ae-df7a-4f84-951a-d832f15df1c4",
   "metadata": {},
   "outputs": [
    {
     "data": {
      "text/plain": [
       "set"
      ]
     },
     "execution_count": 10,
     "metadata": {},
     "output_type": "execute_result"
    }
   ],
   "source": [
    "# 创建空集合\n",
    "\n",
    "set0 = set()  # {}表示的是空字典\n",
    "type(set0)"
   ]
  },
  {
   "cell_type": "code",
   "execution_count": 12,
   "id": "dfb82c6b-0a07-408f-990d-d9509bb96f8b",
   "metadata": {},
   "outputs": [
    {
     "name": "stdout",
     "output_type": "stream",
     "text": [
      "{1, 6, 9}\n"
     ]
    }
   ],
   "source": [
    "# 有数据的集合\n",
    "set1 = {1, 1, 6, 9}\n",
    "print(set1)  # 去重操作"
   ]
  },
  {
   "cell_type": "markdown",
   "id": "c7e104fa-e228-4934-89e9-f3f3eaa41bd7",
   "metadata": {},
   "source": [
    "### 2.集合的运算\n",
    "\n",
    "数学上交并补运算在Python中均有实现"
   ]
  },
  {
   "cell_type": "code",
   "execution_count": 14,
   "id": "499d2098-89e4-41cc-b9ce-ef940e2de115",
   "metadata": {},
   "outputs": [
    {
     "data": {
      "text/plain": [
       "{1}"
      ]
     },
     "execution_count": 14,
     "metadata": {},
     "output_type": "execute_result"
    }
   ],
   "source": [
    "A = {1, 3, 7}\n",
    "B = {5, 8, 1}\n",
    "\n",
    "A & B  # 交集运算  都有才有"
   ]
  },
  {
   "cell_type": "code",
   "execution_count": 17,
   "id": "981b5777-75ae-4212-bd9c-afa04bc0676d",
   "metadata": {},
   "outputs": [
    {
     "data": {
      "text/plain": [
       "{1, 3, 5, 7, 8}"
      ]
     },
     "execution_count": 17,
     "metadata": {},
     "output_type": "execute_result"
    }
   ],
   "source": [
    "A | B  # 并集运算  一个有就有"
   ]
  },
  {
   "cell_type": "code",
   "execution_count": 18,
   "id": "2718b073-8990-4619-9ee8-d5d354cc65a1",
   "metadata": {},
   "outputs": [
    {
     "data": {
      "text/plain": [
       "{3, 7}"
      ]
     },
     "execution_count": 18,
     "metadata": {},
     "output_type": "execute_result"
    }
   ],
   "source": [
    "A - B  # 差集运算"
   ]
  },
  {
   "cell_type": "markdown",
   "id": "d3140430-6c90-4d67-9b27-4754669d1c83",
   "metadata": {},
   "source": [
    "### 3.集合常用方法\n",
    "\n",
    "#### a.增加数据\n",
    "\n",
    "##### add与update"
   ]
  },
  {
   "cell_type": "code",
   "execution_count": 19,
   "id": "49a1291e-3c89-492e-bbc8-8883b474277f",
   "metadata": {},
   "outputs": [
    {
     "data": {
      "text/plain": [
       "{1, 2, 4, 100}"
      ]
     },
     "execution_count": 19,
     "metadata": {},
     "output_type": "execute_result"
    }
   ],
   "source": [
    "# 追加单一数据\n",
    "s1 = {1, 2, 4}\n",
    "s1.add(100)\n",
    "s1"
   ]
  },
  {
   "cell_type": "code",
   "execution_count": 21,
   "id": "f7dddd7d-c60d-4ebf-bfbf-e85694e1ea89",
   "metadata": {},
   "outputs": [
    {
     "data": {
      "text/plain": [
       "{1, 2, 4, 5, 6, 9, 100}"
      ]
     },
     "execution_count": 21,
     "metadata": {},
     "output_type": "execute_result"
    }
   ],
   "source": [
    "# 追加数据序列——数据拆开追加\n",
    "s1.update([1, 5, 6, 9])\n",
    "s1"
   ]
  },
  {
   "cell_type": "markdown",
   "id": "997f25c7-5b2a-4288-87ed-dae985d8bf32",
   "metadata": {},
   "source": [
    "#### b.删除数据\n",
    "\n",
    "##### remove\n",
    "\n",
    "删除指定元素，元素不存在会报错\n",
    "\n",
    "##### discard\n",
    "\n",
    "删除指定元素，元素不存在不报错\n",
    "\n",
    "##### pop\n",
    "\n",
    "随机删除集合中的一个元素，并返回这个元素\n",
    "\n",
    "#### c.数据存在判断\n",
    "\n",
    "in 和 not in两个公共方法，判断元素是否在集合当中"
   ]
  },
  {
   "cell_type": "markdown",
   "id": "36c19d82-3f30-491c-b4ca-292ef1a13f3f",
   "metadata": {},
   "source": [
    "## 三、数据序列公共方法\n",
    "\n",
    "### 1.运算符\n",
    "\n",
    "+、*、in、not in"
   ]
  },
  {
   "cell_type": "code",
   "execution_count": 23,
   "id": "891d2a40-d1d0-437c-a74e-f5efe2e2bc3e",
   "metadata": {},
   "outputs": [
    {
     "data": {
      "text/plain": [
       "[1, 5, 7, 2, 9, 10]"
      ]
     },
     "execution_count": 23,
     "metadata": {},
     "output_type": "execute_result"
    }
   ],
   "source": [
    "list0 = [1, 5, 7]\n",
    "list1 = [2, 9, 10]\n",
    "list0 + list1  # 用于数据合并，不支持字典"
   ]
  },
  {
   "cell_type": "code",
   "execution_count": 25,
   "id": "82f9f738-b52a-4582-a6fc-b713f35cc8e6",
   "metadata": {},
   "outputs": [
    {
     "data": {
      "text/plain": [
       "[1, 5, 7, 1, 5, 7]"
      ]
     },
     "execution_count": 25,
     "metadata": {},
     "output_type": "execute_result"
    }
   ],
   "source": [
    "list0 * 2  # 数据扩充"
   ]
  },
  {
   "cell_type": "code",
   "execution_count": 27,
   "id": "9fb9270a-f167-4e94-b4a8-7c9236132c10",
   "metadata": {},
   "outputs": [
    {
     "data": {
      "text/plain": [
       "True"
      ]
     },
     "execution_count": 27,
     "metadata": {},
     "output_type": "execute_result"
    }
   ],
   "source": [
    "# in 和 not in支持字典\n",
    "dict0 = {'name': 'Tom', 'age': 18}\n",
    "\n",
    "'age' in dict0  # 两个判断支持字典，但若直接对字典使用\n",
    "# 针对的是key值"
   ]
  },
  {
   "cell_type": "code",
   "execution_count": 30,
   "id": "7e93e063-ea84-468f-b4e1-8c3b99933506",
   "metadata": {},
   "outputs": [
    {
     "name": "stdout",
     "output_type": "stream",
     "text": [
      "name\n",
      "age\n"
     ]
    }
   ],
   "source": [
    "for i in dict0:\n",
    "    print(i)  # 直接使用字典，输出的是key值\n",
    "\n",
    "# 但最好是使用迭代器进行结合使用"
   ]
  },
  {
   "cell_type": "markdown",
   "id": "eedc927d-4bf8-4f56-9325-18931de1859e",
   "metadata": {},
   "source": [
    "### 2.方法\n",
    "\n",
    "#### a.len\n",
    "\n",
    "对于字典也是支持的，返回键值对的数目\n",
    "\n",
    "#### b.del\n",
    "\n",
    "语法统一为:\n",
    "\n",
    "```py\n",
    "del 目标\n",
    "```\n",
    "\n",
    "#### c.max和min"
   ]
  },
  {
   "cell_type": "code",
   "execution_count": 33,
   "id": "0cc2676a-8534-4cc7-ac92-c7e98388d53f",
   "metadata": {},
   "outputs": [
    {
     "data": {
      "text/plain": [
       "'f'"
      ]
     },
     "execution_count": 33,
     "metadata": {},
     "output_type": "execute_result"
    }
   ],
   "source": [
    "str0 = 'abcdef'\n",
    "max(str0)"
   ]
  },
  {
   "cell_type": "code",
   "execution_count": 34,
   "id": "793610ba-c430-485b-b468-ded049738ee3",
   "metadata": {},
   "outputs": [
    {
     "data": {
      "text/plain": [
       "6"
      ]
     },
     "execution_count": 34,
     "metadata": {},
     "output_type": "execute_result"
    }
   ],
   "source": [
    "s1 = {1, 4, 6}\n",
    "max(s1)"
   ]
  },
  {
   "cell_type": "code",
   "execution_count": 37,
   "id": "69fc7cf6-c968-46d2-bee2-14d47e694eff",
   "metadata": {},
   "outputs": [
    {
     "data": {
      "text/plain": [
       "65"
      ]
     },
     "execution_count": 37,
     "metadata": {},
     "output_type": "execute_result"
    }
   ],
   "source": [
    "min(dict1.values())"
   ]
  },
  {
   "cell_type": "code",
   "execution_count": 38,
   "id": "50b4ab52-9f70-40fe-bdea-67f279680413",
   "metadata": {},
   "outputs": [
    {
     "data": {
      "text/plain": [
       "'A'"
      ]
     },
     "execution_count": 38,
     "metadata": {},
     "output_type": "execute_result"
    }
   ],
   "source": [
    "min(dict1)  # 直接使用就是对key进行比较"
   ]
  },
  {
   "cell_type": "markdown",
   "id": "1ba83b53-cdad-4add-8fac-0248f989b849",
   "metadata": {},
   "source": [
    "#### d.range\n",
    "\n",
    "语法：\n",
    "\n",
    "```py\n",
    "range(start, end, step)\n",
    "```\n",
    "\n",
    "左开右闭\n",
    "\n",
    "返回的是可迭代对象，若使用可以使用容器类型转化\n",
    "\n",
    "#### e.enumerate\n",
    "\n",
    "搭配for循环使用，返回的和字典的items类似是元祖，需要进行拆包操作\n",
    "\n",
    "语法：\n",
    "\n",
    "```py\n",
    "enumerate(可迭代对象, start）\n",
    "```\n",
    "\n",
    "可以指定数据不从0开始，缺省默认从0开始"
   ]
  },
  {
   "cell_type": "code",
   "execution_count": 44,
   "id": "ec8742db-1f10-4088-a613-297a87ee9d54",
   "metadata": {},
   "outputs": [
    {
     "name": "stdout",
     "output_type": "stream",
     "text": [
      "(1, 0)\n",
      "(2, 2)\n",
      "(3, 4)\n",
      "(4, 6)\n",
      "(5, 8)\n"
     ]
    }
   ],
   "source": [
    "list0 = [i for i in range(0, 10, 2)]\n",
    "for i in enumerate(list0, start=1):\n",
    "    print(i)"
   ]
  },
  {
   "cell_type": "code",
   "execution_count": 43,
   "id": "300b54d8-45e9-460c-b062-949b9a6dd579",
   "metadata": {},
   "outputs": [
    {
     "name": "stdout",
     "output_type": "stream",
     "text": [
      "0 0\n",
      "1 2\n",
      "2 4\n",
      "3 6\n",
      "4 8\n"
     ]
    }
   ],
   "source": [
    "for index, val in enumerate(list0):\n",
    "    print(index, val)"
   ]
  },
  {
   "cell_type": "markdown",
   "id": "0a3e0dfe-7bf4-4856-83e9-7601a891e85a",
   "metadata": {},
   "source": [
    "### 3.容器类型转化\n",
    "\n",
    "不同的数据类型有着不同的应用场景，如set就是很好的去重方式"
   ]
  },
  {
   "cell_type": "code",
   "execution_count": 46,
   "id": "25e771d9-dbac-457e-b3ba-ddacb22756ff",
   "metadata": {},
   "outputs": [
    {
     "data": {
      "text/plain": [
       "{1, 2, 3, 5, 7, 9, 10}"
      ]
     },
     "execution_count": 46,
     "metadata": {},
     "output_type": "execute_result"
    }
   ],
   "source": [
    "list0 = [1, 5, 7, 7, 5, 1, 2, 5, 3, 9, 10]\n",
    "set(list0)"
   ]
  },
  {
   "cell_type": "markdown",
   "id": "b9de8ab0-32eb-40e6-818f-80aa93fa4f96",
   "metadata": {},
   "source": [
    "### 4.序列的排序函数sorted\n",
    "\n",
    "与列表独有的sort方法不同的是，sorted函数可以用于其他序列的排序，同样是key和reverse两个参数。是将排序的结果作为值返回，而不是在原内存空间返回"
   ]
  },
  {
   "cell_type": "code",
   "execution_count": 2,
   "id": "310a6950-2ab7-4cdf-895d-51d81f94d320",
   "metadata": {},
   "outputs": [
    {
     "data": {
      "text/plain": [
       "[[2, 5], [2, 0], (3, 7), (9, 1)]"
      ]
     },
     "execution_count": 2,
     "metadata": {},
     "output_type": "execute_result"
    }
   ],
   "source": [
    "list0 = ([2, 5], (3, 7), (9, 1), [2, 0])\n",
    "sorted(list0, key=lambda x: x[0])"
   ]
  },
  {
   "cell_type": "markdown",
   "id": "8d2a13d9-f440-4de0-bd60-0880918572cb",
   "metadata": {},
   "source": [
    "## 四、推导式\n",
    "\n",
    "推导式只支持列表、集合、字典，不支持字符串、元组"
   ]
  },
  {
   "cell_type": "markdown",
   "id": "79409e4a-babf-40bc-a66d-a241d2adbbd1",
   "metadata": {},
   "source": [
    "### 1.列表推导式"
   ]
  },
  {
   "cell_type": "code",
   "execution_count": 50,
   "id": "6967f66f-fddc-4f29-a398-fc2590994bdc",
   "metadata": {},
   "outputs": [
    {
     "data": {
      "text/plain": [
       "[0, 1, 2, 3, 4, 5, 6, 7, 8, 9, 10]"
      ]
     },
     "execution_count": 50,
     "metadata": {},
     "output_type": "execute_result"
    }
   ],
   "source": [
    "# 仅包含一层循环的列表推导式\n",
    "list0 = [i for i in range(11)]\n",
    "list0"
   ]
  },
  {
   "cell_type": "code",
   "execution_count": 52,
   "id": "4a56c878-b07b-42ec-91b4-4c90254f6231",
   "metadata": {},
   "outputs": [
    {
     "data": {
      "text/plain": [
       "[0, 2, 4, 6, 8, 10]"
      ]
     },
     "execution_count": 52,
     "metadata": {},
     "output_type": "execute_result"
    }
   ],
   "source": [
    "# 存在判断的列表推导式\n",
    "list1 = [i for i in range(11) if i % 2 == 0]\n",
    "list1"
   ]
  },
  {
   "cell_type": "code",
   "execution_count": 54,
   "id": "06c45f8a-5e52-4155-bc97-abcb211b2dfa",
   "metadata": {},
   "outputs": [
    {
     "data": {
      "text/plain": [
       "[(0, 0), (0, 1), (1, 0), (1, 1)]"
      ]
     },
     "execution_count": 54,
     "metadata": {},
     "output_type": "execute_result"
    }
   ],
   "source": [
    "# 多个for的列表推导式\n",
    "list2 = [(i, j) for i in range(2) for j in range(2)]\n",
    "list2"
   ]
  },
  {
   "cell_type": "markdown",
   "id": "e22222dc-c797-4356-8cfe-55b80f63458a",
   "metadata": {},
   "source": [
    "### 2.字典推导式\n",
    "\n",
    "快速和并两个列表为字典"
   ]
  },
  {
   "cell_type": "code",
   "execution_count": 57,
   "id": "80fcc339-4609-4c6d-b114-80856f75fca0",
   "metadata": {},
   "outputs": [
    {
     "data": {
      "text/plain": [
       "{'name': 'Tom', 'age': 18, 'gender': 'male'}"
      ]
     },
     "execution_count": 57,
     "metadata": {},
     "output_type": "execute_result"
    }
   ],
   "source": [
    "keys = ['name', 'age', 'gender']\n",
    "vals = ['Tom', 18, 'male']\n",
    "{keys[i]: vals[i] for i in range(len(keys))}\n",
    "\n",
    "# 要注意避免下标越界"
   ]
  },
  {
   "cell_type": "markdown",
   "id": "809d8dbe-ded6-4ae7-ada7-1da526ea282e",
   "metadata": {},
   "source": [
    "提取字典中的目标数据\n",
    "\n",
    "key等级相同，值进行比较"
   ]
  },
  {
   "cell_type": "code",
   "execution_count": 59,
   "id": "4a32be13-5371-4055-a4b6-7e359f462182",
   "metadata": {},
   "outputs": [],
   "source": [
    "counts = {'MBP': 268, 'HP': 125, 'DELL': 201, 'Lenovo': 199, 'acer': 99}"
   ]
  },
  {
   "cell_type": "code",
   "execution_count": 61,
   "id": "4499bcff-1399-44c2-82b8-a3f02818666f",
   "metadata": {},
   "outputs": [
    {
     "data": {
      "text/plain": [
       "{'MBP': 268, 'DELL': 201}"
      ]
     },
     "execution_count": 61,
     "metadata": {},
     "output_type": "execute_result"
    }
   ],
   "source": [
    "{key: val for key, val in counts.items() if val >= 200}"
   ]
  },
  {
   "cell_type": "markdown",
   "id": "c1f96ebc-39ac-4560-b008-81c2e01b71cd",
   "metadata": {},
   "source": [
    "### 3.集合推导式"
   ]
  },
  {
   "cell_type": "code",
   "execution_count": 1,
   "id": "2dfd820e-4543-4456-be2c-04d6175214ce",
   "metadata": {},
   "outputs": [
    {
     "data": {
      "text/plain": [
       "{1, 125}"
      ]
     },
     "execution_count": 1,
     "metadata": {},
     "output_type": "execute_result"
    }
   ],
   "source": [
    "{i**3 for i in range(1, 9, 4)}"
   ]
  }
 ],
 "metadata": {
  "kernelspec": {
   "display_name": "Python 3 (ipykernel)",
   "language": "python",
   "name": "python3"
  },
  "language_info": {
   "codemirror_mode": {
    "name": "ipython",
    "version": 3
   },
   "file_extension": ".py",
   "mimetype": "text/x-python",
   "name": "python",
   "nbconvert_exporter": "python",
   "pygments_lexer": "ipython3",
   "version": "3.10.2"
  }
 },
 "nbformat": 4,
 "nbformat_minor": 5
}
