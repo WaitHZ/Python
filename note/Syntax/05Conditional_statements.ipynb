{
 "cells": [
  {
   "cell_type": "markdown",
   "id": "47dc06ef-cec0-4518-8ef2-3483df16d6f6",
   "metadata": {},
   "source": [
    "# 第5节 条件语句if\n",
    "\n",
    "## 1.if语句\n",
    "\n",
    "语法：\n",
    "\n",
    "```py\n",
    "if condition:\n",
    "    code1\n",
    "    code2\n",
    "    ...\n",
    "```\n",
    "\n",
    "注意代码缩进的包含关系"
   ]
  },
  {
   "cell_type": "code",
   "execution_count": 5,
   "id": "476f4009-2325-41af-83f5-b5170dfb847e",
   "metadata": {},
   "outputs": [
    {
     "name": "stdin",
     "output_type": "stream",
     "text": [
      "请输入您的年龄： 19\n"
     ]
    },
    {
     "name": "stdout",
     "output_type": "stream",
     "text": [
      "您已成年，可以上网\n",
      "欢迎\n",
      "系统关闭\n"
     ]
    }
   ],
   "source": [
    "age = eval(input('请输入您的年龄：'))\n",
    "\n",
    "if age >= 18:\n",
    "    print('您已成年，可以上网')\n",
    "    print('欢迎')\n",
    "print('系统关闭')"
   ]
  },
  {
   "cell_type": "code",
   "execution_count": 6,
   "id": "98969dc1-276c-4041-817f-d756162753d4",
   "metadata": {},
   "outputs": [
    {
     "name": "stdin",
     "output_type": "stream",
     "text": [
      "请输入您的年龄： 17\n"
     ]
    },
    {
     "name": "stdout",
     "output_type": "stream",
     "text": [
      "系统关闭\n"
     ]
    }
   ],
   "source": [
    "age = int(input('请输入您的年龄：'))\n",
    "\n",
    "if age >= 18:\n",
    "    print('您已成年，可以上网')\n",
    "    print('欢迎')\n",
    "print('系统关闭')"
   ]
  },
  {
   "cell_type": "markdown",
   "id": "6d3e8d24-2cbf-4a3a-bb6c-bfb8f8bc65dd",
   "metadata": {},
   "source": [
    "## 2.if-else语句\n",
    "\n",
    "if条件成立执行if下的代码块，否则执行else下的代码块\n",
    "\n",
    "解释器只执行其中一个代码块"
   ]
  },
  {
   "cell_type": "code",
   "execution_count": 7,
   "id": "24ec4280-64b2-47e2-a4b8-b95e4c40a5d0",
   "metadata": {},
   "outputs": [
    {
     "name": "stdin",
     "output_type": "stream",
     "text": [
      " 15\n"
     ]
    },
    {
     "name": "stdout",
     "output_type": "stream",
     "text": [
      "小朋友，回家写作业\n"
     ]
    }
   ],
   "source": [
    "age = int(input())\n",
    "\n",
    "if age >= 18:\n",
    "    print('您已成年，可以上网')\n",
    "else:\n",
    "    print('小朋友，回家写作业')"
   ]
  },
  {
   "cell_type": "markdown",
   "id": "a2f1a660-41d1-4eeb-923c-4cda9ccaf9c6",
   "metadata": {},
   "source": [
    "## 3.if-elif-else\n",
    "\n",
    "else出现与否均可，只会执行其中一个个代码块，若没有else也可能均不执行"
   ]
  },
  {
   "cell_type": "code",
   "execution_count": 2,
   "id": "c6f889e2-b1d9-46e3-a16b-ecb672b29d72",
   "metadata": {},
   "outputs": [
    {
     "name": "stdin",
     "output_type": "stream",
     "text": [
      " 56\n"
     ]
    },
    {
     "name": "stdout",
     "output_type": "stream",
     "text": [
      "努力工作，建设共和国\n"
     ]
    }
   ],
   "source": [
    "age = eval(input())\n",
    "\n",
    "if age < 18:\n",
    "    print('未成年，好好学习')\n",
    "elif 18 <= age <= 60:  # Python的独特条件写法\n",
    "    print('努力工作，建设共和国')\n",
    "else:\n",
    "    print('光荣退休')"
   ]
  },
  {
   "cell_type": "markdown",
   "id": "e35c620b-2c1f-4b88-b218-9d8b0755f4cd",
   "metadata": {},
   "source": [
    "## 4.if的嵌套\n",
    "\n",
    "语法与单层if相同，注意缩进关系"
   ]
  },
  {
   "cell_type": "code",
   "execution_count": 4,
   "id": "f6461e38-b8d7-43c4-87b7-adfa1160b0b0",
   "metadata": {},
   "outputs": [
    {
     "name": "stdin",
     "output_type": "stream",
     "text": [
      "是否有钱(1.有；0.无) 0\n",
      "是否有空座(1.有；0.无) 1\n"
     ]
    },
    {
     "name": "stdout",
     "output_type": "stream",
     "text": [
      "跟着跑\n"
     ]
    }
   ],
   "source": [
    "# 借助Python中的0和None为假\n",
    "have_money = int(input('是否有钱(1.有；0.无)'))\n",
    "have_seat = int(input('是否有空座(1.有；0.无)'))\n",
    "\n",
    "if have_money:\n",
    "    print('请上车')\n",
    "    if have_seat:\n",
    "        print('请坐')\n",
    "    else:\n",
    "        print('站一会')\n",
    "else:\n",
    "    print('跟着跑')"
   ]
  },
  {
   "cell_type": "markdown",
   "id": "61348e5e-bd86-4fc8-baaf-c31461d93032",
   "metadata": {},
   "source": [
    "## 示例：猜拳游戏"
   ]
  },
  {
   "cell_type": "code",
   "execution_count": 7,
   "id": "85fb68f6-2f45-414b-b1ec-3c8051f7f045",
   "metadata": {},
   "outputs": [
    {
     "name": "stdin",
     "output_type": "stream",
     "text": [
      "0.石头，1.剪刀，2.步 3\n"
     ]
    },
    {
     "name": "stdout",
     "output_type": "stream",
     "text": [
      "电脑胜\n"
     ]
    }
   ],
   "source": [
    "from random import randint\n",
    "\n",
    "mine = int(input('0.石头，1.剪刀，2.步'))\n",
    "cmp = randint(0, 2)  # 闭区间\n",
    "\n",
    "if mine == cmp:\n",
    "    print('平局')\n",
    "elif mine == 0:\n",
    "    if cmp == 1:\n",
    "        print('玩家胜')\n",
    "    else:\n",
    "        print('电脑胜')\n",
    "elif mine == 1:\n",
    "    if cmp == 0:\n",
    "        print('电脑胜')\n",
    "    else:\n",
    "        print('玩家胜')\n",
    "else:\n",
    "    if cmp == 0:\n",
    "        print('玩家胜')\n",
    "    else:\n",
    "        print('电脑胜')"
   ]
  },
  {
   "cell_type": "markdown",
   "id": "2c2afdaa-8f14-4bb9-9f10-fc2453828c85",
   "metadata": {},
   "source": [
    "## 5.三目运算符\n",
    "\n",
    "```py\n",
    "val1 if condition else val2\n",
    "```\n",
    "\n",
    "条件满足，表达式的值为val1，反之为val2"
   ]
  },
  {
   "cell_type": "code",
   "execution_count": 8,
   "id": "22f53476-9c90-4bf5-8627-72e833f9a1b8",
   "metadata": {},
   "outputs": [
    {
     "data": {
      "text/plain": [
       "5"
      ]
     },
     "execution_count": 8,
     "metadata": {},
     "output_type": "execute_result"
    }
   ],
   "source": [
    "a = 1 if 2 > 4 else 5\n",
    "a"
   ]
  },
  {
   "cell_type": "code",
   "execution_count": 9,
   "id": "ddf67815-262d-4d1d-a4fd-9e9d1ac78baf",
   "metadata": {},
   "outputs": [
    {
     "data": {
      "text/plain": [
       "7"
      ]
     },
     "execution_count": 9,
     "metadata": {},
     "output_type": "execute_result"
    }
   ],
   "source": [
    "# 简单实现取两数较大的一个\n",
    "a = 2\n",
    "b = 7\n",
    "a if a > b else b"
   ]
  }
 ],
 "metadata": {
  "kernelspec": {
   "display_name": "Python 3 (ipykernel)",
   "language": "python",
   "name": "python3"
  },
  "language_info": {
   "codemirror_mode": {
    "name": "ipython",
    "version": 3
   },
   "file_extension": ".py",
   "mimetype": "text/x-python",
   "name": "python",
   "nbconvert_exporter": "python",
   "pygments_lexer": "ipython3",
   "version": "3.10.2"
  }
 },
 "nbformat": 4,
 "nbformat_minor": 5
}
