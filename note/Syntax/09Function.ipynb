{
 "cells": [
  {
   "cell_type": "markdown",
   "id": "ba7a8d02-1136-4df7-8820-9426cbf4fdd3",
   "metadata": {},
   "source": [
    "# 函数\n",
    "\n",
    "对部分代码（功能）的封装，便于高效的代码重用\n",
    "\n",
    "语法：\n",
    "\n",
    "```py\n",
    "def func(参数):\n",
    "    code\n",
    "    return\n",
    "```"
   ]
  },
  {
   "cell_type": "markdown",
   "id": "bc2bd6ca-2ce4-4299-b43f-51b4eed48919",
   "metadata": {},
   "source": [
    "## 1.函数基础\n",
    "\n",
    "### a.函数执行步骤\n",
    "\n",
    "定义函数 -> 调用函数\n",
    "\n",
    "**必须先定义后使用**"
   ]
  },
  {
   "cell_type": "code",
   "execution_count": 5,
   "id": "7af47542-38dc-4556-aefa-ea0dad2df0e7",
   "metadata": {},
   "outputs": [
    {
     "name": "stdout",
     "output_type": "stream",
     "text": [
      "func1\n",
      "hahaha\n",
      "wuwuwu\n",
      "func2\n",
      "hahaha\n",
      "wuwuwu\n"
     ]
    }
   ],
   "source": [
    "def func():\n",
    "    '''函数简单调用'''\n",
    "    \n",
    "    print('hahaha')\n",
    "    print('wuwuwu')\n",
    "    \n",
    "print('func1')\n",
    "func()\n",
    "print('func2')\n",
    "func()"
   ]
  },
  {
   "cell_type": "markdown",
   "id": "8b0eb005-70ed-4bbd-9541-3aa0ae379bf5",
   "metadata": {},
   "source": [
    "### b.参数的作用"
   ]
  },
  {
   "cell_type": "code",
   "execution_count": 10,
   "id": "28073897-5b13-4858-a997-72b889bbf7f1",
   "metadata": {},
   "outputs": [
    {
     "name": "stdout",
     "output_type": "stream",
     "text": [
      "1 + 5 = 6\n",
      "2 + 7 = 9\n"
     ]
    }
   ],
   "source": [
    "def sum_func(a, b):  # a, b是形式参数\n",
    "    print(f'{a} + {b} = {a + b}')\n",
    "    \n",
    "sum_func(1, 5)\n",
    "sum_func(2, 7)  # 2 7 是实参"
   ]
  },
  {
   "cell_type": "markdown",
   "id": "3d1f16ed-fa37-4013-881b-3309f026403d",
   "metadata": {},
   "source": [
    "### c.return"
   ]
  },
  {
   "cell_type": "code",
   "execution_count": 11,
   "id": "1f0d493a-9954-4f18-9e20-3ed4791b4516",
   "metadata": {},
   "outputs": [
    {
     "data": {
      "text/plain": [
       "12"
      ]
     },
     "execution_count": 11,
     "metadata": {},
     "output_type": "execute_result"
    }
   ],
   "source": [
    "def sum_func1(a, b):\n",
    "    return a + b  # 返回值也是函数的终止\n",
    "\n",
    "res1 = sum_func1(5, 7)\n",
    "res1"
   ]
  },
  {
   "cell_type": "code",
   "execution_count": 13,
   "id": "de830123-a292-4fb6-9b5d-5924bd0a22ce",
   "metadata": {},
   "outputs": [
    {
     "data": {
      "text/plain": [
       "17"
      ]
     },
     "execution_count": 13,
     "metadata": {},
     "output_type": "execute_result"
    }
   ],
   "source": [
    "res2 = sum_func1(10, 7)\n",
    "res2"
   ]
  },
  {
   "cell_type": "markdown",
   "id": "8499acf4-119d-4877-910f-7493c15b9c32",
   "metadata": {},
   "source": [
    "### d.函数的说明文档"
   ]
  },
  {
   "cell_type": "code",
   "execution_count": 15,
   "id": "c200f283-1316-45ba-b643-8bfd0efc7adc",
   "metadata": {},
   "outputs": [
    {
     "name": "stdout",
     "output_type": "stream",
     "text": [
      "Help on built-in function sum in module builtins:\n",
      "\n",
      "sum(iterable, /, start=0)\n",
      "    Return the sum of a 'start' value (default: 0) plus an iterable of numbers\n",
      "    \n",
      "    When the iterable is empty, return the start value.\n",
      "    This function is intended specifically for use with numeric values and may\n",
      "    reject non-numeric types.\n",
      "\n"
     ]
    }
   ],
   "source": [
    "# 说明文档的查看\n",
    "help(sum)"
   ]
  },
  {
   "cell_type": "code",
   "execution_count": 20,
   "id": "73f8f724-8d2f-4b23-8470-86090504f39d",
   "metadata": {},
   "outputs": [
    {
     "name": "stdout",
     "output_type": "stream",
     "text": [
      "Help on function Sum in module __main__:\n",
      "\n",
      "Sum(a, b)\n",
      "    add a and b, \n",
      "    return result\n",
      "\n"
     ]
    }
   ],
   "source": [
    "# 为自定义函数编写说明文档\n",
    "def Sum(a, b):\n",
    "    '''add a and b, \n",
    "    return result'''  # 多行字符串可以分行写\n",
    "    \n",
    "    return a + b\n",
    "\n",
    "help(Sum)"
   ]
  },
  {
   "cell_type": "markdown",
   "id": "b8e4d678-2072-4362-9c40-f5e5e076fbd1",
   "metadata": {},
   "source": [
    "### e.函数的嵌套使用\n",
    "\n",
    "就是在函数中调用函数"
   ]
  },
  {
   "cell_type": "code",
   "execution_count": 24,
   "id": "82bb5a5a-199e-4b7f-9ea8-ab47733ebdad",
   "metadata": {},
   "outputs": [
    {
     "name": "stdout",
     "output_type": "stream",
     "text": [
      "______testb______\n",
      "______testa______\n"
     ]
    }
   ],
   "source": [
    "def test_b():\n",
    "    print('______testb______')\n",
    "\n",
    "\n",
    "def test_a():\n",
    "    test_b()\n",
    "    print('______testa______')\n",
    "\n",
    "\n",
    "test_a()"
   ]
  },
  {
   "cell_type": "code",
   "execution_count": 1,
   "id": "999064f1-f66e-42e8-9f7e-bccfba8bd5f3",
   "metadata": {},
   "outputs": [
    {
     "name": "stdout",
     "output_type": "stream",
     "text": [
      "--------------------\n",
      "--------------------\n"
     ]
    }
   ],
   "source": [
    "def print_line():\n",
    "    print('-' * 20)\n",
    "\n",
    "\n",
    "def print_lines(num):\n",
    "    for i in range(num):\n",
    "        print_line()\n",
    "\n",
    "\n",
    "print_lines(2)"
   ]
  },
  {
   "cell_type": "code",
   "execution_count": 4,
   "id": "ac15cf0c-9931-40a1-9251-b6fc3fde5151",
   "metadata": {},
   "outputs": [
    {
     "data": {
      "text/plain": [
       "2.0"
      ]
     },
     "execution_count": 4,
     "metadata": {},
     "output_type": "execute_result"
    }
   ],
   "source": [
    "Sum = lambda a, b, c: a + b + c\n",
    "\n",
    "def Mean(a, b, c):\n",
    "    return Sum(a, b, c) / 3\n",
    "\n",
    "Mean(1, 2, 3)"
   ]
  },
  {
   "cell_type": "markdown",
   "id": "7a4bbc91-db3d-4c93-abcb-2653586ab2cc",
   "metadata": {},
   "source": [
    "## 2.函数提高\n",
    "\n",
    "### a.变量的作用域\n",
    "\n",
    "局部变量：\n",
    "\n",
    "Python中的局部变量指的是定义在函数体内部的变量，只在函数体内部生效，函数调用结束，变量就被销毁\n",
    "\n",
    "全局变量：\n",
    "\n",
    "不可变类型的全局变量在函数体内部若无同名变量定义的情形下是可以读取的，但不能修改，若希望修改需要使用global做声明\n",
    "\n",
    "可变类型的全局变量在函数体内部无同名变量的情况下可以在函数体内部直接进行修改\n",
    "\n",
    "**通过形参传入的量是局部变量，故global修饰的变量不能是形参**\n",
    "\n",
    "函数体内部通过定义的方式定义的局部变量与全局变量同名，全局变量被隐藏，但对于可变数据类型而言，对于形参的修改就会作用于实参"
   ]
  },
  {
   "cell_type": "code",
   "execution_count": 19,
   "id": "9f68ba44-ce7f-4609-b9f2-000046ca247a",
   "metadata": {},
   "outputs": [
    {
     "name": "stdout",
     "output_type": "stream",
     "text": [
      "100\n"
     ]
    },
    {
     "ename": "NameError",
     "evalue": "name 'a_' is not defined",
     "output_type": "error",
     "traceback": [
      "\u001b[0;31m---------------------------------------------------------------------------\u001b[0m",
      "\u001b[0;31mNameError\u001b[0m                                 Traceback (most recent call last)",
      "Input \u001b[0;32mIn [19]\u001b[0m, in \u001b[0;36m<cell line: 7>\u001b[0;34m()\u001b[0m\n\u001b[1;32m      4\u001b[0m     \u001b[38;5;28mprint\u001b[39m(a_)\n\u001b[1;32m      6\u001b[0m func()\n\u001b[0;32m----> 7\u001b[0m \u001b[38;5;28mprint\u001b[39m(\u001b[43ma_\u001b[49m)\n",
      "\u001b[0;31mNameError\u001b[0m: name 'a_' is not defined"
     ]
    }
   ],
   "source": [
    "# 局部变量只在函数内可用\n",
    "def func():\n",
    "    a_ = 100\n",
    "    print(a_)\n",
    "    \n",
    "func()\n",
    "print(a_)"
   ]
  },
  {
   "cell_type": "code",
   "execution_count": 22,
   "id": "0cb7507e-0253-464d-a314-21a196abd6e2",
   "metadata": {},
   "outputs": [
    {
     "name": "stdout",
     "output_type": "stream",
     "text": [
      "100\n"
     ]
    }
   ],
   "source": [
    "# 全局不可变数剧类型，在函数体内部只能读取\n",
    "def func():\n",
    "    print(b_)\n",
    "    \n",
    "b_ = 100\n",
    "func()"
   ]
  },
  {
   "cell_type": "code",
   "execution_count": 24,
   "id": "c707fa82-7bad-434d-8e5d-4845afc56acb",
   "metadata": {},
   "outputs": [
    {
     "ename": "UnboundLocalError",
     "evalue": "local variable 'c_' referenced before assignment",
     "output_type": "error",
     "traceback": [
      "\u001b[0;31m---------------------------------------------------------------------------\u001b[0m",
      "\u001b[0;31mUnboundLocalError\u001b[0m                         Traceback (most recent call last)",
      "Input \u001b[0;32mIn [24]\u001b[0m, in \u001b[0;36m<cell line: 6>\u001b[0;34m()\u001b[0m\n\u001b[1;32m      3\u001b[0m     c_ \u001b[38;5;241m+\u001b[39m\u001b[38;5;241m=\u001b[39m \u001b[38;5;241m1\u001b[39m\n\u001b[1;32m      5\u001b[0m c_ \u001b[38;5;241m=\u001b[39m \u001b[38;5;241m1\u001b[39m\n\u001b[0;32m----> 6\u001b[0m \u001b[43mfunc\u001b[49m\u001b[43m(\u001b[49m\u001b[43m)\u001b[49m\n",
      "Input \u001b[0;32mIn [24]\u001b[0m, in \u001b[0;36mfunc\u001b[0;34m()\u001b[0m\n\u001b[1;32m      2\u001b[0m \u001b[38;5;28;01mdef\u001b[39;00m \u001b[38;5;21mfunc\u001b[39m():\n\u001b[0;32m----> 3\u001b[0m     c_ \u001b[38;5;241m+\u001b[39m\u001b[38;5;241m=\u001b[39m \u001b[38;5;241m1\u001b[39m\n",
      "\u001b[0;31mUnboundLocalError\u001b[0m: local variable 'c_' referenced before assignment"
     ]
    }
   ],
   "source": [
    "# 不能修改\n",
    "def func():\n",
    "    c_ += 1\n",
    "    \n",
    "c_ = 1\n",
    "func()"
   ]
  },
  {
   "cell_type": "code",
   "execution_count": 25,
   "id": "8f98a8be-6ace-492a-a114-9ccc18255a55",
   "metadata": {},
   "outputs": [
    {
     "data": {
      "text/plain": [
       "3"
      ]
     },
     "execution_count": 25,
     "metadata": {},
     "output_type": "execute_result"
    }
   ],
   "source": [
    "# 在函数内部通过global修饰就可以进行修改\n",
    "def func():\n",
    "    global d_\n",
    "    d_ = d_ + 1\n",
    "\n",
    "\n",
    "d_ = 2\n",
    "func()\n",
    "d_"
   ]
  },
  {
   "cell_type": "code",
   "execution_count": 26,
   "id": "e9a39124-124c-4d82-9566-64c3bf1fa79c",
   "metadata": {},
   "outputs": [
    {
     "data": {
      "text/plain": [
       "['a']"
      ]
     },
     "execution_count": 26,
     "metadata": {},
     "output_type": "execute_result"
    }
   ],
   "source": [
    "# 全局可变数据类型可以直接修改\n",
    "def func():\n",
    "    list0.append('a')\n",
    "\n",
    "\n",
    "list0 = []\n",
    "func()\n",
    "list0"
   ]
  },
  {
   "cell_type": "code",
   "execution_count": 27,
   "id": "008ff414-2e5b-4a02-9f70-4157c44df1bb",
   "metadata": {},
   "outputs": [
    {
     "data": {
      "text/plain": [
       "['b', 'a']"
      ]
     },
     "execution_count": 27,
     "metadata": {},
     "output_type": "execute_result"
    }
   ],
   "source": [
    "# 可变数据类型通过形参传入，对于形参的修改也会改变实参\n",
    "def func(list0):\n",
    "    list0.append('a')\n",
    "\n",
    "\n",
    "list0 = ['b']\n",
    "func(list0)\n",
    "list0"
   ]
  },
  {
   "cell_type": "code",
   "execution_count": 30,
   "id": "e6f1bb92-5b1b-4652-a8d2-97c4491fc155",
   "metadata": {},
   "outputs": [
    {
     "data": {
      "text/plain": [
       "100"
      ]
     },
     "execution_count": 30,
     "metadata": {},
     "output_type": "execute_result"
    }
   ],
   "source": [
    "# 无论是可变数据类型还是不可变数据类型，全局变量与局部变量同名\n",
    "# 都是局部优先，全局被隐藏\n",
    "def func():\n",
    "    a = 2  # 执行了局部变量的定义\n",
    "    a += 1\n",
    "\n",
    "\n",
    "a = 100\n",
    "func()\n",
    "a"
   ]
  },
  {
   "cell_type": "code",
   "execution_count": 2,
   "id": "fd2bdf4c-5d57-4e54-9d55-4bbc26f3eb11",
   "metadata": {},
   "outputs": [
    {
     "data": {
      "text/plain": [
       "[]"
      ]
     },
     "execution_count": 2,
     "metadata": {},
     "output_type": "execute_result"
    }
   ],
   "source": [
    "def func():\n",
    "    list0 = [1, 2, 4]\n",
    "    list0.append(2)\n",
    "\n",
    "\n",
    "list0 = []\n",
    "func()\n",
    "list0"
   ]
  },
  {
   "cell_type": "markdown",
   "id": "e3c4866d-d3de-4515-bd89-f5b9169e05b0",
   "metadata": {},
   "source": [
    "### b.函数多个返回值\n",
    "\n",
    "Python程序支持返回多个值（相当于组包）\n",
    "\n",
    "对象的好处，通过元组的形式一次返回多个\n",
    "\n",
    "返回列表、字典等均支持"
   ]
  },
  {
   "cell_type": "code",
   "execution_count": 5,
   "id": "1dbf2d61-ab6e-4152-a89f-e540b1195f59",
   "metadata": {},
   "outputs": [
    {
     "data": {
      "text/plain": [
       "(1, 2)"
      ]
     },
     "execution_count": 5,
     "metadata": {},
     "output_type": "execute_result"
    }
   ],
   "source": [
    "def func():\n",
    "    return 1, 2  # 有无小括号均返回元组\n",
    "\n",
    "\n",
    "res = func()\n",
    "res  # 默认以元组的方式返回"
   ]
  },
  {
   "cell_type": "code",
   "execution_count": 7,
   "id": "0a930688-d008-4544-941a-3f9ff06a137a",
   "metadata": {},
   "outputs": [
    {
     "name": "stdout",
     "output_type": "stream",
     "text": [
      "[1, 2]\n"
     ]
    }
   ],
   "source": [
    "def func():\n",
    "    return [1, 2]\n",
    "\n",
    "\n",
    "res = func()\n",
    "print(res)"
   ]
  },
  {
   "cell_type": "code",
   "execution_count": 10,
   "id": "f373da6f-c527-4a39-81bf-8b04b5a2fe14",
   "metadata": {},
   "outputs": [
    {
     "name": "stdout",
     "output_type": "stream",
     "text": [
      "name age\n"
     ]
    }
   ],
   "source": [
    "def func():\n",
    "    return {'name': 'Tom', 'age': 17}\n",
    "\n",
    "\n",
    "a, b = func()\n",
    "print(a, b)  # 直接使用字典用的是key值序列"
   ]
  },
  {
   "cell_type": "markdown",
   "id": "8b078bf4-a577-4ad1-b4cd-307d5c9c7920",
   "metadata": {},
   "source": [
    "### c.Python中的参数\n",
    "\n",
    "#### 位置参数\n",
    "\n",
    "传递和定义参数的顺序必须一致，且数量相同\n",
    "\n",
    "#### 关键字参数\n",
    "\n",
    "调用时关键字参数的使用必须在所有位置参数之后，定义时并无区别，只不过顺序任意"
   ]
  },
  {
   "cell_type": "code",
   "execution_count": 12,
   "id": "5e122f7e-17dd-45d4-bde8-71f3ec61abd7",
   "metadata": {},
   "outputs": [
    {
     "name": "stdout",
     "output_type": "stream",
     "text": [
      "1 2 3\n"
     ]
    }
   ],
   "source": [
    "def func(a, b, c):\n",
    "    print(a, b, c)\n",
    "\n",
    "\n",
    "func(1, c=3, b=2)"
   ]
  },
  {
   "cell_type": "code",
   "execution_count": 13,
   "id": "eb4e1f58-4e2f-4442-9ce9-0eb51a3a5023",
   "metadata": {},
   "outputs": [
    {
     "name": "stdout",
     "output_type": "stream",
     "text": [
      "0 2 9\n"
     ]
    }
   ],
   "source": [
    "func(c=9, a=0, b=2)"
   ]
  },
  {
   "cell_type": "code",
   "execution_count": 15,
   "id": "4bb00200-8506-4101-978e-601280dcf992",
   "metadata": {},
   "outputs": [
    {
     "ename": "SyntaxError",
     "evalue": "positional argument follows keyword argument (3128765571.py, line 1)",
     "output_type": "error",
     "traceback": [
      "\u001b[0;36m  Input \u001b[0;32mIn [15]\u001b[0;36m\u001b[0m\n\u001b[0;31m    func(c=2, 7, a=1)  # 位置参数必须在关键字参数之前\u001b[0m\n\u001b[0m                    ^\u001b[0m\n\u001b[0;31mSyntaxError\u001b[0m\u001b[0;31m:\u001b[0m positional argument follows keyword argument\n"
     ]
    }
   ],
   "source": [
    "func(c=2, 7, a=1)  # 位置参数必须在关键字参数之前"
   ]
  },
  {
   "cell_type": "markdown",
   "id": "0b4cdb1a-4d93-48f6-8e00-173ded4c1fb5",
   "metadata": {},
   "source": [
    "#### 缺省参数\n",
    "\n",
    "定义时必须在所有位置参数的后面，但对于可变长参数，位置没有要求"
   ]
  },
  {
   "cell_type": "code",
   "execution_count": 18,
   "id": "f06d653a-5bf7-4159-9e7e-5735fc360345",
   "metadata": {},
   "outputs": [
    {
     "name": "stdout",
     "output_type": "stream",
     "text": [
      "1 9 9\n",
      "1 7 0\n"
     ]
    }
   ],
   "source": [
    "def func(a, b, c=9):\n",
    "    print(a, b, c)\n",
    "\n",
    "\n",
    "func(1, 9)\n",
    "func(1, 7, 0)"
   ]
  },
  {
   "cell_type": "markdown",
   "id": "fa7cd6bc-f15d-401a-92e6-32211e43a4df",
   "metadata": {},
   "source": [
    "#### 可变长参数\n",
    "\n",
    "##### 位置可变长参数"
   ]
  },
  {
   "cell_type": "code",
   "execution_count": 25,
   "id": "6db6cf1a-7898-4852-bb5c-722d58c56e1f",
   "metadata": {},
   "outputs": [
    {
     "name": "stdout",
     "output_type": "stream",
     "text": [
      "(1, 5, 6, 9)\n"
     ]
    },
    {
     "data": {
      "text/plain": [
       "21"
      ]
     },
     "execution_count": 25,
     "metadata": {},
     "output_type": "execute_result"
    }
   ],
   "source": [
    "def func(*args):\n",
    "    print(args)  # 元组\n",
    "    res = 0\n",
    "    for i in args:\n",
    "        res += i\n",
    "    return res\n",
    "\n",
    "\n",
    "func(1, 5, 6, 9)"
   ]
  },
  {
   "cell_type": "code",
   "execution_count": 23,
   "id": "3c299822-2f67-41e9-8eff-a56cc582e6c0",
   "metadata": {},
   "outputs": [
    {
     "data": {
      "text/plain": [
       "22"
      ]
     },
     "execution_count": 23,
     "metadata": {},
     "output_type": "execute_result"
    }
   ],
   "source": [
    "func(8, 9, 5)"
   ]
  },
  {
   "cell_type": "markdown",
   "id": "f9169fe5-a36c-46ca-9287-8bda138b06c5",
   "metadata": {},
   "source": [
    "##### 关键字可变长参数"
   ]
  },
  {
   "cell_type": "code",
   "execution_count": 32,
   "id": "0c355385-ed6d-4578-b2fd-d31bc13f0b59",
   "metadata": {},
   "outputs": [
    {
     "name": "stdout",
     "output_type": "stream",
     "text": [
      "('a', 5)\n",
      "('b', 8)\n",
      "('lele', 'gou')\n"
     ]
    }
   ],
   "source": [
    "def func(**kwargs):\n",
    "    for i in kwargs.items():\n",
    "        print(i)  # 整体存放在字典中\n",
    "\n",
    "\n",
    "func(a=5, b=8, lele='gou')"
   ]
  },
  {
   "cell_type": "markdown",
   "id": "e4eb36ab-a1bb-442e-a1e8-5d7363940761",
   "metadata": {},
   "source": [
    "### d.引用\n",
    "\n",
    "Python中对于变量是引用，是先地址空间后变量"
   ]
  },
  {
   "cell_type": "code",
   "execution_count": 34,
   "id": "ca2e92ec-ec95-4253-b981-df668db0041b",
   "metadata": {},
   "outputs": [
    {
     "name": "stdout",
     "output_type": "stream",
     "text": [
      "140048124936432 140048124936432\n",
      "1\n"
     ]
    }
   ],
   "source": [
    "a = 1\n",
    "b = a\n",
    "\n",
    "print(id(a), id(b))  # 两个变量指向了相同的内存\n",
    "\n",
    "a = 2  # 并不是修改内存中的值，而是引入其他内存，原空间不可变\n",
    "print(b)"
   ]
  },
  {
   "cell_type": "code",
   "execution_count": 38,
   "id": "5d232e43-d3ee-45c1-87ab-ad276a76808d",
   "metadata": {},
   "outputs": [
    {
     "name": "stdout",
     "output_type": "stream",
     "text": [
      "140047633965120 140047633965120\n",
      "[100, 2, 3]\n"
     ]
    }
   ],
   "source": [
    "aa = [1, 2, 3]\n",
    "bb = aa\n",
    "\n",
    "print(id(aa), id(bb))\n",
    "\n",
    "aa[0] = 100\n",
    "print(bb)"
   ]
  },
  {
   "cell_type": "code",
   "execution_count": 41,
   "id": "2698b0da-a3a3-430d-97ca-a03e948324bf",
   "metadata": {},
   "outputs": [
    {
     "name": "stdout",
     "output_type": "stream",
     "text": [
      "140047629887232 140047629887232\n",
      "[1, 2, 3]\n"
     ]
    }
   ],
   "source": [
    "aa = [1, 2, 3]\n",
    "bb = aa\n",
    "\n",
    "print(id(aa), id(bb))\n",
    "aa = [4, 5, 65]  # 这种方式是更新aa的引入，并没有对原地址修改\n",
    "print(bb)"
   ]
  },
  {
   "cell_type": "markdown",
   "id": "37ac457e-99e6-476a-b4c3-49f84a79d446",
   "metadata": {},
   "source": [
    "类似于定义的语句无论是否为不可变数据类型都会改变引用"
   ]
  },
  {
   "cell_type": "markdown",
   "id": "8657513c-8097-4c3b-a04b-f61d2c858e95",
   "metadata": {},
   "source": [
    "**引用当做实参**\n",
    "\n",
    "形参也会做相同的引用，但由于不可变数据类型的原因，形参的改变不会影响实参，形参相当于私有变量，因此不能被global修饰\n",
    "\n",
    "这也是对于可变类型而言，形参的改变会影响实参的原因，因为做的是相同的引用"
   ]
  },
  {
   "cell_type": "code",
   "execution_count": 44,
   "id": "b4d6e9da-ed7f-4e6d-86b7-1bec35b009e6",
   "metadata": {},
   "outputs": [
    {
     "name": "stdout",
     "output_type": "stream",
     "text": [
      "140048124936464\n",
      "140048124936464\n"
     ]
    }
   ],
   "source": [
    "def func(b):\n",
    "    print(id(b))\n",
    "\n",
    "\n",
    "a = 2\n",
    "print(id(a))\n",
    "func(a)"
   ]
  },
  {
   "cell_type": "markdown",
   "id": "0cca6864-9dad-41d5-ab38-4c0f6115da46",
   "metadata": {},
   "source": [
    "## 3.函数递归\n",
    "\n",
    "### a.认识递归\n",
    "\n",
    "递归是一种编程思想"
   ]
  },
  {
   "cell_type": "code",
   "execution_count": 52,
   "id": "a59d4c6c-8d25-48a6-a3b9-9599a17058f1",
   "metadata": {},
   "outputs": [
    {
     "data": {
      "text/plain": [
       "15"
      ]
     },
     "execution_count": 52,
     "metadata": {},
     "output_type": "execute_result"
    }
   ],
   "source": [
    "def Sum(num):\n",
    "    if num == 0:\n",
    "        return 0\n",
    "    else:\n",
    "        return num + Sum(num-1)\n",
    "\n",
    "\n",
    "Sum(5)"
   ]
  },
  {
   "cell_type": "markdown",
   "id": "7acb3e0e-4734-4dad-8d5c-997e8fc13e24",
   "metadata": {},
   "source": [
    "### b.最大递归层数\n",
    "\n",
    "Python解释器直接设定了最大递归层数"
   ]
  },
  {
   "cell_type": "code",
   "execution_count": 55,
   "id": "48825d7e-801e-40de-a8bb-56edfced6117",
   "metadata": {},
   "outputs": [
    {
     "ename": "RecursionError",
     "evalue": "maximum recursion depth exceeded in comparison",
     "output_type": "error",
     "traceback": [
      "\u001b[0;31m---------------------------------------------------------------------------\u001b[0m",
      "\u001b[0;31mRecursionError\u001b[0m                            Traceback (most recent call last)",
      "Input \u001b[0;32mIn [55]\u001b[0m, in \u001b[0;36m<cell line: 8>\u001b[0;34m()\u001b[0m\n\u001b[1;32m      4\u001b[0m     \u001b[38;5;28;01melse\u001b[39;00m:\n\u001b[1;32m      5\u001b[0m         \u001b[38;5;28;01mreturn\u001b[39;00m num \u001b[38;5;241m+\u001b[39m Sum(num\u001b[38;5;241m-\u001b[39m\u001b[38;5;241m1\u001b[39m)\n\u001b[0;32m----> 8\u001b[0m \u001b[43mSum\u001b[49m\u001b[43m(\u001b[49m\u001b[38;5;241;43m10000\u001b[39;49m\u001b[43m)\u001b[49m\n",
      "Input \u001b[0;32mIn [55]\u001b[0m, in \u001b[0;36mSum\u001b[0;34m(num)\u001b[0m\n\u001b[1;32m      3\u001b[0m     \u001b[38;5;28;01mreturn\u001b[39;00m \u001b[38;5;241m0\u001b[39m\n\u001b[1;32m      4\u001b[0m \u001b[38;5;28;01melse\u001b[39;00m:\n\u001b[0;32m----> 5\u001b[0m     \u001b[38;5;28;01mreturn\u001b[39;00m num \u001b[38;5;241m+\u001b[39m \u001b[43mSum\u001b[49m\u001b[43m(\u001b[49m\u001b[43mnum\u001b[49m\u001b[38;5;241;43m-\u001b[39;49m\u001b[38;5;241;43m1\u001b[39;49m\u001b[43m)\u001b[49m\n",
      "Input \u001b[0;32mIn [55]\u001b[0m, in \u001b[0;36mSum\u001b[0;34m(num)\u001b[0m\n\u001b[1;32m      3\u001b[0m     \u001b[38;5;28;01mreturn\u001b[39;00m \u001b[38;5;241m0\u001b[39m\n\u001b[1;32m      4\u001b[0m \u001b[38;5;28;01melse\u001b[39;00m:\n\u001b[0;32m----> 5\u001b[0m     \u001b[38;5;28;01mreturn\u001b[39;00m num \u001b[38;5;241m+\u001b[39m \u001b[43mSum\u001b[49m\u001b[43m(\u001b[49m\u001b[43mnum\u001b[49m\u001b[38;5;241;43m-\u001b[39;49m\u001b[38;5;241;43m1\u001b[39;49m\u001b[43m)\u001b[49m\n",
      "    \u001b[0;31m[... skipping similar frames: Sum at line 5 (2969 times)]\u001b[0m\n",
      "Input \u001b[0;32mIn [55]\u001b[0m, in \u001b[0;36mSum\u001b[0;34m(num)\u001b[0m\n\u001b[1;32m      3\u001b[0m     \u001b[38;5;28;01mreturn\u001b[39;00m \u001b[38;5;241m0\u001b[39m\n\u001b[1;32m      4\u001b[0m \u001b[38;5;28;01melse\u001b[39;00m:\n\u001b[0;32m----> 5\u001b[0m     \u001b[38;5;28;01mreturn\u001b[39;00m num \u001b[38;5;241m+\u001b[39m \u001b[43mSum\u001b[49m\u001b[43m(\u001b[49m\u001b[43mnum\u001b[49m\u001b[38;5;241;43m-\u001b[39;49m\u001b[38;5;241;43m1\u001b[39;49m\u001b[43m)\u001b[49m\n",
      "Input \u001b[0;32mIn [55]\u001b[0m, in \u001b[0;36mSum\u001b[0;34m(num)\u001b[0m\n\u001b[1;32m      1\u001b[0m \u001b[38;5;28;01mdef\u001b[39;00m \u001b[38;5;21mSum\u001b[39m(num):\n\u001b[0;32m----> 2\u001b[0m     \u001b[38;5;28;01mif\u001b[39;00m \u001b[43mnum\u001b[49m\u001b[43m \u001b[49m\u001b[38;5;241;43m==\u001b[39;49m\u001b[43m \u001b[49m\u001b[38;5;241;43m0\u001b[39;49m:\n\u001b[1;32m      3\u001b[0m         \u001b[38;5;28;01mreturn\u001b[39;00m \u001b[38;5;241m0\u001b[39m\n\u001b[1;32m      4\u001b[0m     \u001b[38;5;28;01melse\u001b[39;00m:\n",
      "\u001b[0;31mRecursionError\u001b[0m: maximum recursion depth exceeded in comparison"
     ]
    }
   ],
   "source": [
    "def Sum(num):\n",
    "    if num == 0:\n",
    "        return 0\n",
    "    else:\n",
    "        return num + Sum(num-1)\n",
    "\n",
    "\n",
    "Sum(10000)  # maximum recursion depth exceeded in comparison"
   ]
  },
  {
   "cell_type": "markdown",
   "id": "a514ac64-ad24-4c70-b15f-3faa6943e202",
   "metadata": {},
   "source": [
    "## 4.匿名函数（lambda）\n",
    "\n",
    "函数只有一个返回值，可以通过匿名函数省略函数定义\n",
    "\n",
    "语法：\n",
    "\n",
    "```py\n",
    "func = lambda 参数: 返回值\n",
    "```\n",
    "\n",
    "**参数可有可无，参数传递方式也和函数定义完全相同**"
   ]
  },
  {
   "cell_type": "code",
   "execution_count": 62,
   "id": "a48bf980-fa63-4575-b7e9-84a969c8ddd2",
   "metadata": {},
   "outputs": [
    {
     "data": {
      "text/plain": [
       "4.0"
      ]
     },
     "execution_count": 62,
     "metadata": {},
     "output_type": "execute_result"
    }
   ],
   "source": [
    "# 类似于函数定义\n",
    "mean_func = lambda *args: sum(args) / len(args)\n",
    "\n",
    "mean_func(1, 5, 8, 2)"
   ]
  },
  {
   "cell_type": "markdown",
   "id": "def5d49a-fdab-480a-88bf-b2b8ef120051",
   "metadata": {},
   "source": [
    "### 应用 列表内字典排序"
   ]
  },
  {
   "cell_type": "code",
   "execution_count": 74,
   "id": "2939a902-8831-4bd3-b2ac-8743585f0820",
   "metadata": {},
   "outputs": [
    {
     "data": {
      "text/plain": [
       "[{'id': 20, 'name': 'Jack'},\n",
       " {'id': 8, 'name': 'Rose'},\n",
       " {'id': 1, 'name': 'Tom'}]"
      ]
     },
     "execution_count": 74,
     "metadata": {},
     "output_type": "execute_result"
    }
   ],
   "source": [
    "# 按照某个key值进行排序\n",
    "# 固定方法\n",
    "list0 = [{'id': 1, 'name': 'Tom'}, \\\n",
    " {'id': 20, 'name': 'Jack'}, {'id': 8, 'name': 'Rose'}]\n",
    "\n",
    "list0.sort(key=lambda x: x['id'], reverse=True)\n",
    "\n",
    "list0"
   ]
  },
  {
   "cell_type": "code",
   "execution_count": 78,
   "id": "21bb4428-6ca0-4960-9881-755d8cf8194e",
   "metadata": {},
   "outputs": [
    {
     "data": {
      "text/plain": [
       "[[1, 4], [0, 5], [2, 8]]"
      ]
     },
     "execution_count": 78,
     "metadata": {},
     "output_type": "execute_result"
    }
   ],
   "source": [
    "# 同理，列表嵌套也可以指定按第一个元素的顺序排序\n",
    "list1 = [[1, 4], [2, 8], [0, 5]]\n",
    "list1.sort(key=lambda x: x[1])\n",
    "list1"
   ]
  },
  {
   "cell_type": "markdown",
   "id": "15453aab-612a-4152-ba2d-864ccdca5b9e",
   "metadata": {},
   "source": [
    "**key值的含义就是对于列表中的数据序列，按照序列中的哪个值进行排序，结合lambda使用**"
   ]
  },
  {
   "cell_type": "markdown",
   "id": "8f6e9612-c350-4360-8516-97e690e5c7fe",
   "metadata": {},
   "source": [
    "## 5.高阶函数\n",
    "\n",
    "就是把函数作为参数传入的函数就是高阶函数，是函数式编程思想的体现\n",
    "\n",
    "Python中一切皆对象，函数本身也是对象"
   ]
  },
  {
   "cell_type": "markdown",
   "id": "fd7c21e3-fbf8-4534-90ea-0bce747fc65a",
   "metadata": {},
   "source": [
    "### a.高阶函数写法"
   ]
  },
  {
   "cell_type": "code",
   "execution_count": 2,
   "id": "eebce89b-9c1d-4b0c-b556-3c372f47731c",
   "metadata": {},
   "outputs": [
    {
     "data": {
      "text/plain": [
       "4"
      ]
     },
     "execution_count": 2,
     "metadata": {},
     "output_type": "execute_result"
    }
   ],
   "source": [
    "# 案例：计算两个数据的绝对值之和\n",
    "def func(f, a, b):\n",
    "    return f(a) + f(b)\n",
    "\n",
    "func(abs, 2, -2)"
   ]
  },
  {
   "cell_type": "code",
   "execution_count": 3,
   "id": "9f4895c6-de20-431d-abc2-47dd42ca18e9",
   "metadata": {},
   "outputs": [
    {
     "data": {
      "text/plain": [
       "13"
      ]
     },
     "execution_count": 3,
     "metadata": {},
     "output_type": "execute_result"
    }
   ],
   "source": [
    "# 计算两个数四舍五入后的和\n",
    "func(round, 5.6, 7.2)"
   ]
  },
  {
   "cell_type": "code",
   "execution_count": 5,
   "id": "22a89868-bbd9-4898-baac-82599b89be01",
   "metadata": {},
   "outputs": [
    {
     "data": {
      "text/plain": [
       "2.65"
      ]
     },
     "execution_count": 5,
     "metadata": {},
     "output_type": "execute_result"
    }
   ],
   "source": [
    "# round函数\n",
    "round(2.6478, 2)  # 第二个参数表明在哪一位四舍五入"
   ]
  },
  {
   "cell_type": "markdown",
   "id": "665a9606-3031-4eea-8048-d1430169e2d4",
   "metadata": {},
   "source": [
    "### b.内置高阶函数\n",
    "\n",
    "#### map\n",
    "\n",
    "函数作用于序列每一个元素\n",
    "\n",
    "```py\n",
    "map(func, 序列）\n",
    "```\n",
    "\n",
    "结果是迭代器，如果需要使用，可以转化为列表或其他序列"
   ]
  },
  {
   "cell_type": "code",
   "execution_count": 8,
   "id": "ef12d642-4b3b-4dfc-a101-8ca52edc5608",
   "metadata": {},
   "outputs": [
    {
     "name": "stdin",
     "output_type": "stream",
     "text": [
      " 5 8\n"
     ]
    },
    {
     "name": "stdout",
     "output_type": "stream",
     "text": [
      "5 8\n",
      "<class 'int'> <class 'int'>\n"
     ]
    }
   ],
   "source": [
    "a, b = map(int, input().split())\n",
    "\n",
    "print(a, b)\n",
    "print(type(a), type(b))"
   ]
  },
  {
   "cell_type": "markdown",
   "id": "a4570d99-ef35-4b93-8027-cd24b47ded5a",
   "metadata": {},
   "source": [
    "#### reduce\n",
    "\n",
    "Python3中已经移到functools中，不再是内置函数\n",
    "\n",
    "用于累计运算，如累加、累乘等\n",
    "\n",
    "定义的函数必须有两个参数，一次对两个元素执行"
   ]
  },
  {
   "cell_type": "code",
   "execution_count": 11,
   "id": "cae6e47f-a866-4291-8b60-f82232e69a2d",
   "metadata": {},
   "outputs": [
    {
     "data": {
      "text/plain": [
       "10"
      ]
     },
     "execution_count": 11,
     "metadata": {},
     "output_type": "execute_result"
    }
   ],
   "source": [
    "from functools import reduce\n",
    "\n",
    "add = lambda x, y: x + y\n",
    "\n",
    "list0 = [1, 3, 6]\n",
    "reduce(add, list0)"
   ]
  },
  {
   "cell_type": "markdown",
   "id": "7abb3108-48bd-4736-b24f-ce1d18965cfe",
   "metadata": {},
   "source": [
    "#### filter\n",
    "\n",
    "用于数据过滤，返回也不是列表，如果需要使用可以进行转化"
   ]
  },
  {
   "cell_type": "code",
   "execution_count": 14,
   "id": "4a6ea7bc-ff0b-45c3-8c8d-9acd6abc0a55",
   "metadata": {},
   "outputs": [
    {
     "data": {
      "text/plain": [
       "[1, 6, 8]"
      ]
     },
     "execution_count": 14,
     "metadata": {},
     "output_type": "execute_result"
    }
   ],
   "source": [
    "func = lambda x: x >= 0\n",
    "\n",
    "list0 = [1, -2, 6, 8, -2]\n",
    "\n",
    "list(filter(func, list0))"
   ]
  }
 ],
 "metadata": {
  "kernelspec": {
   "display_name": "Python 3 (ipykernel)",
   "language": "python",
   "name": "python3"
  },
  "language_info": {
   "codemirror_mode": {
    "name": "ipython",
    "version": 3
   },
   "file_extension": ".py",
   "mimetype": "text/x-python",
   "name": "python",
   "nbconvert_exporter": "python",
   "pygments_lexer": "ipython3",
   "version": "3.10.2"
  }
 },
 "nbformat": 4,
 "nbformat_minor": 5
}
