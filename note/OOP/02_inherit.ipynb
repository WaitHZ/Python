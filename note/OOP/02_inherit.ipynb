{
 "cells": [
  {
   "cell_type": "markdown",
   "id": "43cb1f77-2f62-4d7b-bb27-b56ed82ef4eb",
   "metadata": {},
   "source": [
    "# 面向对象——继承"
   ]
  },
  {
   "cell_type": "markdown",
   "id": "ce81c78d-1fff-4487-b9d1-0b5191dfd981",
   "metadata": {},
   "source": [
    "## 拓展：经典类和新式类\n",
    "\n",
    "不由任意内置类型派生出的类，称之为经典类：\n",
    "\n",
    "```py\n",
    "class 类名:\n",
    "    code\n",
    "```\n",
    "\n",
    "新式类\n",
    "\n",
    "```py\n",
    "class 类名(object):\n",
    "    code\n",
    "```\n",
    "\n",
    "Python2.0默认经典类来处理，Python3.0默认新式类来处理。因此学习过程中都使用新式类。\n",
    "\n",
    "object如果不继承自己书写的类，则继承默认的顶级类。之前的代码括号内为空，但仍继承了object这个所有类的顶级类。以后的代码内即使不继承自己的类，也写入object这个顶级类（基类）。\n",
    "\n",
    "## 一、继承的概念\n",
    "\n",
    "生活中的继承，一般指的是子女继承父辈的遗产\n",
    "\n",
    "子类继承了父类，就可以继承父类的属性和方法。可以减少代码量。"
   ]
  },
  {
   "cell_type": "code",
   "execution_count": 3,
   "id": "6cc6069d-b866-4d1c-a260-d2d1d3d65c46",
   "metadata": {},
   "outputs": [
    {
     "name": "stdout",
     "output_type": "stream",
     "text": [
      "1\n"
     ]
    }
   ],
   "source": [
    "class A(object):\n",
    "    def __init__(self):\n",
    "        self.num = 1\n",
    "        \n",
    "    def print_info(self):\n",
    "        print(self.num)\n",
    "        \n",
    "class B(A):  # 不再继承object，继承A类\n",
    "    pass  # 内容为空时的占位\n",
    "\n",
    "ob1 = B()\n",
    "ob1.print_info()  # 输出1"
   ]
  },
  {
   "cell_type": "markdown",
   "id": "bb2ccfc7-e8e2-4607-9ef9-1e5c9f5d6131",
   "metadata": {},
   "source": [
    "Python中面向对象的继承指的是多个类之间的所属关系，即子类默认继承了父类的所有属性和方法。\n",
    "\n",
    "在Python中所有类默认继承object类，称为顶级类或基类，其他称作派生类。"
   ]
  },
  {
   "cell_type": "markdown",
   "id": "99d67793-70e5-4035-8ac5-7dfb7fc7870f",
   "metadata": {},
   "source": [
    "## 二、单继承\n",
    "\n",
    "含义：一个子类继承一个父类。"
   ]
  },
  {
   "cell_type": "code",
   "execution_count": 5,
   "id": "11da3672-b91b-4a7f-a31e-71675faf7556",
   "metadata": {},
   "outputs": [
    {
     "name": "stdout",
     "output_type": "stream",
     "text": [
      "运用[古法煎饼果子配方]制作煎饼果子\n",
      "运用[古法煎饼果子配方]制作煎饼果子\n"
     ]
    }
   ],
   "source": [
    "class Master(object):\n",
    "    def __init__(self):\n",
    "        self.kongfu = '[古法煎饼果子配方]'\n",
    "\n",
    "    def make_cake(self):\n",
    "        print(f'运用{self.kongfu}制作煎饼果子')\n",
    "\n",
    "\n",
    "class Student(Master):\n",
    "    pass\n",
    "\n",
    "\n",
    "stu1 = Student()\n",
    "stu2 = Student()\n",
    "stu1.make_cake()\n",
    "stu2.make_cake()"
   ]
  },
  {
   "cell_type": "code",
   "execution_count": 7,
   "id": "e7d51d78-b476-4b48-abf8-8961f334779e",
   "metadata": {},
   "outputs": [
    {
     "name": "stdout",
     "output_type": "stream",
     "text": [
      "age is 2\n"
     ]
    }
   ],
   "source": [
    "# 参数的传递一样可以继承下来\n",
    "class Master(object):\n",
    "    def __init__(self, age):\n",
    "        self.age = age\n",
    "    \n",
    "    def __str__(self):\n",
    "        return f'age is {self.age}'\n",
    "\n",
    "\n",
    "class Student(Master):\n",
    "    pass\n",
    "\n",
    "\n",
    "stu = Student(2)\n",
    "print(stu)"
   ]
  },
  {
   "cell_type": "markdown",
   "id": "480b077d-1333-4e27-98df-9160f7598818",
   "metadata": {},
   "source": [
    "## 三、多继承\n",
    "\n",
    "含义：一个子类继承了多个父类。"
   ]
  },
  {
   "cell_type": "code",
   "execution_count": 9,
   "id": "9f49ec66-0d28-4268-bbc1-427c852e451d",
   "metadata": {},
   "outputs": [
    {
     "name": "stdout",
     "output_type": "stream",
     "text": [
      "[黑马煎饼果子配方]\n",
      "运用[黑马煎饼果子配方]制作煎饼果子\n"
     ]
    }
   ],
   "source": [
    "class Master(object):\n",
    "    def __init__(self):\n",
    "        self.kongfu = '[古法煎饼果子配方]'\n",
    "\n",
    "    def make_cake(self):\n",
    "        print(f'运用{self.kongfu}制作煎饼果子')\n",
    "\n",
    "\n",
    "class School(object):\n",
    "    def __init__(self):\n",
    "        self.kongfu = '[黑马煎饼果子配方]'\n",
    "\n",
    "    def make_cake(self):\n",
    "        print(f'运用{self.kongfu}制作煎饼果子')\n",
    "\n",
    "\n",
    "class Prentice(School, Master):\n",
    "    pass\n",
    "\n",
    "\n",
    "stu = Prentice()\n",
    "print(stu.kongfu)  # [黑马煎饼果子配方]\n",
    "stu.make_cake()  # 运用[黑马煎饼果子配方]制作煎饼果子"
   ]
  },
  {
   "cell_type": "markdown",
   "id": "a6025e57-1e30-4150-b88a-e98eb4b5aec8",
   "metadata": {},
   "source": [
    "**一个子类继承多个父类，当属性和方法同名时，继承第一个父类的内容。**"
   ]
  },
  {
   "cell_type": "code",
   "execution_count": 1,
   "id": "1fbe2c10-486d-4939-bcdc-6073b761caa2",
   "metadata": {},
   "outputs": [
    {
     "name": "stdout",
     "output_type": "stream",
     "text": [
      "[古法煎饼果子配方]\n",
      "运用[古法煎饼果子配方]制作煎饼果子\n"
     ]
    }
   ],
   "source": [
    "class Master(object):\n",
    "    def __init__(self):\n",
    "        self.kongfu = '[古法煎饼果子配方]'\n",
    "\n",
    "    def make_cake(self):\n",
    "        print(f'运用{self.kongfu}制作煎饼果子')\n",
    "\n",
    "\n",
    "class School(object):\n",
    "    def __init__(self):\n",
    "        self.kongfu = '[黑马煎饼果子配方]'\n",
    "\n",
    "    def make_cake(self):\n",
    "        print(f'运用{self.kongfu}制作煎饼果子')\n",
    "\n",
    "\n",
    "class Prentice(Master, School):\n",
    "    pass\n",
    "\n",
    "\n",
    "stu = Prentice()\n",
    "print(stu.kongfu)  # [古法煎饼果子配方]\n",
    "stu.make_cake()  # 运用[古法煎饼果子配方]制作煎饼果子"
   ]
  },
  {
   "cell_type": "markdown",
   "id": "6ab58a49-51fb-40f9-817d-5eb3d097f04d",
   "metadata": {},
   "source": [
    "## 四、子类重写父类同名方法和属性\n",
    "\n",
    "多继承出现同名属性和方法，以先继承到的为准。\n",
    "\n",
    "**而子类如果有和父类同名的属性和方法，则调用得到的是子类**"
   ]
  },
  {
   "cell_type": "code",
   "execution_count": 2,
   "id": "42cf9aec-ad29-40f7-96d8-8048134a0e5d",
   "metadata": {},
   "outputs": [
    {
     "name": "stdout",
     "output_type": "stream",
     "text": [
      "[独创的煎饼果子配方]\n",
      "运用[独创的煎饼果子配方]制作煎饼果子\n"
     ]
    }
   ],
   "source": [
    "class Master(object):\n",
    "    def __init__(self):\n",
    "        self.kongfu = '[古法煎饼果子配方]'\n",
    "\n",
    "    def make_cake(self):\n",
    "        print(f'运用{self.kongfu}制作煎饼果子')\n",
    "\n",
    "\n",
    "class School(object):\n",
    "    def __init__(self):\n",
    "        self.kongfu = '[黑马煎饼果子配方]'\n",
    "\n",
    "    def make_cake(self):\n",
    "        print(f'运用{self.kongfu}制作煎饼果子')\n",
    "\n",
    "\n",
    "class Prentice(School, Master):\n",
    "    def __init__(self):\n",
    "        self.kongfu = '[独创的煎饼果子配方]'\n",
    "\n",
    "    def make_cake(self):\n",
    "        print(f'运用{self.kongfu}制作煎饼果子')\n",
    "\n",
    "\n",
    "stu = Prentice()\n",
    "print(stu.kongfu)  # [独创的煎饼果子配方]\n",
    "stu.make_cake()  # 运用[独创的煎饼果子配方]制作煎饼果子"
   ]
  },
  {
   "cell_type": "markdown",
   "id": "8951bec2-e6c5-49f0-b1e8-4a7c9c7d2b42",
   "metadata": {},
   "source": [
    "同名方法和属性的优先级自己的>先继承的>后继承的"
   ]
  },
  {
   "cell_type": "markdown",
   "id": "2eb313d4-53b1-45b7-8164-de02162aeb2f",
   "metadata": {},
   "source": [
    "## 拓展——mro顺序\n",
    "\n",
    "```py\n",
    "print(类的名称.__mro__)\n",
    "```"
   ]
  },
  {
   "cell_type": "code",
   "execution_count": 5,
   "id": "8026f8de-b860-4d00-9772-f4cdb0e26cef",
   "metadata": {},
   "outputs": [
    {
     "name": "stdout",
     "output_type": "stream",
     "text": [
      "(<class '__main__.Prentice'>, <class '__main__.School'>, <class '__main__.Master'>, <class 'object'>)\n"
     ]
    }
   ],
   "source": [
    "class Master(object):\n",
    "    def __init__(self):\n",
    "        self.kongfu = '[古法煎饼果子配方]'\n",
    "\n",
    "    def make_cake(self):\n",
    "        print(f'运用{self.kongfu}制作煎饼果子')\n",
    "\n",
    "\n",
    "class School(object):\n",
    "    def __init__(self):\n",
    "        self.kongfu = '[黑马煎饼果子配方]'\n",
    "\n",
    "    def make_cake(self):\n",
    "        print(f'运用{self.kongfu}制作煎饼果子')\n",
    "\n",
    "\n",
    "class Prentice(School, Master):\n",
    "    def __init__(self):\n",
    "        self.kongfu = '[独创的煎饼果子配方]'\n",
    "\n",
    "    def make_cake(self):\n",
    "        print(f'运用{self.kongfu}制作煎饼果子')\n",
    "\n",
    "\n",
    "stu = Prentice()\n",
    "print(Prentice.__mro__)"
   ]
  },
  {
   "cell_type": "markdown",
   "id": "edfca4bf-e675-4050-9a4d-4a396fffb168",
   "metadata": {},
   "source": [
    "## 五、子类调用父类的同名方法和属性"
   ]
  },
  {
   "cell_type": "code",
   "execution_count": 11,
   "id": "657c875e-e93d-4fa5-88ea-ef000e3b91bd",
   "metadata": {},
   "outputs": [
    {
     "name": "stdout",
     "output_type": "stream",
     "text": [
      "运用[黑马煎饼果子配方]制作煎饼果子\n",
      "运用[独创的煎饼果子配方]制作煎饼果子\n",
      "运用[古法煎饼果子配方]制作煎饼果子\n"
     ]
    }
   ],
   "source": [
    "class Master(object):\n",
    "    def __init__(self):\n",
    "        self.kongfu = '[古法煎饼果子配方]'\n",
    "\n",
    "    def make_cake(self):\n",
    "        print(f'运用{self.kongfu}制作煎饼果子')\n",
    "\n",
    "\n",
    "class School(object):\n",
    "    def __init__(self):\n",
    "        self.kongfu = '[黑马煎饼果子配方]'\n",
    "\n",
    "    def make_cake(self):\n",
    "        print(f'运用{self.kongfu}制作煎饼果子')\n",
    "\n",
    "\n",
    "class Prentice(School, Master):\n",
    "    def __init__(self):\n",
    "        self.kongfu = '[独创的煎饼果子配方]'\n",
    "\n",
    "    def make_cake(self):\n",
    "        self.__init__()  # 括号里不需要参数\n",
    "        print(f'运用{self.kongfu}制作煎饼果子')\n",
    "\n",
    "    def make_master_cake(self):\n",
    "        Master.__init__(self)\n",
    "        Master.make_cake(self)\n",
    "\n",
    "    def make_school_cake(self):\n",
    "        School.__init__(self)\n",
    "        School.make_cake(self)\n",
    "\n",
    "\n",
    "stu = Prentice()\n",
    "stu.make_school_cake()\n",
    "stu.make_cake()\n",
    "stu.make_master_cake()"
   ]
  },
  {
   "cell_type": "markdown",
   "id": "2d07d03f-2479-460c-9bbb-c29f9b17b1dd",
   "metadata": {},
   "source": [
    "每个类的init函数都是真实在改变对象的属性，所以需要init。\n",
    "\n",
    "在自己的方法中同样也需要初始化，但是不传入参数。self.\\_\\_init()\\_\\_前面已经存在self了，不再传入self。"
   ]
  },
  {
   "cell_type": "markdown",
   "id": "71755c9a-f18a-4104-91b4-b0e3f5345762",
   "metadata": {},
   "source": [
    "## 六、多层继承\n",
    "\n",
    "描述的是多次继承关系。"
   ]
  },
  {
   "cell_type": "code",
   "execution_count": 14,
   "id": "27afa72a-87ab-47ab-a3a0-6b5c04b043e0",
   "metadata": {},
   "outputs": [
    {
     "name": "stdout",
     "output_type": "stream",
     "text": [
      "[独创的煎饼果子配方]\n",
      "运用[独创的煎饼果子配方]制作煎饼果子\n",
      "运用[古法煎饼果子配方]制作煎饼果子\n",
      "运用[黑马煎饼果子配方]制作煎饼果子\n",
      "(<class '__main__.GrandChild'>, <class '__main__.Prentice'>, <class '__main__.School'>, <class '__main__.Master'>, <class 'object'>)\n"
     ]
    }
   ],
   "source": [
    "class Master(object):\n",
    "    def __init__(self):\n",
    "        self.kongfu = '[古法煎饼果子配方]'\n",
    "\n",
    "    def make_cake(self):\n",
    "        print(f'运用{self.kongfu}制作煎饼果子')\n",
    "\n",
    "\n",
    "class School(object):\n",
    "    def __init__(self):\n",
    "        self.kongfu = '[黑马煎饼果子配方]'\n",
    "\n",
    "    def make_cake(self):\n",
    "        print(f'运用{self.kongfu}制作煎饼果子')\n",
    "\n",
    "\n",
    "class Prentice(School, Master):\n",
    "    def __init__(self):\n",
    "        self.kongfu = '[独创的煎饼果子配方]'\n",
    "\n",
    "    def make_cake(self):\n",
    "        self.__init__()  # 括号里不需要参数\n",
    "        print(f'运用{self.kongfu}制作煎饼果子')\n",
    "\n",
    "    def make_master_cake(self):\n",
    "        Master.__init__(self)\n",
    "        Master.make_cake(self)\n",
    "\n",
    "    def make_school_cake(self):\n",
    "        School.__init__(self)\n",
    "        School.make_cake(self)\n",
    "\n",
    "\n",
    "class GrandChild(Prentice):\n",
    "    pass\n",
    "\n",
    "\n",
    "child = GrandChild()\n",
    "print(child.kongfu)\n",
    "child.make_cake()\n",
    "child.make_master_cake()\n",
    "child.make_school_cake()\n",
    "\n",
    "print(GrandChild.__mro__)"
   ]
  },
  {
   "cell_type": "markdown",
   "id": "4ab3e5e7-6813-4012-ab51-9501adedc47e",
   "metadata": {},
   "source": [
    "## 七、super方法\n",
    "\n",
    "一次性调用父类的方法，利用之前的知识有："
   ]
  },
  {
   "cell_type": "code",
   "execution_count": 16,
   "id": "b26c7e66-6843-40c9-8e90-9b76aa655af0",
   "metadata": {},
   "outputs": [
    {
     "name": "stdout",
     "output_type": "stream",
     "text": [
      "使用[古法配方]制作煎饼果子\n",
      "使用[黑马方法]制作煎饼果子\n",
      "[黑马方法]\n"
     ]
    }
   ],
   "source": [
    "class Master(object):\n",
    "    def __init__(self):\n",
    "        self.kongfu = '[古法配方]'\n",
    "\n",
    "    def make_cake(self):\n",
    "        print(f'使用{self.kongfu}制作煎饼果子')\n",
    "\n",
    "\n",
    "class School(Master):\n",
    "    def __init__(self):\n",
    "        self.kongfu = '[黑马方法]'\n",
    "\n",
    "    def make_cake(self):\n",
    "        print(f'使用{self.kongfu}制作煎饼果子')\n",
    "\n",
    "\n",
    "class Prentice(School):\n",
    "    def __init__(self):\n",
    "        self.kongfu = '[独创方法]'\n",
    "\n",
    "    def make_cake(self):\n",
    "        self.__init__()\n",
    "        print(f'使用{self.kongfu}制作煎饼果子')\n",
    "\n",
    "    def make_master_cake(self):\n",
    "        Master.__init__(self)\n",
    "        Master.make_cake(self)\n",
    "\n",
    "    def make_school_cake(self):\n",
    "        School.__init__(self)\n",
    "        School.make_cake(self)\n",
    "\n",
    "    def make_old_cake(self):\n",
    "        self.make_master_cake()\n",
    "        self.make_school_cake()\n",
    "\n",
    "\n",
    "stu = Prentice()\n",
    "stu.make_old_cake()\n",
    "print(stu.kongfu)  # [黑马方法] 真实的改变\n"
   ]
  },
  {
   "cell_type": "markdown",
   "id": "2eec0f99-7af2-4961-9f56-f949730f788d",
   "metadata": {},
   "source": [
    "缺点：当父类的名字发生修改，代码也需要修改；当父类较多，代码量太大"
   ]
  },
  {
   "cell_type": "code",
   "execution_count": 17,
   "id": "13799009-091d-475a-b746-b6be9b391127",
   "metadata": {},
   "outputs": [
    {
     "name": "stdout",
     "output_type": "stream",
     "text": [
      "使用[黑马方法]制作煎饼果子\n",
      "使用[古法配方]制作煎饼果子\n"
     ]
    }
   ],
   "source": [
    "class Master(object):\n",
    "    def __init__(self):\n",
    "        self.kongfu = '[古法配方]'\n",
    "\n",
    "    def make_cake(self):\n",
    "        print(f'使用{self.kongfu}制作煎饼果子')\n",
    "\n",
    "\n",
    "class School(Master):\n",
    "    def __init__(self):\n",
    "        self.kongfu = '[黑马方法]'\n",
    "\n",
    "    def make_cake(self):\n",
    "        print(f'使用{self.kongfu}制作煎饼果子')\n",
    "\n",
    "        super(School, self).__init__()\n",
    "        super(School, self).make_cake()\n",
    "\n",
    "\n",
    "class Prentice(School):\n",
    "    def __init__(self):\n",
    "        self.kongfu = '[独创方法]'\n",
    "\n",
    "    def make_cake(self):\n",
    "        self.__init__()\n",
    "        print(f'使用{self.kongfu}制作煎饼果子')\n",
    "\n",
    "    def make_old_cake(self):\n",
    "        super(Prentice, self).__init__()\n",
    "        super(Prentice, self).make_cake()\n",
    "\n",
    "\n",
    "stu = Prentice()\n",
    "stu.make_old_cake()"
   ]
  },
  {
   "cell_type": "markdown",
   "id": "30459ab1-dbe9-4999-9239-54d7117341ef",
   "metadata": {},
   "source": [
    "super可以直接缺省参数，super只是调用父类方法，对于爷爷辈就够不到了"
   ]
  },
  {
   "cell_type": "code",
   "execution_count": 19,
   "id": "63e3f3c8-a95d-4f4c-9bf6-d14307cef4e5",
   "metadata": {},
   "outputs": [
    {
     "name": "stdout",
     "output_type": "stream",
     "text": [
      "使用[黑马方法]制作煎饼果子\n",
      "使用[古法配方]制作煎饼果子\n"
     ]
    }
   ],
   "source": [
    "class Master(object):\n",
    "    def __init__(self):\n",
    "        self.kongfu = '[古法配方]'\n",
    "\n",
    "    def make_cake(self):\n",
    "        print(f'使用{self.kongfu}制作煎饼果子')\n",
    "\n",
    "\n",
    "class School(Master):\n",
    "    def __init__(self):\n",
    "        self.kongfu = '[黑马方法]'\n",
    "\n",
    "    def make_cake(self):\n",
    "        print(f'使用{self.kongfu}制作煎饼果子')\n",
    "\n",
    "        super().__init__()\n",
    "        super().make_cake()\n",
    "\n",
    "\n",
    "class Prentice(School):\n",
    "    def __init__(self):\n",
    "        self.kongfu = '[独创方法]'\n",
    "\n",
    "    def make_cake(self):\n",
    "        self.__init__()\n",
    "        print(f'使用{self.kongfu}制作煎饼果子')\n",
    "\n",
    "    def make_old_cake(self):\n",
    "        super().__init__()\n",
    "        super().make_cake()\n",
    "\n",
    "\n",
    "stu = Prentice()\n",
    "stu.make_old_cake()\n"
   ]
  },
  {
   "cell_type": "markdown",
   "id": "28fbb11a-9e8d-4e15-bd5c-044b0aff3bf6",
   "metadata": {},
   "source": [
    "使用super自动查找到父类，调用顺序遵从mro顺序，即同级继承，先调用的在前，更加适合单继承使用。\n",
    "\n",
    "建议还是将super（超类）的参数写全，可以更好的明确其本身就是self这个对象。"
   ]
  },
  {
   "cell_type": "markdown",
   "id": "0587c055-046f-440b-82b4-624d4be0074b",
   "metadata": {},
   "source": [
    "## 八、私有属性和方法\n",
    "\n",
    "不想在类外被查看的属性和被调用的方法。\n",
    "\n",
    "设置私有属性的方法，在希望私有的属性或方法前添加两个下划线。"
   ]
  },
  {
   "cell_type": "code",
   "execution_count": 33,
   "id": "f115761b-4b9b-462d-8135-c551af016520",
   "metadata": {},
   "outputs": [
    {
     "name": "stdout",
     "output_type": "stream",
     "text": [
      "使用[古法配方]制作煎饼果子\n",
      "使用[独创方法]制作煎饼果子\n"
     ]
    }
   ],
   "source": [
    "class Master(object):\n",
    "    def __init__(self):\n",
    "        self.kongfu = '[古法配方]'\n",
    "\n",
    "    def make_cake(self):\n",
    "        print(f'使用{self.kongfu}制作煎饼果子')\n",
    "\n",
    "\n",
    "class School(object):\n",
    "    def __init__(self):\n",
    "        self.kongfu = '[黑马方法]'\n",
    "\n",
    "    def make_cake(self):\n",
    "        print(f'使用{self.kongfu}制作煎饼果子')\n",
    "\n",
    "\n",
    "class Prentice(Master, School):\n",
    "    def __init__(self):\n",
    "        self.kongfu = '[独创方法]'\n",
    "        self.__money = 100000\n",
    "\n",
    "    def make_cake(self):\n",
    "        self.__init__()\n",
    "        print(f'使用{self.kongfu}制作煎饼果子')\n",
    "\n",
    "    def make_old_cake(self):\n",
    "        Master.__init__(self)\n",
    "        Master.make_cake(self)\n",
    "        School.__init__(self)\n",
    "        School.make_cake(self)\n",
    "\n",
    "    def __info_print(self):\n",
    "        print(self.__money)\n",
    "\n",
    "\n",
    "class Tusun(Prentice):\n",
    "    pass\n",
    "\n",
    "\n",
    "stu = Tusun()  # 只在创建时自动执行一次初始化\n",
    "# 后面就需要自己手动调用了\n",
    "Master.__init__(stu)\n",
    "Master.make_cake(stu)  # 类加方法必须传入对象，但对象就会多余\n",
    "stu.__init__()\n",
    "stu.make_cake()"
   ]
  },
  {
   "cell_type": "markdown",
   "id": "d4606089-f233-47c2-b848-cf262eae56de",
   "metadata": {},
   "source": [
    "私有的意思就是只能在类内调用，而不能在类外调用。因此，通常会用get_x和set_x这样的公共函数来对于私有属性进行查看和修改。函数名并不是规定的，只是习惯用这样的方式。"
   ]
  },
  {
   "cell_type": "code",
   "execution_count": 34,
   "id": "fe05ef63-c17f-4e0a-9f13-da948db2599d",
   "metadata": {},
   "outputs": [
    {
     "name": "stdout",
     "output_type": "stream",
     "text": [
      "100\n"
     ]
    }
   ],
   "source": [
    "class Master(object):\n",
    "    def __init__(self):\n",
    "        self.kongfu = '[古法配方]'\n",
    "\n",
    "    def make_cake(self):\n",
    "        print(f'使用{self.kongfu}制作煎饼果子')\n",
    "\n",
    "\n",
    "class School(object):\n",
    "    def __init__(self):\n",
    "        self.kongfu = '[黑马方法]'\n",
    "\n",
    "    def make_cake(self):\n",
    "        print(f'使用{self.kongfu}制作煎饼果子')\n",
    "\n",
    "\n",
    "class Prentice(Master, School):\n",
    "    def __init__(self):\n",
    "        self.kongfu = '[独创方法]'\n",
    "        self.__money = 100000\n",
    "\n",
    "    def get_money(self):\n",
    "        return self.__money\n",
    "\n",
    "    def set_money(self, money):\n",
    "        self.__money = money\n",
    "\n",
    "    def make_cake(self):\n",
    "        self.__init__()\n",
    "        print(f'使用{self.kongfu}制作煎饼果子')\n",
    "\n",
    "    def make_old_cake(self):\n",
    "        Master.__init__(self)\n",
    "        Master.make_cake(self)\n",
    "        School.__init__(self)\n",
    "        School.make_cake(self)\n",
    "\n",
    "    def __info_print(self):\n",
    "        print(self.__money)\n",
    "\n",
    "\n",
    "class Tusun(Prentice):\n",
    "    pass\n",
    "\n",
    "\n",
    "stu = Tusun()\n",
    "stu.set_money(100)\n",
    "print(stu.get_money())\n"
   ]
  }
 ],
 "metadata": {
  "kernelspec": {
   "display_name": "Python 3 (ipykernel)",
   "language": "python",
   "name": "python3"
  },
  "language_info": {
   "codemirror_mode": {
    "name": "ipython",
    "version": 3
   },
   "file_extension": ".py",
   "mimetype": "text/x-python",
   "name": "python",
   "nbconvert_exporter": "python",
   "pygments_lexer": "ipython3",
   "version": "3.10.2"
  }
 },
 "nbformat": 4,
 "nbformat_minor": 5
}
