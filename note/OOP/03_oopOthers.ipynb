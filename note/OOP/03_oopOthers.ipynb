{
 "cells": [
  {
   "cell_type": "markdown",
   "id": "82e1ab52-5113-4988-a197-c66312b4f320",
   "metadata": {},
   "source": [
    "# 面向对象——其他\n",
    "\n",
    "## 一、面向对象三大特性\n",
    "\n",
    "- 封装\n",
    "    - 将属性和方法写在类里面\n",
    "    - 封装可以为属性和方法添加私有属性\n",
    "- 继承\n",
    "    - 子类默认继承父类的所有属性和方法\n",
    "    - 子类可以重写父类的同名属性和方法（注意初始化）\n",
    "- 多态\n",
    "    - 传入不同的对象，产生的结果不同\n",
    "    \n",
    "## 二、多态\n",
    "\n",
    "### 1.多态的概念\n",
    "\n",
    "定义：多态是一种使用对象的方式，子类要重写父类的方法，调用不同子类对象的相同父类方法，可以产生不同的执行结果。\n",
    "\n",
    "Python的多态并不要求一定要有继承，但最好有继承。\n",
    "\n",
    "好处：调用灵活，有了多态更容易编写出通用的代码。\n",
    "\n",
    "实现步骤：\n",
    "\n",
    "1.定义父类，提供公共方法；\n",
    "\n",
    "2.定义子类，重写父类方法；\n",
    "\n",
    "3.传递子类对象给调用者，可以看到不同的子类执行结果不同。\n",
    "\n",
    "### 2.代码实现"
   ]
  },
  {
   "cell_type": "code",
   "execution_count": 5,
   "id": "f230c494-f9b5-45ba-b56c-54774f8e81b2",
   "metadata": {},
   "outputs": [
    {
     "name": "stdout",
     "output_type": "stream",
     "text": [
      "追击敌人...\n",
      "追查毒品...\n"
     ]
    }
   ],
   "source": [
    "class Dog(object):\n",
    "    def work(self):\n",
    "        print(\"指哪打哪...\")\n",
    "\n",
    "\n",
    "class ArmyDog(Dog):\n",
    "    # 同名方法，提供可重复用率\n",
    "    def work(self):\n",
    "        print(\"追击敌人...\")\n",
    "\n",
    "\n",
    "class DrugDog(Dog):\n",
    "    def work(self):\n",
    "        print(\"追查毒品...\")\n",
    "\n",
    "\n",
    "class Person(object):\n",
    "    # 传入不同对象得到不同的运行结果\n",
    "    def work_with_dog(self, dog):\n",
    "        dog.work()\n",
    "\n",
    "\n",
    "daqiu = Person()\n",
    "ad = ArmyDog()\n",
    "dd = DrugDog()\n",
    "\n",
    "daqiu.work_with_dog(ad)\n",
    "\n",
    "daqiu.work_with_dog(dd)"
   ]
  },
  {
   "cell_type": "markdown",
   "id": "aaab6184-b8c4-41f2-b0f6-d92dc2ad59a5",
   "metadata": {},
   "source": [
    "可以理解为什么之前说多态并不强制要求存在继承，但继承可以让逻辑更加清晰。就是把几个不同的相似类中的方法定义为同名函数，这样就可以保证当传入对象不同时得到不同的结果。\n",
    "\n",
    "父类在形式上很好的提供了公共方法的函数样式。子类中编写重名方法就可以实现多态。"
   ]
  },
  {
   "cell_type": "markdown",
   "id": "d6c10261-8888-41d2-bea2-240cfd9ad8c8",
   "metadata": {},
   "source": [
    "## 三、类属性\n",
    "\n",
    "### 1.设置和访问类属性\n",
    "\n",
    "类属性是类的属性，为该类所有实例对象所共有。可以由类对象访问也可以由该类的实例对象访问。"
   ]
  },
  {
   "cell_type": "code",
   "execution_count": 6,
   "id": "cb6fef75-37ab-4b85-b153-8c7ff2d07f6f",
   "metadata": {},
   "outputs": [
    {
     "name": "stdout",
     "output_type": "stream",
     "text": [
      "10\n",
      "10\n"
     ]
    }
   ],
   "source": [
    "class Dog(object):\n",
    "    tooth = 10  # 设置类属性的方法\n",
    "\n",
    "\n",
    "print(Dog.tooth)\n",
    "wangcai = Dog()\n",
    "print(wangcai.tooth)"
   ]
  },
  {
   "cell_type": "markdown",
   "id": "cf896d76-ee21-4cf1-9575-59896fc72012",
   "metadata": {},
   "source": [
    "设置类属性的语法就是变量引用的形式。\n",
    "\n",
    "何时使用类属性？\n",
    "\n",
    "如果希望记录的某个值始终保持一致，则定义类属性。\n",
    "\n",
    "相较于实例属性的好处是，所有实例对象共享这个属性的内存空间，而不用像实例属性一样开辟许多（每个对象一份）内存空间。"
   ]
  },
  {
   "cell_type": "markdown",
   "id": "53d2d93e-304c-45b5-a8ed-f87c49bf2764",
   "metadata": {},
   "source": [
    "### 2.修改类属性\n",
    "\n",
    "类属性的修改和访问不同，只能通过类名进行获取修改，若硬通过实例对象进行修改，本质是为实例对象单独创建了一个实例属性。"
   ]
  },
  {
   "cell_type": "code",
   "execution_count": 8,
   "id": "89ff7546-558c-4730-859e-e34ddf8b7c4c",
   "metadata": {},
   "outputs": [
    {
     "name": "stdout",
     "output_type": "stream",
     "text": [
      "10\n",
      "10\n",
      "100\n",
      "10\n"
     ]
    }
   ],
   "source": [
    "class Dog(object):\n",
    "    tooth = 10  # 设置类属性的方法\n",
    "\n",
    "\n",
    "print(Dog.tooth)\n",
    "wangcai = Dog()\n",
    "print(wangcai.tooth)\n",
    "\n",
    "# Dog.tooth = 100\n",
    "# print(Dog.tooth)\n",
    "\n",
    "wangcai.tooth = 100\n",
    "\n",
    "print(wangcai.tooth)\n",
    "print(Dog.tooth)"
   ]
  },
  {
   "cell_type": "code",
   "execution_count": 11,
   "id": "cb7afb49-040b-4518-9dd5-04fada4335d7",
   "metadata": {},
   "outputs": [
    {
     "name": "stdout",
     "output_type": "stream",
     "text": [
      "10\n",
      "10\n",
      "100\n",
      "100\n"
     ]
    }
   ],
   "source": [
    "class Dog(object):\n",
    "    tooth = 10  # 设置类属性的方法\n",
    "\n",
    "\n",
    "print(Dog.tooth)\n",
    "wangcai = Dog()\n",
    "print(wangcai.tooth)\n",
    "\n",
    "Dog.tooth = 100\n",
    "print(Dog.tooth)\n",
    "print(wangcai.tooth)  # 类属性做了修改，肯定可以改变所有实例对象"
   ]
  },
  {
   "cell_type": "markdown",
   "id": "0af9a3ff-dfd4-4e9d-a331-616e474a181f",
   "metadata": {},
   "source": [
    "## 四、类方法和静态方法\n",
    "\n",
    "### 1.类方法\n",
    "\n",
    "需要用装饰器@classmethod来标识其为类方法，对于类方法，第一个参数必须是类对象，一般以cls作为第一个参数。\n",
    "\n",
    "当方法中需要使用类对象（如访问私有类属性等）时，定义类方法\n",
    "\n",
    "类方法一般和类属性配合使用。"
   ]
  },
  {
   "cell_type": "code",
   "execution_count": 15,
   "id": "a8450949-de86-4496-8da7-9a5dc2f71561",
   "metadata": {},
   "outputs": [
    {
     "name": "stdout",
     "output_type": "stream",
     "text": [
      "10\n"
     ]
    }
   ],
   "source": [
    "class Dog(object):\n",
    "    __tooth = 10  # 私有类属性，只能在类内使用\n",
    "\n",
    "    @classmethod  # 装饰器\n",
    "    def get_tooth(cls):\n",
    "        return cls.__tooth\n",
    "\n",
    "\n",
    "wangcai = Dog()\n",
    "print(wangcai.get_tooth())"
   ]
  },
  {
   "cell_type": "code",
   "execution_count": 16,
   "id": "87a904e7-e491-4825-a05e-204ed549d16d",
   "metadata": {},
   "outputs": [
    {
     "name": "stdout",
     "output_type": "stream",
     "text": [
      "10\n",
      "100\n"
     ]
    }
   ],
   "source": [
    "class Dog(object):\n",
    "    __tooth = 10\n",
    "\n",
    "    @classmethod\n",
    "    def get_tooth(cls):\n",
    "        return cls.__tooth\n",
    "\n",
    "    @classmethod\n",
    "    def set_tooth(cls, tooth):\n",
    "        cls.__tooth = tooth\n",
    "\n",
    "\n",
    "wangcai = Dog()\n",
    "print(wangcai.get_tooth())\n",
    "Dog.set_tooth(100)\n",
    "print(wangcai.get_tooth())"
   ]
  },
  {
   "cell_type": "markdown",
   "id": "a443d7eb-b4b8-4cd8-9598-7449a6124bd8",
   "metadata": {},
   "source": [
    "和对象方法也没有什么区别，类打点调用不需要传参数。\n",
    "\n",
    "对象方法，传入的是对象；类方法传入的是类对象。"
   ]
  },
  {
   "cell_type": "markdown",
   "id": "ea6fc988-ad09-499c-b378-6e4872f3b47c",
   "metadata": {},
   "source": [
    "### 2.静态方法\n",
    "\n",
    "需要通过装饰器@staticmethod进行修饰，既不需要传递类对象也不需要传递实例对象。\n",
    "\n",
    "静态方法也能够通过实例对象和类对象去访问。\n",
    "\n",
    "在不需要参数传入的时候，定义静态方法可以减少不必要的内存占用和性能消耗。"
   ]
  },
  {
   "cell_type": "code",
   "execution_count": 18,
   "id": "6916105d-74af-4603-bd5b-b8221d8721ef",
   "metadata": {},
   "outputs": [
    {
     "name": "stdout",
     "output_type": "stream",
     "text": [
      "10\n",
      "10\n"
     ]
    }
   ],
   "source": [
    "class Dog(object):\n",
    "    __tooth = 10\n",
    "\n",
    "    @staticmethod\n",
    "    def print_info():\n",
    "        print(Dog.__tooth)\n",
    "\n",
    "\n",
    "Dog.print_info()\n",
    "\n",
    "wangcai = Dog()\n",
    "wangcai.print_info()"
   ]
  },
  {
   "cell_type": "markdown",
   "id": "49153079-27e9-4c02-970a-4a80293ff504",
   "metadata": {},
   "source": [
    "静态方法既可以被实例对象调用也可以被类对象调用。"
   ]
  },
  {
   "cell_type": "markdown",
   "id": "09c0af86-4c06-45f1-a933-5e0dd89e991f",
   "metadata": {},
   "source": [
    "## 五、拓展\\_\\_dict\\_\\_\n",
    "\n",
    "类调用dict返回的的是类属性和方法的字典\n",
    "\n",
    "对象调用dict返回的是对象属性和值组成的字典，不包含类属性。"
   ]
  },
  {
   "cell_type": "code",
   "execution_count": 3,
   "id": "58b9b0e8-f869-4402-a2b3-295178e29a01",
   "metadata": {},
   "outputs": [
    {
     "name": "stdout",
     "output_type": "stream",
     "text": [
      "{'__module__': '__main__', 'a': 0, '__init__': <function A.__init__ at 0x7ff6da9136d0>, '__dict__': <attribute '__dict__' of 'A' objects>, '__weakref__': <attribute '__weakref__' of 'A' objects>, '__doc__': None}\n",
      "{'b': 1}\n"
     ]
    }
   ],
   "source": [
    "class A(object):\n",
    "    a = 0\n",
    "    \n",
    "    def __init__(self):\n",
    "        self.b = 1\n",
    "        \n",
    "a = A()\n",
    "print(A.__dict__)  # 包含类属性和方法\n",
    "print(a.__dict__)  # 只是对象属性，不包含类属性"
   ]
  },
  {
   "cell_type": "markdown",
   "id": "75eb3b81-d720-429d-bc7c-4366938659f2",
   "metadata": {},
   "source": [
    "实例对象、类对象的dict会连私有属性也显示出来，只不过存在一定的格式。"
   ]
  },
  {
   "cell_type": "code",
   "execution_count": 4,
   "id": "a409a914-af20-4f24-9f6f-75c970b13490",
   "metadata": {},
   "outputs": [
    {
     "name": "stdout",
     "output_type": "stream",
     "text": [
      "{'_A__money': 100}\n",
      "{'__module__': '__main__', '_A__dol': 123, '__init__': <function A.__init__ at 0x7f497f6daf80>, '__dict__': <attribute '__dict__' of 'A' objects>, '__weakref__': <attribute '__weakref__' of 'A' objects>, '__doc__': None}\n"
     ]
    }
   ],
   "source": [
    "class A(object):\n",
    "    __dol = 123\n",
    "    def __init__(self):\n",
    "        self.__money = 100\n",
    "\n",
    "\n",
    "aa = A()\n",
    "print(aa.__dict__)\n",
    "print(A.__dict__)"
   ]
  },
  {
   "cell_type": "markdown",
   "id": "adf1a0a6-52c5-4c32-97ee-6dc4f5d9b964",
   "metadata": {},
   "source": [
    "## 应用案例：面向对象的学员管理系统\n",
    "\n",
    "managerSys.py"
   ]
  },
  {
   "cell_type": "code",
   "execution_count": null,
   "id": "f5e3d2ff-d164-4cea-a786-4dea9b8bb50d",
   "metadata": {},
   "outputs": [],
   "source": [
    "import student\n",
    "\n",
    "\n",
    "class ManagerSys(object):\n",
    "    def __init__(self):\n",
    "        self.student_list = []\n",
    "\n",
    "    def run(self):\n",
    "        self.load_student()\n",
    "\n",
    "        while True:\n",
    "            self.show_menu()\n",
    "            func_num = int(input('请输入功能序号：'))\n",
    "            if func_num == 0:\n",
    "                self.save_student()\n",
    "                break\n",
    "            elif func_num == 1:\n",
    "                name, gender, tel = input('依次输入姓名、性别、电话(空格分割):').split()\n",
    "                self.add_student(name, gender, tel)\n",
    "            elif func_num == 2:\n",
    "                name = input('输入删除学员的姓名：')\n",
    "                self.del_stu(name)\n",
    "            elif func_num == 3:\n",
    "                name = input('修改学生姓名：')\n",
    "                gender, tel = input('输入修改后的性别和电话(空格分割):').split()\n",
    "                self.revise_stu(name, gender, tel)\n",
    "            elif func_num == 4:\n",
    "                name = input('查找学生姓名：')\n",
    "                self.search_stu(name)\n",
    "            elif func_num == 5:\n",
    "                self.show_all_stu()\n",
    "            elif func_num == 6:\n",
    "                self.save_student()\n",
    "\n",
    "    def load_student(self):\n",
    "        file = open(\"stu.data\", \"a+\")\n",
    "        file.seek(0, 0)\n",
    "        info_list = eval(file.read())\n",
    "        file.close()\n",
    "        for info in info_list:\n",
    "            stu = student.Student(info['name'], info['gender'], info['tel'])\n",
    "            self.student_list.append(stu)\n",
    "\n",
    "    @staticmethod\n",
    "    def show_menu():\n",
    "        print('1.添加学员')\n",
    "        print('2.删除学员')\n",
    "        print('3.修改学员信息')\n",
    "        print('4.查询学员信息')\n",
    "        print('5.显示所有学员信息')\n",
    "        print('6.保存学员信息')\n",
    "        print('0.保存更改，并退出程序')\n",
    "\n",
    "    def save_student(self):\n",
    "        file = open(\"stu.data\", \"w\")\n",
    "\n",
    "        new_list = [i.__dict__ for i in self.student_list]\n",
    "\n",
    "        file.write(str(new_list))\n",
    "\n",
    "        file.close()\n",
    "\n",
    "    def add_student(self, name, gender, tel):\n",
    "        stu = student.Student(name, gender, tel)\n",
    "\n",
    "        self.student_list.append(stu)\n",
    "\n",
    "    def del_stu(self, name):\n",
    "        for stu in self.student_list:\n",
    "            if stu.name == name:\n",
    "                self.student_list.remove(stu)\n",
    "                break\n",
    "\n",
    "    def revise_stu(self, name, gender, tel):\n",
    "        for index, stu in enumerate(self.student_list):\n",
    "            if stu.name == name:\n",
    "                self.student_list[index].gender = gender\n",
    "                self.student_list[index].tel = tel\n",
    "                break\n",
    "        else:\n",
    "            print(\"系统中没有这个学员\")\n",
    "\n",
    "    def search_stu(self, name):\n",
    "        for stu in self.student_list:\n",
    "            if stu.name == name:\n",
    "                print(stu)\n",
    "                break\n",
    "        else:\n",
    "            print(\"系统中没有这个学员\")\n",
    "\n",
    "    def show_all_stu(self):\n",
    "        for stu in self.student_list:\n",
    "            print(stu)\n"
   ]
  },
  {
   "cell_type": "markdown",
   "id": "688dee35-43e5-4c9a-b47d-9f5b8598492c",
   "metadata": {},
   "source": [
    "student.py"
   ]
  },
  {
   "cell_type": "code",
   "execution_count": null,
   "id": "1bbc91a5-297d-4169-8cf6-437b0d4fc294",
   "metadata": {},
   "outputs": [],
   "source": [
    "class Student(object):\n",
    "    def __init__(self, name, gender, tel):\n",
    "        self.name = name\n",
    "        self.gender = gender\n",
    "        self.tel = tel\n",
    "\n",
    "    def __str__(self):\n",
    "        return f'{self.name}, {self.gender}, {self.tel}'"
   ]
  },
  {
   "cell_type": "markdown",
   "id": "e4fd3677-11ee-4f7f-b8e7-f504a537e786",
   "metadata": {},
   "source": [
    "main.py"
   ]
  },
  {
   "cell_type": "code",
   "execution_count": null,
   "id": "8f77fba6-b351-40fb-a1de-0e11b05917d3",
   "metadata": {},
   "outputs": [],
   "source": [
    "import managerSys\n",
    "\n",
    "if __name__ == '__main__':\n",
    "    student_manager = managerSys.ManagerSys()\n",
    "\n",
    "    student_manager.run()"
   ]
  }
 ],
 "metadata": {
  "kernelspec": {
   "display_name": "Python 3 (ipykernel)",
   "language": "python",
   "name": "python3"
  },
  "language_info": {
   "codemirror_mode": {
    "name": "ipython",
    "version": 3
   },
   "file_extension": ".py",
   "mimetype": "text/x-python",
   "name": "python",
   "nbconvert_exporter": "python",
   "pygments_lexer": "ipython3",
   "version": "3.10.2"
  }
 },
 "nbformat": 4,
 "nbformat_minor": 5
}
