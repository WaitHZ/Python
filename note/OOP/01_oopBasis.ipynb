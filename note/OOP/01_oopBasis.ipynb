{
 "cells": [
  {
   "cell_type": "markdown",
   "id": "69cca844-333d-4186-971e-af0ed2fff72d",
   "metadata": {},
   "source": [
    "# 面向对象基础\n",
    "\n",
    "## 一、初步理解\n",
    "\n",
    "面向对象是一种抽象化的编程思想（跨语言，Python、java、cpp等）\n",
    "\n",
    "一个形象的比喻：\n",
    "\n",
    "洗衣服，可以选择手洗（面向过程）也可以选择使用洗衣机（面向对象）。\n",
    "\n",
    "**面向对象是将编程当作事物，对外界来说，事物直接使用，不用管内部情况。编程就是设置事物能够做什么事。**\n",
    "\n",
    "最大的好处就是简化代码和逻辑。\n",
    "\n",
    "## 二、类和对象\n",
    "\n",
    "类和对象的关系：用类去创建（实例化）对象。因此面向对象就是构造类，再用类实例化对象。\n",
    "\n",
    "做个比喻，类就是创造洗衣机的图纸，对象就是根据类创造出的洗衣机。\n",
    "\n",
    "**类是对一系列具有相同特征（属性、变量）和行为（功能、函数）的统称，是一个抽象的概念，不是真实存在的事物。**\n",
    "\n",
    "即，类中有变量和函数。\n",
    "\n",
    "**对象是类创建出来的的真实存在的事物**\n",
    "\n",
    "注：开发中要先有类再产生对象。\n",
    "\n",
    "类的语法：\n",
    "\n",
    "```py\n",
    "class 类名(要继承的类名):\n",
    "    代码\n",
    "    ......\n",
    "```\n",
    "\n",
    "类名需满足大驼峰命名规则。\n",
    "\n",
    "创建对象的语法：\n",
    "\n",
    "```py\n",
    "对象名 = 类名()\n",
    "```"
   ]
  },
  {
   "cell_type": "code",
   "execution_count": 6,
   "id": "e276c679-3814-4c8b-b62a-c93261842ae1",
   "metadata": {},
   "outputs": [
    {
     "name": "stdout",
     "output_type": "stream",
     "text": [
      "Can wash clothes!\n"
     ]
    }
   ],
   "source": [
    "class Washer():    \n",
    "    def wash(self):  # self之后会讲解\n",
    "        print('Can wash clothes!')\n",
    "        \n",
    "machine = Washer()\n",
    "machine.wash()  # 调用实例（对象）方法的语法"
   ]
  },
  {
   "cell_type": "markdown",
   "id": "015f06d3-4e54-4a5d-8ed9-3c0237b9b871",
   "metadata": {},
   "source": [
    "**self指的是调用该函数的对象**\n",
    "\n",
    "self就是哪个对象在调用该函数的方法。"
   ]
  },
  {
   "cell_type": "code",
   "execution_count": 10,
   "id": "fde7ebd4-8d14-460a-8a2b-802d1661d6a9",
   "metadata": {},
   "outputs": [
    {
     "name": "stdout",
     "output_type": "stream",
     "text": [
      "<__main__.Washer object at 0x7f2060293e80>\n",
      "Can wash clothes!\n",
      "<__main__.Washer object at 0x7f2060293e80>\n"
     ]
    }
   ],
   "source": [
    "class Washer():    \n",
    "    def wash(self):\n",
    "        print('Can wash clothes!')\n",
    "        print(self)\n",
    "        # <__main__.Washer object at 0x7f2060293d00>\n",
    "        \n",
    "machine = Washer()\n",
    "print(machine)\n",
    "\n",
    "machine.wash()  \n",
    "# <__main__.Washer object at 0x7f2060293d00>"
   ]
  },
  {
   "cell_type": "markdown",
   "id": "d9beea42-ae11-4367-bb7f-39b762883213",
   "metadata": {},
   "source": [
    "使用一个类创建多个对象。多个对象彼此是不同的，可以通过打印地址查看。"
   ]
  },
  {
   "cell_type": "code",
   "execution_count": 12,
   "id": "f42ef7f8-1c67-4cf3-8dc8-92c3bbd2865d",
   "metadata": {},
   "outputs": [
    {
     "name": "stdout",
     "output_type": "stream",
     "text": [
      "Can wash clothes!\n",
      "<__main__.Washer object at 0x7f20604bf580>\n",
      "Can wash clothes!\n",
      "<__main__.Washer object at 0x7f20604be7d0>\n"
     ]
    }
   ],
   "source": [
    "class Washer():    \n",
    "    def wash(self):\n",
    "        print('Can wash clothes!')\n",
    "        print(self)\n",
    "        \n",
    "machine1 = Washer()\n",
    "machine1.wash()\n",
    "# <__main__.Washer object at 0x7f20604be7d0>\n",
    "\n",
    "machine2 = Washer()\n",
    "machine2.wash()\n",
    "# <__main__.Washer object at 0x7f20604bee00>"
   ]
  },
  {
   "cell_type": "markdown",
   "id": "5c498cb9-c6cb-4a04-8356-7550f02c20a1",
   "metadata": {},
   "source": [
    "## 三、添加和获取对象属性\n",
    "\n",
    "属性就是特征，可以在类外添加和获取也可以在类内添加和获取。\n",
    "\n",
    "### 1.类外添加和获取对象属性"
   ]
  },
  {
   "cell_type": "code",
   "execution_count": 18,
   "id": "3af77723-f3eb-49a5-b45b-d154d44e713d",
   "metadata": {},
   "outputs": [
    {
     "name": "stdout",
     "output_type": "stream",
     "text": [
      "500\n"
     ]
    }
   ],
   "source": [
    "class Washer():    \n",
    "    def wash(self):\n",
    "        print('Can wash clothes!')\n",
    "        print(self)\n",
    "        \n",
    "machine = Washer()\n",
    "machine.width = 500  # 类外添加属性 属性名自定，满足标识符规则即可\n",
    "\n",
    "print(machine.width)  # 获取：对象名.属性名"
   ]
  },
  {
   "cell_type": "markdown",
   "id": "63adb400-e5c6-4b76-9b2b-e0b164583b74",
   "metadata": {},
   "source": [
    "###  2.类里面获取对象属性"
   ]
  },
  {
   "cell_type": "code",
   "execution_count": 20,
   "id": "92d79a5d-c872-4193-bec3-7d7b96bb819a",
   "metadata": {},
   "outputs": [
    {
     "name": "stdout",
     "output_type": "stream",
     "text": [
      "500\n",
      "600\n"
     ]
    }
   ],
   "source": [
    "class Washer():\n",
    "    def print_info(self):\n",
    "        print(self.width)\n",
    "        print(self.height)\n",
    "        \n",
    "haier = Washer()\n",
    "\n",
    "haier.width = 500\n",
    "haier.height = 600\n",
    "\n",
    "haier.print_info()"
   ]
  },
  {
   "cell_type": "markdown",
   "id": "70a1314e-a1b7-4e3d-b0eb-67131437a243",
   "metadata": {
    "tags": []
   },
   "source": [
    "## 四、魔法方法\n",
    "\n",
    "\\_\\_xx\\_\\_()函数叫做魔法方法，指的是具有特殊功能的函数\n",
    "\n",
    "### 1.\\_\\_init\\_\\_()\n",
    "\n",
    "作用初始化对象，即设置那些与生俱来的属性\n",
    "\n",
    "注意：创建对象时被默认调用，不需要手动调用"
   ]
  },
  {
   "cell_type": "code",
   "execution_count": 26,
   "id": "1b1df791-58a5-4c0d-a8bf-4036193fc9f0",
   "metadata": {},
   "outputs": [
    {
     "name": "stdout",
     "output_type": "stream",
     "text": [
      "500 600\n"
     ]
    }
   ],
   "source": [
    "class Washer():\n",
    "    def __init__(self):\n",
    "        self.width = 500\n",
    "        self.height = 600\n",
    "        \n",
    "    def print_info(self):\n",
    "        print(self.width, self.height)\n",
    "        \n",
    "haier = Washer()\n",
    "haier.print_info()"
   ]
  },
  {
   "cell_type": "markdown",
   "id": "e72b22a8-265f-4cdc-84f7-f9dd83a323f3",
   "metadata": {},
   "source": [
    "带参数的init"
   ]
  },
  {
   "cell_type": "code",
   "execution_count": 32,
   "id": "1755fa27-7a0e-4433-a430-47f266acb37d",
   "metadata": {},
   "outputs": [
    {
     "name": "stdout",
     "output_type": "stream",
     "text": [
      "10 20\n",
      "20 40\n"
     ]
    }
   ],
   "source": [
    "class Washer():\n",
    "    def __init__(self, width, height):\n",
    "        self.width = width\n",
    "        self.height = height\n",
    "        \n",
    "    def print_info(self):\n",
    "        print(self.width, self.height)\n",
    "        \n",
    "haier1 = Washer(10, 20)  # 创建对象，__init__等待形参传入数据\n",
    "# self不需要程序员手动传递，解释器会自动传递进去 所以少一个参数\n",
    "haier1.print_info()\n",
    "\n",
    "haier2 = Washer(20, 40)  # 传参就是传给__init__函数\n",
    "haier2.print_info()"
   ]
  },
  {
   "cell_type": "markdown",
   "id": "528a8cf4-d825-410f-9a85-0610891f8e42",
   "metadata": {},
   "source": [
    "参数相当于在左侧加上self传入魔法方法init，参数传递和函数使用相同。"
   ]
  },
  {
   "cell_type": "markdown",
   "id": "0afd0bb3-a2a8-4923-9d4e-a3b7733453f2",
   "metadata": {},
   "source": [
    "### 2.\\_\\_str\\_\\_\n",
    "\n",
    "print输出对象默认输出对象地址，但实际意义不大。使用魔法方法就可以在print时输出解释说明的文字。"
   ]
  },
  {
   "cell_type": "code",
   "execution_count": 36,
   "id": "d7e10613-e8b0-4ec5-b86e-f8860d951f6d",
   "metadata": {},
   "outputs": [
    {
     "name": "stdout",
     "output_type": "stream",
     "text": [
      "Washer Class\n"
     ]
    }
   ],
   "source": [
    "class Washer():\n",
    "    def __init__(self):\n",
    "        self.width = 300\n",
    "        \n",
    "    def __str__(self):\n",
    "        return \"Washer Class\"\n",
    "    \n",
    "haier = Washer()\n",
    "print(haier)  # Washer Class\n",
    "# 不再按照默认输出内存地址"
   ]
  },
  {
   "cell_type": "markdown",
   "id": "3604ec77-97ff-4e04-9dae-c207adb02513",
   "metadata": {},
   "source": [
    "### 3.\\_\\_del\\_\\_\n",
    "\n",
    "当删除对象时，python解释器也会默认调用\\_\\_del\\_\\_方法。\n",
    "\n",
    "一般情况下，程序结束运行也会自动调用。"
   ]
  },
  {
   "cell_type": "code",
   "execution_count": 42,
   "id": "36a3a775-6784-46c8-a016-6d1b84425e48",
   "metadata": {},
   "outputs": [
    {
     "name": "stdout",
     "output_type": "stream",
     "text": [
      "对象已经删除\n"
     ]
    }
   ],
   "source": [
    "class Washer():\n",
    "    def __init__(self):\n",
    "        self.width = 300\n",
    "    def __del__(self):\n",
    "        print('对象已经删除')\n",
    "        \n",
    "haier = Washer()\n",
    "\n",
    "del haier"
   ]
  },
  {
   "cell_type": "markdown",
   "id": "949e05ae-3d01-4450-9400-5e8bd2c4dd3c",
   "metadata": {},
   "source": [
    "## 五、综合应用\n",
    "\n",
    "### 1.烤地瓜\n",
    "\n",
    "分析过程：需要什么属性，对于这些属性需要什么方法"
   ]
  },
  {
   "cell_type": "code",
   "execution_count": 45,
   "id": "774dcfae-884f-4ce1-b8f6-00a4f7745ab2",
   "metadata": {},
   "outputs": [
    {
     "name": "stdout",
     "output_type": "stream",
     "text": [
      "生的['辣椒', '酱油']\n",
      "半生不熟的['辣椒', '酱油']\n",
      "熟的['辣椒', '酱油']\n",
      "烤糊了['辣椒', '酱油']\n"
     ]
    }
   ],
   "source": [
    "class SweetPotato():\n",
    "    # 定义类的初始化属性\n",
    "    def __init__(self):\n",
    "        self.cook_time = 0\n",
    "        self.cook_state = \"生的\"\n",
    "        self.condiments = []\n",
    "\n",
    "    def __str__(self):\n",
    "        return self.cook_state + f'{self.condiments}'\n",
    "\n",
    "    def cook(self, time):\n",
    "        self.cook_time += time\n",
    "        if 0 <= self.cook_time < 3:\n",
    "            self.cook_state = \"生的\"\n",
    "        elif 3 <= self.cook_time < 5:\n",
    "            self.cook_state = \"半生不熟的\"\n",
    "        elif 5 <= self.cook_time < 8:\n",
    "            self.cook_state = \"熟的\"\n",
    "        elif 8 <= self.cook_time:\n",
    "            self.cook_state = \"烤糊了\"\n",
    "\n",
    "    def add_condiment(self, condiment):\n",
    "        self.condiments.append(condiment)  # 列表是可变数据类型\n",
    "\n",
    "\n",
    "sp1 = SweetPotato()\n",
    "sp1.add_condiment('辣椒')\n",
    "sp1.add_condiment('酱油')\n",
    "print(sp1)\n",
    "sp1.cook(3)  # self参数都不需要传入\n",
    "print(sp1)\n",
    "sp1.cook(3)\n",
    "print(sp1)\n",
    "sp1.cook(3)\n",
    "print(sp1)"
   ]
  },
  {
   "cell_type": "markdown",
   "id": "73c7db13-ba6c-44ff-a82d-e0d4d5812f59",
   "metadata": {},
   "source": [
    "### 2.搬家具"
   ]
  },
  {
   "cell_type": "code",
   "execution_count": 4,
   "id": "4a1f9cdd-b102-4777-8803-7e84e7374c19",
   "metadata": {},
   "outputs": [
    {
     "name": "stdout",
     "output_type": "stream",
     "text": [
      "房子在紫金港, 总面积为150平方米, 剩余面积为150平方米, 家具有[]\n",
      "将沙发搬入房中\n",
      "房子在紫金港, 总面积为150平方米, 剩余面积为145平方米, 家具有['沙发']\n",
      "将床搬入房中\n",
      "房子在紫金港, 总面积为150平方米, 剩余面积为130平方米, 家具有['沙发', '床']\n"
     ]
    }
   ],
   "source": [
    "# 需要两个事物：1.家具；2.房子\n",
    "class Furniture():\n",
    "    def __init__(self, name, area):\n",
    "        self.name = name\n",
    "        self.area = area\n",
    "\n",
    "    def __str__(self):\n",
    "        return f'{self.name}占据面积{self.area}平方米'\n",
    "\n",
    "\n",
    "class House():\n",
    "    def __init__(self, loc, area):\n",
    "        self.loc = loc\n",
    "        self.area_tot = area\n",
    "        self.area_rest = area\n",
    "        self.furnitures = []\n",
    "\n",
    "    def __str__(self):\n",
    "        return f'房子在{self.loc}, 总面积为{self.area_tot}平方米, 剩余面积为{self.area_rest}平方米, 家具有{self.furnitures}'\n",
    "\n",
    "    def move_furniture_in(self, furniture):\n",
    "        if furniture.area > self.area_rest:\n",
    "            print(f'没有足够的面积放入{furniture.name}')\n",
    "        else:\n",
    "            self.furnitures.append(furniture.name)\n",
    "            self.area_rest -= furniture.area\n",
    "            print(f'将{furniture.name}搬入房中')\n",
    "\n",
    "\n",
    "house = House('紫金港', 150)\n",
    "print(house)\n",
    "fur1 = Furniture(\"沙发\", 5)\n",
    "house.move_furniture_in(fur1)\n",
    "print(house)\n",
    "fur2 = Furniture(\"床\", 15)\n",
    "house.move_furniture_in(fur2)\n",
    "print(house)"
   ]
  }
 ],
 "metadata": {
  "kernelspec": {
   "display_name": "Python 3 (ipykernel)",
   "language": "python",
   "name": "python3"
  },
  "language_info": {
   "codemirror_mode": {
    "name": "ipython",
    "version": 3
   },
   "file_extension": ".py",
   "mimetype": "text/x-python",
   "name": "python",
   "nbconvert_exporter": "python",
   "pygments_lexer": "ipython3",
   "version": "3.10.2"
  }
 },
 "nbformat": 4,
 "nbformat_minor": 5
}
