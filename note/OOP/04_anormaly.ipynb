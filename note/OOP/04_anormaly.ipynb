{
 "cells": [
  {
   "cell_type": "markdown",
   "id": "ead35d3e-27e9-47f1-b55a-8f1e5100dd14",
   "metadata": {},
   "source": [
    "# 异常\n",
    "\n",
    "## 一、了解异常\n",
    "\n",
    "当检测到错误时，解释器无法继续执行，出现错误提示，就是所谓的“异常”。\n",
    "\n",
    "例如，以r打开不存在文件。\n",
    "\n",
    "但是，是否存在文件不知道，所有使用异常可以尝试执行可能发生异常的代码，若发生异常执行替代语句。\n",
    "\n",
    "## 二、异常写法\n",
    "\n",
    "### 1.基本写法\n",
    "\n",
    "```py\n",
    "try:\n",
    "    可能发生错误的代码\n",
    "except:\n",
    "    如果出现异常执行的代码\n",
    "```"
   ]
  },
  {
   "cell_type": "code",
   "execution_count": 3,
   "id": "457e1e5d-2886-491a-8124-386726b2c796",
   "metadata": {},
   "outputs": [],
   "source": [
    "try:\n",
    "    file = open('aa.data', 'r')\n",
    "except:\n",
    "    file = open('aa.data', 'w')"
   ]
  },
  {
   "cell_type": "markdown",
   "id": "9ad950b3-811c-4ed0-99c3-6c1d2640bef7",
   "metadata": {},
   "source": [
    "### 2.异常类型"
   ]
  },
  {
   "cell_type": "code",
   "execution_count": 4,
   "id": "028fa8c5-376c-4271-af82-92a6a728f633",
   "metadata": {},
   "outputs": [
    {
     "ename": "NameError",
     "evalue": "name 'num' is not defined",
     "output_type": "error",
     "traceback": [
      "\u001b[0;31m---------------------------------------------------------------------------\u001b[0m",
      "\u001b[0;31mNameError\u001b[0m                                 Traceback (most recent call last)",
      "Input \u001b[0;32mIn [4]\u001b[0m, in \u001b[0;36m<cell line: 1>\u001b[0;34m()\u001b[0m\n\u001b[0;32m----> 1\u001b[0m \u001b[38;5;28mprint\u001b[39m(\u001b[43mnum\u001b[49m)\n",
      "\u001b[0;31mNameError\u001b[0m: name 'num' is not defined"
     ]
    }
   ],
   "source": [
    "print(num)"
   ]
  },
  {
   "cell_type": "markdown",
   "id": "c57bc92c-418a-42ea-ae3e-9df1c4dc2754",
   "metadata": {},
   "source": [
    "NameError（异常类型）: name 'num' is not defined（异常信息）"
   ]
  },
  {
   "cell_type": "code",
   "execution_count": 5,
   "id": "4627c27c-71d3-460e-ac02-fb98e76570ca",
   "metadata": {},
   "outputs": [
    {
     "ename": "ZeroDivisionError",
     "evalue": "division by zero",
     "output_type": "error",
     "traceback": [
      "\u001b[0;31m---------------------------------------------------------------------------\u001b[0m",
      "\u001b[0;31mZeroDivisionError\u001b[0m                         Traceback (most recent call last)",
      "Input \u001b[0;32mIn [5]\u001b[0m, in \u001b[0;36m<cell line: 1>\u001b[0;34m()\u001b[0m\n\u001b[0;32m----> 1\u001b[0m \u001b[38;5;241;43m1\u001b[39;49m\u001b[43m \u001b[49m\u001b[38;5;241;43m/\u001b[39;49m\u001b[43m \u001b[49m\u001b[38;5;241;43m0\u001b[39;49m\n",
      "\u001b[0;31mZeroDivisionError\u001b[0m: division by zero"
     ]
    }
   ],
   "source": [
    "1 / 0"
   ]
  },
  {
   "cell_type": "markdown",
   "id": "e7e1445c-c221-4e23-abc0-b542a603a7b9",
   "metadata": {},
   "source": [
    "ZeroDivisionError: division by zero"
   ]
  },
  {
   "cell_type": "markdown",
   "id": "895791ab-71c1-44da-b808-cd9bb68ced9f",
   "metadata": {},
   "source": [
    "### 3.捕获指定类型异常"
   ]
  },
  {
   "cell_type": "code",
   "execution_count": 8,
   "id": "9cf1637a-507c-4955-9408-bdbf069624d4",
   "metadata": {},
   "outputs": [
    {
     "name": "stdout",
     "output_type": "stream",
     "text": [
      "0\n"
     ]
    }
   ],
   "source": [
    "b = 0\n",
    "\n",
    "try:\n",
    "    a = 1 / b\n",
    "except ZeroDivisionError:  # 捕获指定的异常\n",
    "    a = 0\n",
    "\n",
    "print(a)"
   ]
  },
  {
   "cell_type": "markdown",
   "id": "6919514a-2de0-4728-b9ba-288addc81b9a",
   "metadata": {},
   "source": [
    "注意：\n",
    "\n",
    "如果尝试执行的代码的异常和捕获的不同，则无法捕获到异常；\n",
    "\n",
    "一般try下只有一句尝试代码（避免多个异常）"
   ]
  },
  {
   "cell_type": "code",
   "execution_count": 10,
   "id": "0a877e9f-8a90-44dc-93e8-32598cdc10e2",
   "metadata": {},
   "outputs": [
    {
     "name": "stdout",
     "output_type": "stream",
     "text": [
      "num还没有定义\n"
     ]
    }
   ],
   "source": [
    "try:\n",
    "    print(num)\n",
    "except NameError:\n",
    "    print('num还没有定义')"
   ]
  },
  {
   "cell_type": "code",
   "execution_count": 12,
   "id": "5d678d7f-2a80-4a4e-8215-dbed17ce2723",
   "metadata": {},
   "outputs": [
    {
     "ename": "ZeroDivisionError",
     "evalue": "division by zero",
     "output_type": "error",
     "traceback": [
      "\u001b[0;31m---------------------------------------------------------------------------\u001b[0m",
      "\u001b[0;31mZeroDivisionError\u001b[0m                         Traceback (most recent call last)",
      "Input \u001b[0;32mIn [12]\u001b[0m, in \u001b[0;36m<cell line: 1>\u001b[0;34m()\u001b[0m\n\u001b[1;32m      1\u001b[0m \u001b[38;5;28;01mtry\u001b[39;00m:\n\u001b[0;32m----> 2\u001b[0m     \u001b[38;5;241;43m1\u001b[39;49m\u001b[43m \u001b[49m\u001b[38;5;241;43m/\u001b[39;49m\u001b[43m \u001b[49m\u001b[38;5;241;43m0\u001b[39;49m\n\u001b[1;32m      3\u001b[0m \u001b[38;5;28;01mexcept\u001b[39;00m \u001b[38;5;167;01mNameError\u001b[39;00m:\n\u001b[1;32m      4\u001b[0m     \u001b[38;5;28mprint\u001b[39m(\u001b[38;5;124m'\u001b[39m\u001b[38;5;124mnum还没有定义\u001b[39m\u001b[38;5;124m'\u001b[39m)\n",
      "\u001b[0;31mZeroDivisionError\u001b[0m: division by zero"
     ]
    }
   ],
   "source": [
    "try:\n",
    "    1 / 0\n",
    "except NameError:\n",
    "    print('num还没有定义')"
   ]
  },
  {
   "cell_type": "markdown",
   "id": "d64c2dd2-1ef5-4d75-baf8-17bc1a5288a4",
   "metadata": {},
   "source": [
    "发生的异常和捕获的异常不同，输出解释器的异常信息。"
   ]
  },
  {
   "cell_type": "markdown",
   "id": "73317c81-34ff-4a4a-bf55-f03ec6b3fa06",
   "metadata": {},
   "source": [
    "### 4.捕获多个指定异常"
   ]
  },
  {
   "cell_type": "code",
   "execution_count": 14,
   "id": "ba88771f-6a81-402c-a4f2-657b1dbb461c",
   "metadata": {},
   "outputs": [
    {
     "name": "stdout",
     "output_type": "stream",
     "text": [
      "有错误\n"
     ]
    }
   ],
   "source": [
    "try:\n",
    "    print(1 / 0)\n",
    "except (ZeroDivisionError, NameError):  # 使用元组包装即可\n",
    "    print('有错误')"
   ]
  },
  {
   "cell_type": "markdown",
   "id": "986fbf3e-2267-45e2-9dbe-4896b713cac8",
   "metadata": {},
   "source": [
    "### 5.捕获异常描述信息"
   ]
  },
  {
   "cell_type": "code",
   "execution_count": 16,
   "id": "8c47df7e-42a4-477c-83c0-9d646663eb7d",
   "metadata": {},
   "outputs": [
    {
     "name": "stdout",
     "output_type": "stream",
     "text": [
      "division by zero\n"
     ]
    }
   ],
   "source": [
    "try:\n",
    "    print(1 / 0)\n",
    "except (ZeroDivisionError, NameError) as result:\n",
    "    print(result)"
   ]
  },
  {
   "cell_type": "code",
   "execution_count": 18,
   "id": "acac766d-72af-4fff-b6ff-ff40deb985cc",
   "metadata": {},
   "outputs": [
    {
     "name": "stdout",
     "output_type": "stream",
     "text": [
      "name 'num' is not defined\n"
     ]
    }
   ],
   "source": [
    "try:\n",
    "    print(num)\n",
    "except (ZeroDivisionError, NameError) as result:\n",
    "    print(result)"
   ]
  },
  {
   "cell_type": "markdown",
   "id": "8585f9ad-3541-4924-88e1-dc796a9d9cc1",
   "metadata": {},
   "source": [
    "### 6.捕获所有异常\n",
    "\n",
    "Exception所有程序异常类的父类。"
   ]
  },
  {
   "cell_type": "code",
   "execution_count": 20,
   "id": "6fa537ce-4d21-470c-ae10-9261d7e81b69",
   "metadata": {},
   "outputs": [
    {
     "name": "stdout",
     "output_type": "stream",
     "text": [
      "name 'num' is not defined\n"
     ]
    }
   ],
   "source": [
    "try:\n",
    "    print(num)\n",
    "except Exception as result:\n",
    "    print(result)"
   ]
  },
  {
   "cell_type": "markdown",
   "id": "5d6526ba-c032-49ac-b931-78c420a0d1d0",
   "metadata": {},
   "source": [
    "### 7.异常的else\n",
    "\n",
    "没有任何异常时执行的代码"
   ]
  },
  {
   "cell_type": "code",
   "execution_count": 22,
   "id": "42eb7b88-f785-4105-b589-a513489a4a0e",
   "metadata": {},
   "outputs": [
    {
     "name": "stdout",
     "output_type": "stream",
     "text": [
      "1\n",
      "没有异常\n"
     ]
    }
   ],
   "source": [
    "try:\n",
    "    print(1)\n",
    "except Exception as result:\n",
    "    print(result)\n",
    "else:\n",
    "    print('没有异常')"
   ]
  },
  {
   "cell_type": "markdown",
   "id": "52887bea-d3fc-4dd9-8ceb-dc4f23e1005c",
   "metadata": {},
   "source": [
    "### 8.异常的finally\n",
    "\n",
    "无论是否异常都要执行的代码。"
   ]
  },
  {
   "cell_type": "code",
   "execution_count": 24,
   "id": "f9d0e268-3922-4c1a-9522-98c2bb17b559",
   "metadata": {},
   "outputs": [
    {
     "name": "stdout",
     "output_type": "stream",
     "text": [
      "没有异常\n"
     ]
    }
   ],
   "source": [
    "try:\n",
    "    f = open('a.txt', 'r')\n",
    "except Exception as result:\n",
    "    print(result)\n",
    "    f = open('a.txt', 'w')\n",
    "else:\n",
    "    print(\"没有异常\")\n",
    "finally:\n",
    "    f.close()"
   ]
  },
  {
   "cell_type": "markdown",
   "id": "0f3fc75b-1beb-489f-91dc-66eaeef98986",
   "metadata": {},
   "source": [
    "## 三、异常的传递\n",
    "\n",
    "学习使用异常的嵌套书写。\n",
    "\n",
    "异常传递顺序是先执行外层的try、except再执行内层的。"
   ]
  },
  {
   "cell_type": "code",
   "execution_count": 27,
   "id": "a7f2a5d6-b7dd-49fc-ba1f-80f6e85a3484",
   "metadata": {},
   "outputs": [
    {
     "name": "stdout",
     "output_type": "stream",
     "text": [
      "文件不存在\n"
     ]
    }
   ],
   "source": [
    "import time\n",
    "\n",
    "try:\n",
    "    f = open('test.txt')\n",
    "\n",
    "    try:\n",
    "        while True:\n",
    "            content = f.readline()\n",
    "            if len(content) == 0:  # 无内容的判定\n",
    "                break\n",
    "            time.sleep(2)\n",
    "            print(content, end='')\n",
    "    except KeyboardInterrupt:  # Ctrl + c\n",
    "        print(\"意外终止读取数据\")\n",
    "    finally:\n",
    "        f.close()\n",
    "        print()\n",
    "        print('文件已关闭')\n",
    "\n",
    "except FileNotFoundError:\n",
    "    print('文件不存在')"
   ]
  },
  {
   "cell_type": "markdown",
   "id": "077530b4-f50c-44c9-b46e-0e7066f7056e",
   "metadata": {},
   "source": [
    "## 四、自定义异常\n",
    "\n",
    "自定义主要是为了在逻辑不符合程序要求的情况下抛出异常，如密码长度不够。\n",
    "\n",
    "很好的处理逻辑错误。"
   ]
  },
  {
   "cell_type": "code",
   "execution_count": 30,
   "id": "9046625c-7291-4568-bc2b-484ec3353d10",
   "metadata": {},
   "outputs": [
    {
     "name": "stdin",
     "output_type": "stream",
     "text": [
      "请输入密码： 12\n"
     ]
    },
    {
     "name": "stdout",
     "output_type": "stream",
     "text": [
      "你输入的长度是2, 不能少于3\n"
     ]
    }
   ],
   "source": [
    "class ShortInputError(Exception):\n",
    "    # 两个魔法方法\n",
    "    def __init__(self, length, min_len):\n",
    "        self.length = length\n",
    "        self.min_len = min_len\n",
    "\n",
    "    # 设置异常描述信息\n",
    "    def __str__(self):\n",
    "        return f'你输入的长度是{self.length}, 不能少于{self.min_len}'\n",
    "\n",
    "\n",
    "def main():\n",
    "    try:\n",
    "        con = input('请输入密码：')\n",
    "        if len(con) < 3:  # 自定义异常需要自己手动抛出\n",
    "            raise ShortInputError(len(con), 3)  # 关键字抛出自定义异常类\n",
    "    except ShortInputError as result:  # 捕获异常，存入对象result\n",
    "        print(result)  # __str__异常信息\n",
    "    else:  # 没有抛出异常，自然接受不到异常\n",
    "        print('密码输入已完成')\n",
    "\n",
    "\n",
    "main()"
   ]
  }
 ],
 "metadata": {
  "kernelspec": {
   "display_name": "Python 3 (ipykernel)",
   "language": "python",
   "name": "python3"
  },
  "language_info": {
   "codemirror_mode": {
    "name": "ipython",
    "version": 3
   },
   "file_extension": ".py",
   "mimetype": "text/x-python",
   "name": "python",
   "nbconvert_exporter": "python",
   "pygments_lexer": "ipython3",
   "version": "3.10.2"
  }
 },
 "nbformat": 4,
 "nbformat_minor": 5
}
