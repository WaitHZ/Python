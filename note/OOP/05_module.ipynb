{
 "cells": [
  {
   "cell_type": "markdown",
   "id": "5c2ec0d7-e52f-4d19-8d27-002dd5ea5731",
   "metadata": {},
   "source": [
    "# 模块和包\n",
    "\n",
    "## 一、模块\n",
    "\n",
    "Python模块是一个Python文件，以.py结尾，包含了了对象定义和Python语句。能够定义函数、定义类和变量，也可以包含可执行的代码。\n",
    "\n",
    "### 1.导入模块"
   ]
  },
  {
   "cell_type": "code",
   "execution_count": 7,
   "id": "120c5d2e-dc3f-430b-b3d7-bdf345a836ae",
   "metadata": {},
   "outputs": [
    {
     "data": {
      "text/plain": [
       "3.0"
      ]
     },
     "execution_count": 7,
     "metadata": {},
     "output_type": "execute_result"
    }
   ],
   "source": [
    "import numpy\n",
    "import random, math  # 规范不推荐\n",
    "\n",
    "math.pi  # 模块中的变量\n",
    "math.sqrt(9)"
   ]
  },
  {
   "cell_type": "code",
   "execution_count": 10,
   "id": "f3b36a4b-b22b-4214-91bb-9f1b0bdcabe5",
   "metadata": {},
   "outputs": [
    {
     "data": {
      "text/plain": [
       "1.7724538509055159"
      ]
     },
     "execution_count": 10,
     "metadata": {},
     "output_type": "execute_result"
    }
   ],
   "source": [
    "from math import sqrt, pi\n",
    "\n",
    "sqrt(pi)  # 使用模块中的变量和函数就不需要再输入模块名"
   ]
  },
  {
   "cell_type": "code",
   "execution_count": 12,
   "id": "e3918fde-f9c8-4817-af57-4bc79bd7d73c",
   "metadata": {},
   "outputs": [
    {
     "data": {
      "text/plain": [
       "-1.0"
      ]
     },
     "execution_count": 12,
     "metadata": {},
     "output_type": "execute_result"
    }
   ],
   "source": [
    "from math import *  # 导入模块中的所有代码\n",
    "\n",
    "cos(pi)"
   ]
  },
  {
   "cell_type": "code",
   "execution_count": 15,
   "id": "58a94c78-23f1-4f59-8d2f-bb05606dc655",
   "metadata": {},
   "outputs": [
    {
     "data": {
      "text/plain": [
       "3.141592653589793"
      ]
     },
     "execution_count": 15,
     "metadata": {},
     "output_type": "execute_result"
    }
   ],
   "source": [
    "# as定义别名\n",
    "# 除了模块可以定义别名，具体功能也可以定义别名\n",
    "import numpy as np  # 使用的时候必须使用别名\n",
    "from math import pi as P  # 重命名某个模块中的具体别名\n",
    "\n",
    "P"
   ]
  },
  {
   "cell_type": "markdown",
   "id": "0183bc72-c15c-434a-a6a5-4acc3e5c8e54",
   "metadata": {},
   "source": [
    "### 2.模块制作\n",
    "\n",
    "python文件名必须满足标识符命名规则，因为这就是导入的模块名。"
   ]
  },
  {
   "cell_type": "code",
   "execution_count": 19,
   "id": "3d355076-0e45-4f67-86de-ac014ac24802",
   "metadata": {},
   "outputs": [
    {
     "name": "stdout",
     "output_type": "stream",
     "text": [
      "4\n"
     ]
    }
   ],
   "source": [
    "def test(a, b):\n",
    "    return a + b\n",
    "\n",
    "\n",
    "# 在模块内部添加测试代码\n",
    "# 注意对于测试代码条件判断必不可少\n",
    "if __name__ == '__main__':\n",
    "    print(test(1, 3))"
   ]
  },
  {
   "cell_type": "code",
   "execution_count": null,
   "id": "455b912d-bc22-49c9-8f80-51e3dd26dbc8",
   "metadata": {},
   "outputs": [],
   "source": [
    "import my_module1 as mm\n",
    "\n",
    "if __name__ == \"__main__\":  # 运行的文件反而有点多余\n",
    "    print(mm.test(1, 2))"
   ]
  },
  {
   "cell_type": "markdown",
   "id": "7d52e5db-c615-4b99-ae90-098c88cc8e42",
   "metadata": {},
   "source": [
    "这个时候就体现出\\_\\_name\\_\\_的重要性，模块内部会存在测试代码。\n",
    "\n",
    "如果是python解释的文件，名字就是\"\\_\\_main__\"，否则就是文件名"
   ]
  },
  {
   "cell_type": "markdown",
   "id": "0fb3f2fc-1993-4e82-8e48-cfe36898afe9",
   "metadata": {},
   "source": [
    "### 3.模块定位顺序\n",
    "\n",
    "1.当前目录\n",
    "\n",
    "2.搜索PYTHONPATH下的每个目录（安装时确定的默认路径）\n",
    "\n",
    "3.如果都找不到，Python会查看默认路径，UNIX中为/usr/local/lib/python\n",
    "\n",
    "因此需要注意：\n",
    "\n",
    "1.自己的文件名不要和已有的模块名同名\n",
    "\n",
    "2.如果使用from 模块名 import 功能的时候，如果功能名字重复，调用到的是最后定义和导入的功能。"
   ]
  },
  {
   "cell_type": "code",
   "execution_count": null,
   "id": "a1c69fae-bb6e-495c-bf7c-66bc23e00723",
   "metadata": {},
   "outputs": [],
   "source": [
    "import random\n",
    "\n",
    "print(random.randint(2, 5))  # AttributeError: module 'random' has no attribute 'randint'"
   ]
  },
  {
   "cell_type": "markdown",
   "id": "c7eb85f3-0362-4005-9f73-80785054479f",
   "metadata": {},
   "source": [
    "自己的目录下有random.py"
   ]
  },
  {
   "cell_type": "code",
   "execution_count": null,
   "id": "0404ea60-03e7-4720-b3d3-5dc2ab85dc4c",
   "metadata": {},
   "outputs": [],
   "source": [
    "from time import sleep\n",
    "\n",
    "\n",
    "def sleep(a):\n",
    "    print(\"我是自定义的\")\n",
    "\n",
    "\n",
    "sleep(2)  # 我是自定义的"
   ]
  },
  {
   "cell_type": "markdown",
   "id": "10d757c0-421c-4afa-89ea-22d11883f957",
   "metadata": {},
   "source": [
    "调用到的是后写的同名功能，如果定义函数在前，结果就完全不同了。\n",
    "\n",
    "### 拓展：名字重复的严重性\n",
    "\n",
    "使用import 模块名 导入就不需要担心函数重名。"
   ]
  },
  {
   "cell_type": "code",
   "execution_count": 21,
   "id": "cd402959-a447-48e2-9af1-4b04d3c3bc3e",
   "metadata": {},
   "outputs": [
    {
     "name": "stdout",
     "output_type": "stream",
     "text": [
      "<module 'time' (built-in)>\n"
     ]
    }
   ],
   "source": [
    "import time\n",
    "\n",
    "print(time)"
   ]
  },
  {
   "cell_type": "code",
   "execution_count": 23,
   "id": "f97f5680-c11b-472a-9f64-79df9e9d7b9b",
   "metadata": {},
   "outputs": [
    {
     "name": "stdout",
     "output_type": "stream",
     "text": [
      "1\n"
     ]
    }
   ],
   "source": [
    "time = 1\n",
    "print(time)"
   ]
  },
  {
   "cell_type": "markdown",
   "id": "db8f9755-e348-4506-a66d-05f074c8569e",
   "metadata": {},
   "source": [
    "变量也可以覆盖模块名，改变“引入”，模块名就不能再使用。\n",
    "\n",
    "正是因为Python的引用特性，所以尽量避免重名。"
   ]
  },
  {
   "cell_type": "markdown",
   "id": "85c2e4a5-70f3-47c1-84ce-2e15821e04b1",
   "metadata": {},
   "source": [
    "### 4.\\_\\_all__列表\n",
    "\n",
    "模块中的一个变量，数据类型为变量。\n",
    "\n",
    "主要是针对在使用\n",
    "\n",
    "```py\n",
    "from xxx import *\n",
    "```\n",
    "\n",
    "只能导入\\_\\_all__列表中的元素。"
   ]
  },
  {
   "cell_type": "code",
   "execution_count": null,
   "id": "371b9f84-5ca4-42fa-b3af-2292361bbda4",
   "metadata": {},
   "outputs": [],
   "source": [
    "__all__ = ['test1']\n",
    "\n",
    "def test1(a, b):\n",
    "    return a + b\n",
    "\n",
    "def test2(a, b):\n",
    "    return a - b\n",
    "\n",
    "\n",
    "# 在模块内部添加测试代码\n",
    "if __name__ == '__main__':\n",
    "    print(test1(1, 3))"
   ]
  },
  {
   "cell_type": "code",
   "execution_count": null,
   "id": "c1903182-745e-4568-bc1f-93b73f9d6d3a",
   "metadata": {},
   "outputs": [],
   "source": [
    "from my_module1 import *\n",
    "\n",
    "test1(2, 4)\n",
    "test2(3, 5)  # 报错"
   ]
  },
  {
   "cell_type": "markdown",
   "id": "32eccecb-ab6d-4caf-a58d-b137fab67acc",
   "metadata": {},
   "source": [
    "但不会限制其他模块的导入方式。"
   ]
  },
  {
   "cell_type": "markdown",
   "id": "5f2ff306-d4a6-4ea4-b674-e6aa5e3d3af0",
   "metadata": {},
   "source": [
    "## 二、包\n",
    "\n",
    "将有联系的模块组织在一起，放到同一个文件夹下，并且在这个文件夹下创建一个名字是\\_\\_init__.py的文件，这个文件夹就称为包。"
   ]
  },
  {
   "cell_type": "code",
   "execution_count": null,
   "id": "664902a1-9219-48e6-a0eb-0e0938e9cba0",
   "metadata": {},
   "outputs": [],
   "source": [
    "import mypackage.my_module1 as mod1\n",
    "import mypackage.my_module2 as mod2  # 包的导入方式\n",
    "\n",
    "mod1.info_print()\n",
    "\n",
    "mod2.info_print()"
   ]
  },
  {
   "cell_type": "markdown",
   "id": "d4670362-757f-43bf-89a8-174dea0c074c",
   "metadata": {},
   "source": [
    "导入包也有类似于*的操作"
   ]
  },
  {
   "cell_type": "code",
   "execution_count": null,
   "id": "adb04e86-444e-432e-9a78-233aec39190f",
   "metadata": {},
   "outputs": [],
   "source": [
    "from mypackage import *\n",
    "\n",
    "my_module1.info_print()"
   ]
  },
  {
   "cell_type": "code",
   "execution_count": null,
   "id": "119562c0-175d-411a-8c23-913ff18171dd",
   "metadata": {},
   "outputs": [],
   "source": [
    "# 使用这种方式必须要设置__init__.py中的all列表\n",
    "__all__ = ['my_module1']"
   ]
  },
  {
   "cell_type": "markdown",
   "id": "fc3c2fcc-9c0b-4142-bc06-c5d2b1d4ae70",
   "metadata": {},
   "source": [
    "和模块的\\_\\_all__可选择不同，如果使用from 包名 import * 必须编写\\_\\_all__列表"
   ]
  }
 ],
 "metadata": {
  "kernelspec": {
   "display_name": "Python 3 (ipykernel)",
   "language": "python",
   "name": "python3"
  },
  "language_info": {
   "codemirror_mode": {
    "name": "ipython",
    "version": 3
   },
   "file_extension": ".py",
   "mimetype": "text/x-python",
   "name": "python",
   "nbconvert_exporter": "python",
   "pygments_lexer": "ipython3",
   "version": "3.10.2"
  }
 },
 "nbformat": 4,
 "nbformat_minor": 5
}
