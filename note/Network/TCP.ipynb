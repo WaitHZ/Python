{
 "cells": [
  {
   "cell_type": "markdown",
   "id": "9964b77b-b13f-43a7-bea2-53c53a7a9158",
   "metadata": {},
   "source": [
    "# 网络编程——TCP\n",
    "\n",
    "## 一、IP地址\n",
    "\n",
    "标识网络中一个设备的地址，即在网络中找到某个设备需要的地址。\n",
    "\n",
    "表现形式有两种：\n",
    "\n",
    "IPV4（目前使用，不够用），IPV6未来使用的ip地址。\n",
    "\n",
    "IPV4的样式是点分隔十进制数据，IPV6则是冒号分割十六进制数据。（若两个冒号之间没有数字，表示四个0）"
   ]
  },
  {
   "cell_type": "markdown",
   "id": "ac64cba8-a51c-4d35-8188-9de097f0c7c9",
   "metadata": {},
   "source": [
    "```py\n",
    "import os\n",
    "\n",
    "os.system('ipconfig')\n",
    "```"
   ]
  },
  {
   "cell_type": "markdown",
   "id": "1ec83d0c-bd3d-452d-b001-543f2fed8d75",
   "metadata": {},
   "source": [
    "ip地址的作用就是区分网络中不同的设备，因此不能重复。"
   ]
  },
  {
   "cell_type": "markdown",
   "id": "c1ac19a0-e253-470d-82ed-f97170eae8be",
   "metadata": {},
   "source": [
    "查看IP地址的方法：\n",
    "\n",
    "windows ipconfig\n",
    "\n",
    "linux、macOS ifconfig\n",
    "\n",
    "如在linux下查看得到的结果为：\n",
    "\n",
    "```\n",
    "eth0: flags=4163<UP,BROADCAST,RUNNING,MULTICAST>  mtu 1500\n",
    "        inet 10.0.4.15  netmask 255.255.252.0  broadcast 10.0.7.255\n",
    "        inet6 fe80::5054:ff:feb5:2da4  prefixlen 64  scopeid 0x20<link>\n",
    "        ether 52:54:00:b5:2d:a4  txqueuelen 1000  (Ethernet)\n",
    "        RX packets 8320291  bytes 3197857882 (3.1 GB)\n",
    "        RX errors 0  dropped 0  overruns 0  frame 0\n",
    "        TX packets 7124521  bytes 1200077370 (1.2 GB)\n",
    "        TX errors 0  dropped 0 overruns 0  carrier 0  collisions 0\n",
    "\n",
    "lo: flags=73<UP,LOOPBACK,RUNNING>  mtu 65536\n",
    "        inet 127.0.0.1  netmask 255.0.0.0\n",
    "        inet6 ::1  prefixlen 128  scopeid 0x10<host>\n",
    "        loop  txqueuelen 1000  (Local Loopback)\n",
    "        RX packets 547519  bytes 565095840 (565.0 MB)\n",
    "        RX errors 0  dropped 0  overruns 0  frame 0\n",
    "        TX packets 547519  bytes 565095840 (565.0 MB)\n",
    "        TX errors 0  dropped 0 overruns 0  carrier 0  collisions 0\n",
    "```\n",
    "\n",
    "下方的127.0.0.1称作本地回环地址（自己与自己通信）。\n",
    "\n",
    "域名localhost就是IP地址的别名，如百度的ip地址是：\n",
    "\n",
    "180.101.49.14\n",
    "\n",
    "ping命令的使用，如ping百度可以检查是不是联通外网；也可以尝试ping局域网内的；也可以通过ping 127.0.0.1检查物理网卡是否正常。"
   ]
  },
  {
   "cell_type": "markdown",
   "id": "9f6ed063-f0ac-4810-861c-0fd7f2b8362a",
   "metadata": {},
   "source": [
    "## 二、端口与端口号\n",
    "\n",
    "每运行一个网络应用程序，都会有一个端口，想要给对应的程序发送数据，找到对应的端口即可。\n",
    "\n",
    "端口就是传输数据的一个通道，是数据传输的必经之路。相应的每一个端口都会有一个端口号，只要找到端口号即可。\n",
    "\n",
    "通过ip地址找到设备，通过端口号找到对应端口，并将数据进行准确传输。\n",
    "\n",
    "**共有256²个端口**。\n",
    "\n",
    "可以将端口号分为两类：\n",
    "\n",
    "知名端口号，如21固定为FTP，25分给SMTP，80分给HTTP，范围是0-1023.\n",
    "\n",
    "动态端口号，程序员开发网络应用程序使用的端口号，从1024-65535，若不加以制定，操作系统会随机分配。\n",
    "\n",
    "运行一个程序就会右默认的端口号，程序退出，端口号也会被释放。"
   ]
  },
  {
   "cell_type": "markdown",
   "id": "8a543a4d-6c24-41d5-aa4d-d1cc26acb797",
   "metadata": {},
   "source": [
    "## 三、TCP的介绍\n",
    "\n",
    "已经可以通过ip地址和端口号找到对应设备的应用程序，但数据不能随意发送，发送之前需要选定一个协议，保证数据传输按照指定的规则。\n",
    "\n",
    "TCP：Transimissin Control Protocol传输控制协议，面向连接的（先建立连接）、可靠的、基于字节流的（二进制）传输层通信协议。\n",
    "\n",
    "通信步骤：1.建立连接；2.传输数据；3.关闭连接。\n",
    "\n",
    "TCP可以保证数据的可靠性：\n",
    "\n",
    "1.TCP采用发送应答机制；2.超时重传（长时间没应答）；3.错误校验（接收到数据顺序改变会进行矫正）；4.流量控制和阻塞管理（不会导致对方电脑卡死，不适宜于广播，需要建立连接，UDP无需连接，只管发送，不考虑对方电脑是否卡死）；"
   ]
  },
  {
   "cell_type": "markdown",
   "id": "0d6b39e1-1f8b-44fd-a41c-59f6a9bf118d",
   "metadata": {},
   "source": [
    "## 四、socket\n",
    "\n",
    "基于之前的内容将数据进行发送。\n",
    "\n",
    "socket是进程之间进行网络通讯的工具，翻译为套接字，通过socket借助网络进行数据传输。\n",
    "\n",
    "只要与网络传输相关都使用了socket。"
   ]
  },
  {
   "cell_type": "markdown",
   "id": "efeace3d-dcf0-4079-89d2-87d524689df6",
   "metadata": {},
   "source": [
    "## 五、TCP网络应用程序开发\n",
    "\n",
    "程序可以分为：客户端程序开发和服务端程序开发。\n",
    "\n",
    "客户端开发流程介绍：\n",
    "\n",
    "TCP客户端需要socket指定TCP协议（而不是UDP协议），需要先建立连接（向服务端发送请求连接，服务端回复，客户端再回复服务端——“三次握手”），发送数据（二进制），接受数据，关闭套接字。\n",
    "\n",
    "服务端开发流程：\n",
    "\n",
    "准备套接字（接受数据，发送数据），为套接字绑定端口号，设置监听，等待接受客户端的连接请求，接收数据，发送数据，关闭套接字。"
   ]
  },
  {
   "cell_type": "markdown",
   "id": "eb184bda-f974-49f1-9372-7f9a8e536f21",
   "metadata": {},
   "source": [
    "## 六、客户端程序开发\n",
    "\n",
    "创建socket，socket类"
   ]
  },
  {
   "cell_type": "code",
   "execution_count": null,
   "id": "e2bbf2d1-1651-46d9-8871-37f1e40967d5",
   "metadata": {},
   "outputs": [],
   "source": [
    "import socket\n",
    "\n",
    "socket1 = socket.socket(family=, type=)"
   ]
  },
  {
   "cell_type": "markdown",
   "id": "866c6349-373f-4f34-a9d3-d781a8b89020",
   "metadata": {},
   "source": [
    "family代表IP地址类型，Type代表传输协议。\n",
    "\n",
    "对应的方法有：\n",
    "\n",
    "connect((host, port))\n",
    "\n",
    "send(data)\n",
    "\n",
    "recv(buffersize) buffersize表示每次接收到的数据长度"
   ]
  },
  {
   "cell_type": "code",
   "execution_count": null,
   "id": "ae0d1839-cf50-46ee-8df9-d4b92b0c10bd",
   "metadata": {},
   "outputs": [],
   "source": [
    "import socket\n",
    "\n",
    "\n",
    "if __name__ == '__main__':\n",
    "    # 创建套接字\n",
    "    socket1 = socket.socket(family=socket.AF_INET, type=socket.SOCK_STREAM)\n",
    "    # AF_INET表示IPv4，SOCK_STREAM表示TCP\n",
    "\n",
    "    # 和服务端建立连接\n",
    "    socket1.connect(('81.68.218.77', 9870))\n",
    "\n",
    "    # 向服务端发送数据\n",
    "    socket1.send('你好，我是客户端小白'.encode('utf-8'))  # 指定编码格式 gbk等\n",
    "\n",
    "    # 接受服务端的数据\n",
    "    print(str(socket1.recv(1024).decode('utf-8')))\n",
    "\n",
    "    # 关闭套接字\n",
    "    socket1.close()\n"
   ]
  },
  {
   "cell_type": "markdown",
   "id": "b6d2da82-da3c-4733-be7b-e6db44d502bb",
   "metadata": {},
   "source": [
    "## 七、服务端程序开发\n",
    "\n",
    "套接字的创建和客户端相同，常用的方法是：\n",
    "\n",
    "绑定bind((host, port)) host是ip地址，port是端口号，ip一般不指定表示哪个IP都可以\n",
    "\n",
    "listen(backing) 表示设置监听，backing参数表示最大等待建立的个数——单任务\n",
    "\n",
    "accecpt()等待用户端连接请求\n",
    "\n",
    "同样有send和recv"
   ]
  },
  {
   "cell_type": "code",
   "execution_count": null,
   "id": "3d9a96d0-3100-4ebe-a52d-993ec1737206",
   "metadata": {},
   "outputs": [],
   "source": [
    "import socket\n",
    "\n",
    "\n",
    "if __name__ == '__main__':\n",
    "    socket0 = socket.socket(socket.AF_INET, socket.SOCK_STREAM)\n",
    "\n",
    "    # 绑定端口号\n",
    "    socket0.bind(('', 9870))\n",
    "\n",
    "    # 设置监听\n",
    "    socket0.listen(128)\n",
    "\n",
    "    # 等待客户端\n",
    "    new_socket, ip_data = socket0.accept()\n",
    "    # 返回值是一个新的套接字和一个客户端的元组ip和端口号\n",
    "    # 第一个套接字只用于等待客户端的请求，之后的通信使用新的套接字\n",
    "\n",
    "    print(f'server_ip={ip_data[0]}, port={ip_data[1]}')\n",
    "\n",
    "    # 接受客户端数据\n",
    "    str0 = new_socket.recv(1024).decode('utf-8')\n",
    "    print(str0)\n",
    "\n",
    "    # 向客户端发送数据\n",
    "    new_socket.send(f'你好，{str0[2:]}'.encode('utf-8'))\n",
    "\n",
    "    # 关闭服务于客户端的套接字\n",
    "    new_socket.close()\n",
    "\n",
    "    # 关闭旧的套接字，不再提供服务\n",
    "    socket0.close()\n"
   ]
  },
  {
   "cell_type": "markdown",
   "id": "aeb2809c-0ab5-416d-824a-4dcadf169502",
   "metadata": {},
   "source": [
    "## 八、设置端口号复用\n",
    "\n",
    "当服务端与客户端建立连接后，在退出时，所使用的端口号并不会立即释放，而是需要等待1-2分钟。\n",
    "\n",
    "两种解决办法：1.设置新的端口号；2.（推荐）设置端口号复用。\n",
    "\n",
    "只要退出，对应的端口就立即被释放。\n",
    "\n",
    "需要在绑定端口号前添加代码：\n",
    "\n",
    "```py\n",
    "socket0.setsockopt(socket.SOL_SOCKET, socket.SO_REUSEADDR, True)\n",
    "```"
   ]
  },
  {
   "cell_type": "markdown",
   "id": "c30ffa97-89e1-4b67-b79a-8ece1333efe3",
   "metadata": {},
   "source": [
    "## 九、TCP网络应用程序注意点\n",
    "\n",
    "1.想要通信，必须客户端先与服务端建立连接\n",
    "\n",
    "2.客户端一般不绑定端口号，因为是主动发起连接的。\n",
    "\n",
    "3.TCP服务端必须绑定端口号。\n",
    "\n",
    "4.套接字一旦使用listen方法，就只能负责监听，不再负责通讯。也称作，被动套接字。\n",
    "\n",
    "5.客户端与服务端建立连接成功，服务端会返回新的套接字，用以消息通讯。\n",
    "\n",
    "6.关闭accept套接字，表示和相应的客户端已经通信完毕。\n",
    "\n",
    "7.关闭listen后的套接字（关闭套接字），其他客户端不能再建立连接，但已经建立连接的可以正常进行通讯。\n",
    "\n",
    "8.当客户端套接字调用close后，服务端的recv会解阻塞，返回数据长度为0.因此可以通过这个0的数据长度判断客户端是否下线。反之，相同，服务端先关闭套接字，客户端的recv也会解阻塞。"
   ]
  },
  {
   "cell_type": "markdown",
   "id": "435c75f7-dff3-4354-b0cf-eec6564f15df",
   "metadata": {},
   "source": [
    "## 案例-多任务TCP程序开发\n",
    "\n",
    "之前的程序只能服务于一个客户端。\n",
    "\n",
    "第一种服务于多个客户端的方式：依次排队进行服务。"
   ]
  },
  {
   "cell_type": "code",
   "execution_count": null,
   "id": "8efb3070-5182-459d-908b-bb33e20dc16f",
   "metadata": {},
   "outputs": [],
   "source": [
    "import socket\n",
    "import threading\n",
    "\n",
    "\n",
    "def communicate(new_socket_inner, ip_data_inner):\n",
    "    while True:\n",
    "        # 接受客户端数据\n",
    "        str0 = new_socket_inner.recv(1024).decode('utf-8')\n",
    "\n",
    "        if len(str0) > 0:\n",
    "            print(f'{ip_data_inner[0]}:{ip_data_inner[1]}')\n",
    "            print(str0)\n",
    "            # 向客户端发送数据\n",
    "            new_socket_inner.send(f'你好，{str0[2:]}'.encode('utf-8'))\n",
    "        else:\n",
    "            print('客户端已下线')\n",
    "            break\n",
    "\n",
    "    # 关闭服务于客户端的套接字\n",
    "    new_socket_inner.close()\n",
    "\n",
    "\n",
    "if __name__ == '__main__':\n",
    "    socket0 = socket.socket(socket.AF_INET, socket.SOCK_STREAM)\n",
    "\n",
    "    # 设置端口复用，服务端退出，端口立即释放\n",
    "    socket0.setsockopt(socket.SOL_SOCKET, socket.SO_REUSEADDR, True)\n",
    "    # socket.SOL_SOCKET 当前套接字\n",
    "    # socket.SO_REUSEADDR 使用端口号复用\n",
    "    # True 使用\n",
    "\n",
    "    # 绑定端口号\n",
    "    socket0.bind(('', 9870))\n",
    "\n",
    "    # 设置监听\n",
    "    socket0.listen(128)\n",
    "\n",
    "    while True:\n",
    "        # 等待客户端\n",
    "        new_socket, ip_data = socket0.accept()\n",
    "        # 返回值是一个新的套接字和一个客户端的元组ip和端口号\n",
    "        # 第一个套接字只用于等待客户端的请求，之后的通信使用新的套接字\n",
    "\n",
    "        # 当客户端和服务端建立连接成功，创建新的线程\n",
    "        sub_thread = threading.Thread(target=communicate, args=(new_socket, ip_data), daemon=True)\n",
    "\n",
    "        sub_thread.start()\n",
    "\n",
    "    # 关闭旧的套接字，不再提供服务\n",
    "    socket0.close()  # 服务端的程序需要一直执行\n"
   ]
  },
  {
   "cell_type": "markdown",
   "id": "fde22f8b-3532-46e5-af7f-8d62216b0c83",
   "metadata": {},
   "source": [
    "## 十、socket send和recv原理剖析\n",
    "\n",
    "当创建一个TCP socket对象就会有一个发送缓冲区和接收缓冲区，实质就是内存中的一段空间。\n",
    "\n",
    "send原理：\n",
    "\n",
    "要想发送数据必须通过网卡，二应用程序无法直接通过网卡发送数据，需要调用操作系统的接口。应用程序只负责将数据写到发送缓冲区，再由操作系统控制网卡对数据进行发送。\n",
    "\n",
    "recv原理：\n",
    "\n",
    "应用软件无法直接通过网卡数据，需要调用操作系统的端口，由操作系统通过网卡接收数据，将接收到的数据写入缓冲区，应用程序从缓冲区获得数据。"
   ]
  }
 ],
 "metadata": {
  "kernelspec": {
   "display_name": "Python 3 (ipykernel)",
   "language": "python",
   "name": "python3"
  },
  "language_info": {
   "codemirror_mode": {
    "name": "ipython",
    "version": 3
   },
   "file_extension": ".py",
   "mimetype": "text/x-python",
   "name": "python",
   "nbconvert_exporter": "python",
   "pygments_lexer": "ipython3",
   "version": "3.9.12"
  }
 },
 "nbformat": 4,
 "nbformat_minor": 5
}
