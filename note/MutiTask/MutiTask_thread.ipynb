{
 "cells": [
  {
   "cell_type": "markdown",
   "id": "c7c6e895-cf5e-47ef-9de9-fa984ec0607c",
   "metadata": {},
   "source": [
    "# 多任务编程——线程\n",
    "\n",
    "补充：\n",
    "\n",
    "\\_\\_init\\_\\_.py的作用除了提供\\_\\_all\\_\\_列表，还可以引入对应模块的一些常用函数，这样在主模块中获取相应的类或函数就可以使用包打点的方法，而不再需要包.模块.对象的方式。\n",
    "\n",
    "## 一、线程\n",
    "\n",
    "Python中另一种实现多任务的方式。\n",
    "\n",
    "进程执行代码的一个分支，每个线程执行代码都是经过CPU的调度，线程是CPU调度的基本单位，每个进程至少有一个线程（主线程）。\n",
    "\n",
    "进程只负责向操作系统索要资源。\n",
    "\n",
    "同一进程下的线程全局变量是可以共享的。\n",
    "\n",
    "## 二、多线程的使用"
   ]
  },
  {
   "cell_type": "code",
   "execution_count": null,
   "id": "a6673581-46a4-4175-a33d-cfb65ef1855f",
   "metadata": {},
   "outputs": [],
   "source": [
    "from threading import *\n",
    "\n",
    "thread1 = Thread(group=None, target=, args=, kwargs=, name=)"
   ]
  },
  {
   "cell_type": "markdown",
   "id": "e7f98f7d-0f11-4890-9a00-f3414bb8649b",
   "metadata": {},
   "source": [
    "启动同样也是start方法。"
   ]
  },
  {
   "cell_type": "code",
   "execution_count": null,
   "id": "8916826f-3caa-4bb9-9602-6f92e926e6d4",
   "metadata": {},
   "outputs": [],
   "source": [
    "from threading import *\n",
    "from time import sleep\n",
    "\n",
    "\n",
    "def dance():\n",
    "    for i in range(5):\n",
    "        print('跳舞中')\n",
    "        sleep(0.5)\n",
    "\n",
    "\n",
    "def sing():\n",
    "    for i in range(5):\n",
    "        print('唱歌中')\n",
    "        sleep(0.5)\n",
    "\n",
    "\n",
    "if __name__ == '__main__':\n",
    "    thread1 = Thread(target=dance)\n",
    "    thread2 = Thread(target=sing)\n",
    "\n",
    "    thread1.start()\n",
    "    thread2.start()\n"
   ]
  },
  {
   "cell_type": "markdown",
   "id": "003e8866-775e-42bf-9f39-caa1b9b23ce4",
   "metadata": {},
   "source": [
    "同样存在静态方法，获取当前线程对象：\n",
    "\n",
    "```py\n",
    "def dance():\n",
    "    for i in range(5):\n",
    "        print(threading.current_thread(), '跳舞中')\n",
    "        sleep(0.5)\n",
    "```\n",
    "\n",
    "进程中自动生成的是主线程，自己创建的则是子线程。"
   ]
  },
  {
   "cell_type": "markdown",
   "id": "17a45f0b-928b-488d-a588-a486e18f0742",
   "metadata": {},
   "source": [
    "## 三、线程执行带有参数的任务\n",
    "\n",
    "位置参数以元组，关键字参数以字典。"
   ]
  },
  {
   "cell_type": "code",
   "execution_count": null,
   "id": "d4c6f9ea-8f1a-4bcb-b465-4bfe7a3463eb",
   "metadata": {},
   "outputs": [],
   "source": [
    "from threading import *\n",
    "\n",
    "\n",
    "class Dog(object):\n",
    "    def __init__(self, name, age):\n",
    "        self.name = name\n",
    "        self.age = age\n",
    "\n",
    "    def print_info(self):\n",
    "        print(f'name={self.name}, age={self.age}')\n",
    "\n",
    "\n",
    "if __name__ == '__main__':\n",
    "    lele = Dog('lele', 9)\n",
    "\n",
    "    sub_thread = Thread(target=Dog.print_info, args=(lele,))\n",
    "\n",
    "    sub_thread.start()\n"
   ]
  },
  {
   "cell_type": "markdown",
   "id": "3b547519-d706-464b-bb80-3565f96937e4",
   "metadata": {},
   "source": [
    "**传入函数或方法对象一定不能有小括号**"
   ]
  },
  {
   "cell_type": "markdown",
   "id": "7120d2ae-40f4-4b53-81eb-328c6be63ed2",
   "metadata": {},
   "source": [
    "## 四、线程注意点\n",
    "\n",
    "### 1.线程执行是无序的\n",
    "\n",
    "和进程的无序一样，具体哪个线程执行是由CPU调度决定的。\n",
    "\n",
    "**操作系统调度进程，CPU调度线程**\n",
    "\n",
    "### 2.主线程会等待所有子线程结束\n",
    "\n",
    "如果希望主线程结束时子线程也随之结束,可以设置守护主线程（线程中没有terminate）：\n",
    "\n",
    "```py\n",
    "from threading import *\n",
    "from time import sleep\n",
    "\n",
    "\n",
    "def task():\n",
    "    while True:\n",
    "        print('任务执行中')\n",
    "        sleep(0.3)\n",
    "\n",
    "\n",
    "if __name__ == '__main__':\n",
    "    sub_thread = Thread(target=task)\n",
    "    sub_thread.daemon = True\n",
    "    sub_thread.start()\n",
    "\n",
    "    print('over')\n",
    "```\n",
    "\n",
    "也可以直接在创建时加入守护主线程属性\n",
    "\n",
    "```py\n",
    "sub_thread = Thread(target=task, daemon=True)\n",
    "```\n",
    "\n",
    "### 3.同一进程下的多进程共享全局变量"
   ]
  },
  {
   "cell_type": "code",
   "execution_count": 1,
   "id": "3d5a5774-5b9d-42c6-baef-81ff2af77854",
   "metadata": {},
   "outputs": [
    {
     "name": "stdout",
     "output_type": "stream",
     "text": [
      "[0, 1, 2, 3, 4]\n"
     ]
    }
   ],
   "source": [
    "from threading import *\n",
    "from time import sleep\n",
    "\n",
    "\n",
    "g_list = []\n",
    "\n",
    "\n",
    "def add_data():\n",
    "    for i in range(5):\n",
    "        g_list.append(i)\n",
    "        sleep(2)\n",
    "\n",
    "\n",
    "def read_data():\n",
    "    print(g_list)\n",
    "\n",
    "\n",
    "if __name__ == '__main__':\n",
    "    thread1 = Thread(target=add_data)\n",
    "    thread2 = Thread(target=read_data)\n",
    "\n",
    "    thread1.start()\n",
    "    thread1.join()  # join就是让主线程等待这个子线程执行完任务\n",
    "\n",
    "    thread2.start()\n"
   ]
  },
  {
   "cell_type": "markdown",
   "id": "cfa3588d-1b68-46cd-b662-84aec8d9d28d",
   "metadata": {},
   "source": [
    "### 4，线程之间共享全局变量出现错误"
   ]
  },
  {
   "cell_type": "code",
   "execution_count": 3,
   "id": "2b1e71ec-43ec-4378-88ae-ba6e2433df3f",
   "metadata": {},
   "outputs": [
    {
     "name": "stdout",
     "output_type": "stream",
     "text": [
      "task1: num=12215913\n",
      "task2: num=12739777\n"
     ]
    }
   ],
   "source": [
    "from threading import *\n",
    "from time import sleep\n",
    "\n",
    "\n",
    "num = 0\n",
    "\n",
    "\n",
    "def add_func1():\n",
    "    global num\n",
    "\n",
    "    for i in range(10000000):\n",
    "        num += 1\n",
    "\n",
    "    print(f'task1: num={num}')\n",
    "\n",
    "\n",
    "def add_func2():\n",
    "    global num\n",
    "\n",
    "    for i in range(10000000):\n",
    "        num += 1\n",
    "\n",
    "    print(f'task2: num={num}')\n",
    "\n",
    "\n",
    "if __name__ == '__main__':\n",
    "    thread1 = Thread(target=add_func1)\n",
    "    thread2 = Thread(target=add_func2)\n",
    "\n",
    "    thread1.start()\n",
    "    thread2.start()\n",
    "\n"
   ]
  },
  {
   "cell_type": "markdown",
   "id": "6642741f-4a67-4723-b359-32c04505878d",
   "metadata": {},
   "source": [
    "得到的运行结果小于20000000，原因是在另一个线程没有将修改后的数据写回之后，就被线程读走。\n",
    "\n",
    "避免这个问题可以使用线程同步，保证数据的正确性：协同步调，按预定的先后次序进行运行。\n",
    "\n",
    "两种方式：\n",
    "\n",
    "1.线程等待——join\n",
    "\n",
    "2.互斥锁"
   ]
  },
  {
   "cell_type": "markdown",
   "id": "8003b177-6f6f-4922-a5b0-c7baee6a20a9",
   "metadata": {},
   "source": [
    "## 五、互斥锁\n",
    "\n",
    "对共享数据进行锁定，保证同一时刻只有一个线程对其进行操作。\n",
    "\n",
    "多个线程去争抢共享数据，抢到的线程先执行（上锁部分的代码），没有抢到的线程需要等待，等互斥锁释放后，其他线程再去争抢。"
   ]
  },
  {
   "cell_type": "code",
   "execution_count": 5,
   "id": "c5c53b0f-d6cf-4ba2-bff3-4ba9e42a7c1b",
   "metadata": {},
   "outputs": [
    {
     "name": "stdout",
     "output_type": "stream",
     "text": [
      "task1: num=10000000\n",
      "task2: num=20000000\n"
     ]
    }
   ],
   "source": [
    "from threading import *\n",
    "\n",
    "\n",
    "g_num = 0\n",
    "\n",
    "\n",
    "lock = Lock()  # 调用函数创建互斥锁，类似于一个全局变量\n",
    "\n",
    "\n",
    "def add_func1():\n",
    "    lock.acquire()  # 上锁\n",
    "\n",
    "    global g_num\n",
    "\n",
    "    for i in range(10000000):\n",
    "        g_num += 1\n",
    "\n",
    "    print(f'task1: num={g_num}')\n",
    "\n",
    "    lock.release()  # 用完之后及时释放\n",
    "\n",
    "\n",
    "def add_func2():\n",
    "    lock.acquire()\n",
    "\n",
    "    global g_num\n",
    "\n",
    "    for i in range(10000000):\n",
    "        g_num += 1\n",
    "\n",
    "    print(f'task2: num={g_num}')\n",
    "\n",
    "    lock.release()\n",
    "\n",
    "\n",
    "if __name__ == '__main__':\n",
    "    thread1 = Thread(target=add_func1)\n",
    "    thread2 = Thread(target=add_func2)\n",
    "\n",
    "    thread1.start()\n",
    "\n",
    "    thread2.start()\n",
    "\n"
   ]
  },
  {
   "cell_type": "markdown",
   "id": "836bf856-f426-42cf-a881-b932ba45b7ae",
   "metadata": {},
   "source": [
    "下面的代码原理上也可以保证运算结果的准确性，但明显感觉时间开销更大。"
   ]
  },
  {
   "cell_type": "code",
   "execution_count": 8,
   "id": "15a650f2-781c-4d7c-bdf8-52a4c63b8979",
   "metadata": {},
   "outputs": [
    {
     "name": "stdout",
     "output_type": "stream",
     "text": [
      "task2: num=19953653\n",
      "task1: num=20000000\n"
     ]
    }
   ],
   "source": [
    "from threading import *\n",
    "\n",
    "\n",
    "g_num = 0\n",
    "\n",
    "\n",
    "lock = Lock()  # 调用函数创建互斥锁，类似于一个全局变量\n",
    "\n",
    "\n",
    "def add_func1():\n",
    "    global g_num\n",
    "\n",
    "    for i in range(10000000):\n",
    "        lock.acquire()\n",
    "        g_num += 1\n",
    "        lock.release()\n",
    "\n",
    "    print(f'task1: num={g_num}')\n",
    "\n",
    "\n",
    "def add_func2():\n",
    "    global g_num\n",
    "\n",
    "    for i in range(10000000):\n",
    "        lock.acquire()\n",
    "        g_num += 1\n",
    "        lock.release()\n",
    "\n",
    "    print(f'task2: num={g_num}')\n",
    "\n",
    "    \n",
    "\n",
    "if __name__ == '__main__':\n",
    "    thread1 = Thread(target=add_func1)\n",
    "    thread2 = Thread(target=add_func2)\n",
    "\n",
    "    thread1.start()\n",
    "\n",
    "    thread2.start()\n"
   ]
  },
  {
   "cell_type": "markdown",
   "id": "119c310b-a5da-4a17-89ff-64ee21441fa8",
   "metadata": {},
   "source": [
    "注意：**线程执行完任务就会被销毁。**\n",
    "\n",
    "无论是线程同步的哪种方式，本质就是将多任务转化为单任务，来保证数据安全。\n",
    "\n",
    "如火车站售票，对于票数的准确性需要得到保证。\n",
    "\n",
    "还有一个注意点，只有上锁才会被制约，如果上面一个函数上锁了，另一个函数没有上锁，没有上锁的函数并不会去争抢、等待互斥锁，而是自顾自的执行。\n",
    "\n",
    "因此，**要上锁，都上锁**。"
   ]
  },
  {
   "cell_type": "markdown",
   "id": "bea2ad9f-c05c-47ae-84aa-0f16cc692cf5",
   "metadata": {},
   "source": [
    "## 六、死锁\n",
    "\n",
    "一直等待对方释放锁的情形。"
   ]
  },
  {
   "cell_type": "code",
   "execution_count": null,
   "id": "b4002bb4-466d-4a76-a7cf-f191b2d69d15",
   "metadata": {},
   "outputs": [],
   "source": [
    "from threading import *\n",
    "\n",
    "\n",
    "g_num = 0\n",
    "\n",
    "\n",
    "lock = Lock()  # 调用函数创建互斥锁，类似于一个全局变量\n",
    "\n",
    "\n",
    "def add_func1():\n",
    "    lock.acquire()  # 上锁\n",
    "\n",
    "    global g_num\n",
    "\n",
    "    for i in range(10000000):\n",
    "        g_num += 1\n",
    "\n",
    "    print(f'task1: num={g_num}')\n",
    "\n",
    "    # lock.release()  # 用完之后及时释放\n",
    "\n",
    "\n",
    "def add_func2():\n",
    "    lock.acquire()\n",
    "\n",
    "    global g_num\n",
    "\n",
    "    for i in range(10000000):\n",
    "        g_num += 1\n",
    "\n",
    "    print(f'task2: num={g_num}')\n",
    "\n",
    "    lock.release()\n",
    "\n",
    "\n",
    "if __name__ == '__main__':\n",
    "    thread1 = Thread(target=add_func1)\n",
    "    thread2 = Thread(target=add_func2)\n",
    "\n",
    "    thread1.start()\n",
    "\n",
    "    thread2.start()\n"
   ]
  },
  {
   "cell_type": "markdown",
   "id": "4e3fa918-26db-47af-9786-36ba2a53f112",
   "metadata": {},
   "source": [
    "及时释放互斥锁，避免其他线程无意义的等待。"
   ]
  },
  {
   "cell_type": "markdown",
   "id": "545d2419-e1c3-4b0d-9cf6-19c3495bdf50",
   "metadata": {},
   "source": [
    "## 七、进程与线程的对比\n",
    "\n",
    "### 1.关系对比\n",
    "\n",
    "线程依附于进程，进程创建就默认创建一个线程（主线程）。\n",
    "\n",
    "### 2.区别对别\n",
    "\n",
    "进程之间不共线全局变量（拷贝，完全独立）\n",
    "\n",
    "线程之间共享全局变量，但是要注意资源竞争问题，解决办法：等待或互斥锁。\n",
    "\n",
    "创建进程的资源开销大于线程（工作都是线程做的，CPU执行的进程中的线程）。\n",
    "\n",
    "进程是操作系统资源分配的基本单位，线程是CPU调度的基本单位。\n",
    "\n",
    "多进程开发比单进程多线程开发稳定性强（进程之间相互独立，单进程一旦挂掉，多任务的多功能就全部失效）。\n",
    "\n",
    "### 3.优缺点对比\n",
    "\n",
    "进程可以多核运行，但资源开销大。\n",
    "\n",
    "线程资源开销小，不能多核运行。\n",
    "\n",
    "\n",
    "计算密集型相关的一般使用多进程，逻辑密集型使用多线程。"
   ]
  }
 ],
 "metadata": {
  "kernelspec": {
   "display_name": "Python 3 (ipykernel)",
   "language": "python",
   "name": "python3"
  },
  "language_info": {
   "codemirror_mode": {
    "name": "ipython",
    "version": 3
   },
   "file_extension": ".py",
   "mimetype": "text/x-python",
   "name": "python",
   "nbconvert_exporter": "python",
   "pygments_lexer": "ipython3",
   "version": "3.9.12"
  }
 },
 "nbformat": 4,
 "nbformat_minor": 5
}
