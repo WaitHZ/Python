{
 "cells": [
  {
   "cell_type": "markdown",
   "id": "b8208231-e2b3-4dea-a96e-bea2dc3f3514",
   "metadata": {},
   "source": [
    "# 多任务编程——进程\n",
    "\n",
    "## 一、多任务介绍\n",
    "\n",
    "现有的知识下只能单任务的执行程序，多任务就是为了充分利用CPU资源，提高程序运行效率。\n",
    "\n",
    "如今的操作系统都是多任务的，如同时运行Powershell、Edge、Tim等\n",
    "\n",
    "### 并发\n",
    "\n",
    "一段时间交替执行任务。最早的CPU单核，执行多任务只能是让每个任务执行一小段时间（为每个任务分配时间线），多个任务交替执行。\n",
    "\n",
    "任务数＞计算机核数\n",
    "\n",
    "### 并行\n",
    "\n",
    "（多核CPU）真正的同时执行多个任务，同一时间内一起运行（与交替运行区分）。\n",
    "\n",
    "多核CPU才能让多个软件真正的一起运行。\n",
    "\n",
    "任务数$\\le$核数\n",
    "\n",
    "当任务数大于核数，又会为每个任务分配时间线，执行并发的多程序运行。\n",
    "\n",
    "## 二、进程\n",
    "\n",
    "进程：一个**正在运行**的程序或者软件。\n",
    "\n",
    "启动进程，操作系统要为进程分配对应的（内存）资源，真正运行程序（干活的实体）的是线程。\n",
    "\n",
    "注意：\n",
    "\n",
    "一个程序至少有一个一个进程，一个进程默认有一个线程（可以创建多个线程）。线程依附线程而存在，没有进程就没有线程。\n",
    "\n",
    "程序若创建多个进程，多个进程彼此独立的工作。\n",
    "\n",
    "**进程是系统分配资源的基本单位（操作系统分配资源就产生进程），进程本身不执行任务，只负责向操作系统索要资源，真正执行代码的是线程**\n",
    "\n",
    "## 三、多进程的使用\n",
    "\n",
    "```py\n",
    "import multiprocessing\n",
    "\n",
    "multiprocessing.Process(group[, target[, name[, args[, kwargs]]]])  # 进程类\n",
    "```\n",
    "\n",
    "group:指定进行组，目前只能使用None\n",
    "\n",
    "target：执行的任务名（重要，为进程指定任务：一个函数或一个方法）\n",
    "\n",
    "name：进程名字（默认，从1开始产生Process-1）\n",
    "\n",
    "args：元组方式传参\n",
    "\n",
    "kwargs：字典方式传参\n",
    "\n",
    "Process类的常用方法：\n",
    "\n",
    "start() 启动子进程实例\n",
    "\n",
    "join() 等待子进程结束\n",
    "\n",
    "terminate() 不管任务是否完成，立即终止子进程\n",
    "\n",
    "Process类的常用属性：\n",
    "\n",
    "name 获取进程名\n",
    "\n",
    "程序启动会产生主进程，可以在主进程中手动创建子进程。"
   ]
  },
  {
   "cell_type": "code",
   "execution_count": null,
   "id": "94436854-071c-410f-9c39-00d6c27917c1",
   "metadata": {},
   "outputs": [],
   "source": [
    "import multiprocessing\n",
    "import time\n",
    "\n",
    "\n",
    "def sing():\n",
    "    for i in range(3):\n",
    "        print(\"Sing a song!\")\n",
    "        time.sleep(1)\n",
    "\n",
    "\n",
    "def dance():\n",
    "    for i in range(3):\n",
    "        print(\"Dance\")\n",
    "        time.sleep(1)\n",
    "\n",
    "\n",
    "if __name__ == '__main__':  # 缺少会报错\n",
    "    process = multiprocessing.Process(target=sing)\n",
    "\n",
    "    process.start()  # 子进程\n",
    "\n",
    "    dance()  # 在主进程中执行\n",
    "# Dance\n",
    "# Sing a song!\n",
    "# Dance\n",
    "# Sing a song!\n",
    "# Dance\n",
    "# Sing a song!"
   ]
  },
  {
   "cell_type": "markdown",
   "id": "388e51e7-74d1-493f-bef1-e90451ce8824",
   "metadata": {},
   "source": [
    "进程之间的执行是无序的，取决于系统的调度。"
   ]
  },
  {
   "cell_type": "code",
   "execution_count": null,
   "id": "ad9ca18d-70b3-4c7a-84bb-c8a6a2371fae",
   "metadata": {},
   "outputs": [],
   "source": [
    "import multiprocessing\n",
    "import time\n",
    "\n",
    "\n",
    "def sing():\n",
    "    for i in range(3):\n",
    "        print(\"Sing a song!\")\n",
    "        time.sleep(1)\n",
    "\n",
    "\n",
    "def dance():\n",
    "    for i in range(3):\n",
    "        print(\"Dance\")\n",
    "        time.sleep(3)\n",
    "\n",
    "\n",
    "if __name__ == '__main__':  # 缺少会报错\n",
    "    process1 = multiprocessing.Process(target=sing)\n",
    "    process2 = multiprocessing.Process(target=dance)\n",
    "\n",
    "    process1.start()\n",
    "    process2.start()\n"
   ]
  },
  {
   "cell_type": "markdown",
   "id": "68dbb7ac-68d9-4928-a339-6d5ca1ec51e0",
   "metadata": {},
   "source": [
    "以上就没有在主进程中执行代码，而是创建了两个子进程。"
   ]
  },
  {
   "cell_type": "markdown",
   "id": "37206ac4-a82a-425a-ad4a-8da0c1d13eaa",
   "metadata": {},
   "source": [
    "## 四、获取进程编号\n",
    "\n",
    "获取进程编号的目的是验证主进程和子进程的关系，可以得知子进程是由哪个主进程创建出来的。\n",
    "\n",
    "两种操作：\n",
    "\n",
    "获取当前进程编号  os.getpid() -> int\n",
    "\n",
    "获取当前进程父进程编号  os.getppid() -> int\n",
    "\n",
    "mutiprocessing.current_process()可以获得当前进程。"
   ]
  },
  {
   "cell_type": "code",
   "execution_count": null,
   "id": "6b6a4cdc-c401-4bb9-bc51-231c59fb43e8",
   "metadata": {},
   "outputs": [],
   "source": [
    "import multiprocessing\n",
    "import time\n",
    "import os\n",
    "\n",
    "\n",
    "def sing():\n",
    "    print(\"父进程编号为\", os.getppid())\n",
    "    print(\"进程编号为\", os.getpid())\n",
    "    for i in range(3):\n",
    "        print(\"Sing a song!\")\n",
    "        time.sleep(1)\n",
    "\n",
    "\n",
    "def dance():\n",
    "    for i in range(3):\n",
    "        print(\"Dance\")\n",
    "        time.sleep(3)\n",
    "\n",
    "\n",
    "if __name__ == '__main__':  # 缺少会报错\n",
    "    print(multiprocessing.current_process())  # <_MainProcess name='MainProcess' parent=None started>\n",
    "    # MainProcess代表主进程\n",
    "    \n",
    "    process1 = multiprocessing.Process(target=sing)  # <Process name='Process-1' parent=12036 initial>\n",
    "    print(process1)\n",
    "    process2 = multiprocessing.Process(target=dance, name=\"dance\") # <Process name='dance' parent=12036 initial>\n",
    "    print(process2)  # 显示成了设置的名字"
   ]
  },
  {
   "cell_type": "code",
   "execution_count": null,
   "id": "a5bcc4d6-e8b5-43f4-b4d8-064c26cd98fa",
   "metadata": {},
   "outputs": [],
   "source": [
    "import multiprocessing\n",
    "import time\n",
    "import os\n",
    "\n",
    "\n",
    "def sing():\n",
    "    print(\"进程编号为\", os.getpid())\n",
    "    print(\"父进程编号\", os.getppid())\n",
    "    for i in range(3):\n",
    "        print(\"Sing a song!\")\n",
    "        time.sleep(1)\n",
    "\n",
    "\n",
    "def dance():\n",
    "    print(\"进程编号为\", os.getpid())\n",
    "    print(\"父进程编号\", os.getppid())\n",
    "    for i in range(3):\n",
    "        print(\"Dance\")\n",
    "        time.sleep(3)\n",
    "\n",
    "\n",
    "if __name__ == '__main__':  # 缺少会报错\n",
    "    print(multiprocessing.current_process())  # <_MainProcess name='MainProcess' parent=None started>\n",
    "    print(\"主进程编号\", os.getpid())\n",
    "    process1 = multiprocessing.Process(target=sing)  # <Process name='Process-1' parent=12036 initial>\n",
    "    print(process1)\n",
    "    process2 = multiprocessing.Process(target=dance, name=\"dance\") # <Process name='dance' parent=12036 initial>\n",
    "    print(process2)\n",
    "\n",
    "    process1.start()\n",
    "    process2.start()"
   ]
  },
  {
   "cell_type": "markdown",
   "id": "6362d26a-6b20-4ab3-bddd-a6374f3e2660",
   "metadata": {},
   "source": [
    "类似linux **kill**命令，使用os.kill()可以在程序中杀死进程。"
   ]
  },
  {
   "cell_type": "code",
   "execution_count": null,
   "id": "3a16b615-7e55-4239-af32-2c55289d5c39",
   "metadata": {},
   "outputs": [],
   "source": [
    "def sing():\n",
    "    print(\"进程编号为\", os.getpid())\n",
    "    print(\"父进程编号\", os.getppid())\n",
    "    for i in range(3):\n",
    "        print(\"Sing a song!\")\n",
    "        os.kill(os.getpid(), 9)\n",
    "        time.sleep(1)"
   ]
  },
  {
   "cell_type": "markdown",
   "id": "aafe9989-caa7-4779-bddb-a3f4b11174e0",
   "metadata": {},
   "source": [
    "只会输出一次Sing a song，参数9的含义表示强制杀死这个进程。"
   ]
  },
  {
   "cell_type": "markdown",
   "id": "01191c3c-5d56-4a4d-801c-ce0b487c6dfc",
   "metadata": {},
   "source": [
    "## 五、进程执行带参数的任务\n",
    "\n",
    "传参args关键字以元组形式传参，kwargs以字典形式传参。"
   ]
  },
  {
   "cell_type": "code",
   "execution_count": null,
   "id": "91072446-cbd6-488e-ae8e-60ec081a4766",
   "metadata": {},
   "outputs": [],
   "source": [
    "import multiprocessing\n",
    "\n",
    "\n",
    "def show_info(name, age, gender):\n",
    "    print(f'name={name}, age={age}, gender={gender}')\n",
    "\n",
    "\n",
    "if __name__ == '__main__':\n",
    "    # 执行的是函数和方法，本质就都是函数\n",
    "    process1 = multiprocessing.Process(target=show_info, args=('wuhaoze', 20, 'male'))\n",
    "    process1.start()\n",
    "\n",
    "    process2 = multiprocessing.Process(target=show_info, kwargs={'age': 20, 'name': 'wuhaoze', 'gender': 'male'})\n",
    "    process2.start()\n",
    "\n",
    "    process3 = multiprocessing.Process(target=show_info, args=('wuhaoze',), kwargs={'age': 20, 'gender': 'male'})\n",
    "    process3.start()\n",
    "    # 类似于函数参数传递，前面的参数必须按照位置，后面的使用关键字\n"
   ]
  },
  {
   "cell_type": "markdown",
   "id": "fa3f3ded-bf44-45e9-a8b3-777d720f0734",
   "metadata": {},
   "source": [
    "创建进程指定target不能加括号，否则就是直接调用函数。"
   ]
  },
  {
   "cell_type": "markdown",
   "id": "f4d6acfb-2487-40bb-9a74-74caf7581c24",
   "metadata": {},
   "source": [
    "## 六、多进程需要注意的特性\n",
    "\n",
    "多进程任务的注意点：\n",
    "\n",
    "1.进程之间不共享全局变量\n",
    "\n",
    "2.主进程会等待所有子进程结束再结束\n",
    "\n",
    "### 1.进程之间不共享全局变量"
   ]
  },
  {
   "cell_type": "code",
   "execution_count": 1,
   "id": "56b76a03-02c4-4c45-8658-3d559a28ca1a",
   "metadata": {},
   "outputs": [
    {
     "name": "stdout",
     "output_type": "stream",
     "text": [
      "[]\n"
     ]
    }
   ],
   "source": [
    "import multiprocessing\n",
    "from time import sleep\n",
    "\n",
    "\n",
    "g_list = []\n",
    "\n",
    "\n",
    "def add_data():\n",
    "    for i in range(3):\n",
    "        g_list.append(i)  # 可变类型的修改不需要global关键字声明\n",
    "        print(g_list)\n",
    "        sleep(0.6)\n",
    "\n",
    "\n",
    "def read_data():\n",
    "    print(g_list)  # []\n",
    "\n",
    "\n",
    "if __name__ == '__main__':\n",
    "    process1 = multiprocessing.Process(target=add_data)\n",
    "    process1.start()\n",
    "    # 当前进程（主进程）等待process1执行完，再向下执行\n",
    "    process1.join()\n",
    "\n",
    "    process2 = multiprocessing.Process(target=read_data)\n",
    "    process2.start()\n",
    "\n",
    "    print(g_list)  # []\n"
   ]
  },
  {
   "cell_type": "markdown",
   "id": "ce6e8d61-c91f-4219-9182-8a5ab8e86f4b",
   "metadata": {},
   "source": [
    "创建子进程其实是对主进程资源的拷贝（主进程有什么代码，子进程就有什么代码），子进程就是主进程的一个副本。副本的修改不会影响其他进程。"
   ]
  },
  {
   "cell_type": "code",
   "execution_count": null,
   "id": "b615e7a4-9474-49a4-a785-4512337715eb",
   "metadata": {},
   "outputs": [],
   "source": [
    "import multiprocessing\n",
    "from time import sleep\n",
    "\n",
    "\n",
    "g_list = [0]\n",
    "\n",
    "\n",
    "def add_data():\n",
    "    for i in range(3):\n",
    "        g_list.append(i)  # 可变类型的修改不需要global关键字声明\n",
    "        print(g_list)\n",
    "        sleep(0.6)\n",
    "\n",
    "\n",
    "def read_data():\n",
    "    print(g_list)  # []\n",
    "\n",
    "\n",
    "if __name__ == '__main__':  # Unix中代码不会进行拷贝执行，windows会，所以必须对名称做条件判定\n",
    "    process1 = multiprocessing.Process(target=add_data)\n",
    "    process1.start()\n",
    "    # 当前进程（主进程）等待process1执行完，再向下执行\n",
    "    process1.join()\n",
    "\n",
    "    g_list.append(100)\n",
    "\n",
    "    process2 = multiprocessing.Process(target=read_data)\n",
    "    process2.start()\n",
    "    process2.join()\n",
    "\n",
    "    print(g_list)\n"
   ]
  },
  {
   "cell_type": "markdown",
   "id": "42aae7c8-d66d-4bd8-9ba7-28aae75c4348",
   "metadata": {},
   "source": [
    "process2的输出仍是空列表，因为实质拷贝的是代码，g_list = []进行了拷贝，但对于列表的修改拷贝了却无法执行。只拷贝判断主模块上方的代码。\n",
    "\n",
    "加上判断主模块的条件也更有全局变量的感觉。\n",
    "\n",
    "\\_\\_mian\\_\\_也有了第二个意义，windows下避免多进程创建时递归拷贝代码创建子进程。"
   ]
  },
  {
   "cell_type": "markdown",
   "id": "8d8a02e5-5717-4414-87d2-89340c96fafd",
   "metadata": {},
   "source": [
    "### 2.主进程会等待所有子进程执行结束再结束"
   ]
  },
  {
   "cell_type": "code",
   "execution_count": null,
   "id": "df66144c-fc0c-47aa-8b7b-d157a6d0c38b",
   "metadata": {},
   "outputs": [],
   "source": [
    "import multiprocessing\n",
    "from time import sleep\n",
    "\n",
    "\n",
    "def task():\n",
    "    for i in range(10):\n",
    "        print('haha')\n",
    "\n",
    "\n",
    "if __name__ == '__main__':\n",
    "    sub_process = multiprocessing.Process(target=task)\n",
    "\n",
    "    sub_process.start()\n",
    "\n",
    "    print('over')\n"
   ]
  },
  {
   "cell_type": "markdown",
   "id": "c72e4e14-142e-4520-9aa2-344b5e2e5240",
   "metadata": {},
   "source": [
    "希望主进程结束时，不等待其他进程\n",
    "\n",
    "方法1：子进程守护主进程"
   ]
  },
  {
   "cell_type": "code",
   "execution_count": null,
   "id": "22bf8f41-828f-46ec-8a97-4349c9112039",
   "metadata": {},
   "outputs": [],
   "source": [
    "import multiprocessing\n",
    "from time import sleep\n",
    "\n",
    "\n",
    "def task():\n",
    "    for i in range(100):\n",
    "        print('haha')\n",
    "\n",
    "\n",
    "if __name__ == '__main__':\n",
    "    sub_process = multiprocessing.Process(target=task)\n",
    "\n",
    "    sub_process.daemon = True  # 守护主进程\n",
    "    sub_process.start()\n",
    "\n",
    "    sleep(3)\n",
    "    print('over')"
   ]
  },
  {
   "cell_type": "markdown",
   "id": "8e56c04a-0f5a-4004-902c-95d22ba4547e",
   "metadata": {},
   "source": [
    "方法2：主进程结束之前终止子进程（无论是否任务执行完都终止）"
   ]
  },
  {
   "cell_type": "code",
   "execution_count": null,
   "id": "0a2ebbb0-a6f1-47fe-822c-6da984e157fd",
   "metadata": {},
   "outputs": [],
   "source": [
    "import multiprocessing\n",
    "from time import sleep\n",
    "\n",
    "\n",
    "def task():\n",
    "    for i in range(100):\n",
    "        print('haha')\n",
    "\n",
    "\n",
    "if __name__ == '__main__':\n",
    "    sub_process = multiprocessing.Process(target=task)\n",
    "\n",
    "    sub_process.start()\n",
    "\n",
    "    sleep(3)\n",
    "    sub_process.terminate()\n",
    "    print('over')"
   ]
  }
 ],
 "metadata": {
  "kernelspec": {
   "display_name": "Python 3 (ipykernel)",
   "language": "python",
   "name": "python3"
  },
  "language_info": {
   "codemirror_mode": {
    "name": "ipython",
    "version": 3
   },
   "file_extension": ".py",
   "mimetype": "text/x-python",
   "name": "python",
   "nbconvert_exporter": "python",
   "pygments_lexer": "ipython3",
   "version": "3.9.12"
  }
 },
 "nbformat": 4,
 "nbformat_minor": 5
}
